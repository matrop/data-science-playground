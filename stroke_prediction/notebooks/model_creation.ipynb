{
 "cells": [
  {
   "cell_type": "code",
   "execution_count": 1,
   "metadata": {},
   "outputs": [],
   "source": [
    "# Data Manipulation\n",
    "import numpy as np\n",
    "import pandas as pd\n",
    "\n",
    "# Misc\n",
    "import os\n",
    "\n",
    "# Visualization\n",
    "import seaborn as sns\n",
    "import matplotlib.pyplot as plt\n",
    "\n",
    "# Machine Learning\n",
    "from sklearn.tree import DecisionTreeClassifier\n",
    "from sklearn.ensemble import RandomForestClassifier\n",
    "from sklearn.neighbors import KNeighborsClassifier\n",
    "from sklearn.metrics import f1_score\n",
    "\n",
    "# Model selection\n",
    "from sklearn.model_selection import StratifiedKFold\n",
    "import optuna"
   ]
  },
  {
   "cell_type": "markdown",
   "metadata": {},
   "source": [
    "## Load the data"
   ]
  },
  {
   "cell_type": "code",
   "execution_count": 2,
   "metadata": {},
   "outputs": [],
   "source": [
    "train_df = pd.read_csv(os.path.join(\"..\", \"data\", \"train_augmented_20.csv\"))  # Without SMOTE\n",
    "test_df = pd.read_csv(os.path.join(\"..\", \"data\", \"test.csv\"))\n",
    "\n",
    "# Encode categorical data but save encodings to dict\n",
    "cat_codes_train = {}\n",
    "cat_codes_test = {}\n",
    "for col in [\"gender\", \"work_type\", \"smoking_status\"]:\n",
    "    cat_codes_train[col] = {i: val for i, val in enumerate(train_df[col].astype(\"category\").cat.categories)}\n",
    "    cat_codes_test[col] = {i: val for i, val in enumerate(test_df[col].astype(\"category\").cat.categories)}\n",
    "    \n",
    "    train_df[col] = train_df[col].astype(\"category\").cat.codes\n",
    "    test_df[col] = test_df[col].astype(\"category\").cat.codes\n",
    "    \n",
    "# Separate labels from data\n",
    "X_train = train_df.drop(\"stroke\", axis=1).to_numpy()\n",
    "y_train = train_df.stroke.to_numpy()\n",
    "\n",
    "X_test = test_df.drop(\"stroke\", axis=1).to_numpy()\n",
    "y_test = test_df.stroke.to_numpy()"
   ]
  },
  {
   "cell_type": "code",
   "execution_count": 3,
   "metadata": {},
   "outputs": [
    {
     "data": {
      "text/html": [
       "<div>\n",
       "<style scoped>\n",
       "    .dataframe tbody tr th:only-of-type {\n",
       "        vertical-align: middle;\n",
       "    }\n",
       "\n",
       "    .dataframe tbody tr th {\n",
       "        vertical-align: top;\n",
       "    }\n",
       "\n",
       "    .dataframe thead th {\n",
       "        text-align: right;\n",
       "    }\n",
       "</style>\n",
       "<table border=\"1\" class=\"dataframe\">\n",
       "  <thead>\n",
       "    <tr style=\"text-align: right;\">\n",
       "      <th></th>\n",
       "      <th>gender</th>\n",
       "      <th>age</th>\n",
       "      <th>hypertension</th>\n",
       "      <th>heart_disease</th>\n",
       "      <th>ever_married</th>\n",
       "      <th>work_type</th>\n",
       "      <th>avg_glucose_level</th>\n",
       "      <th>bmi</th>\n",
       "      <th>smoking_status</th>\n",
       "      <th>urban_residence</th>\n",
       "      <th>is_obese</th>\n",
       "      <th>has_disease</th>\n",
       "      <th>stroke</th>\n",
       "    </tr>\n",
       "  </thead>\n",
       "  <tbody>\n",
       "    <tr>\n",
       "      <th>0</th>\n",
       "      <td>0</td>\n",
       "      <td>36.0</td>\n",
       "      <td>False</td>\n",
       "      <td>False</td>\n",
       "      <td>True</td>\n",
       "      <td>2</td>\n",
       "      <td>68.48</td>\n",
       "      <td>24.3</td>\n",
       "      <td>2</td>\n",
       "      <td>True</td>\n",
       "      <td>False</td>\n",
       "      <td>False</td>\n",
       "      <td>0</td>\n",
       "    </tr>\n",
       "    <tr>\n",
       "      <th>1</th>\n",
       "      <td>0</td>\n",
       "      <td>27.0</td>\n",
       "      <td>False</td>\n",
       "      <td>False</td>\n",
       "      <td>False</td>\n",
       "      <td>2</td>\n",
       "      <td>104.21</td>\n",
       "      <td>35.7</td>\n",
       "      <td>2</td>\n",
       "      <td>False</td>\n",
       "      <td>True</td>\n",
       "      <td>True</td>\n",
       "      <td>0</td>\n",
       "    </tr>\n",
       "    <tr>\n",
       "      <th>2</th>\n",
       "      <td>0</td>\n",
       "      <td>40.0</td>\n",
       "      <td>False</td>\n",
       "      <td>False</td>\n",
       "      <td>True</td>\n",
       "      <td>2</td>\n",
       "      <td>72.99</td>\n",
       "      <td>46.4</td>\n",
       "      <td>0</td>\n",
       "      <td>True</td>\n",
       "      <td>True</td>\n",
       "      <td>True</td>\n",
       "      <td>0</td>\n",
       "    </tr>\n",
       "    <tr>\n",
       "      <th>3</th>\n",
       "      <td>0</td>\n",
       "      <td>44.0</td>\n",
       "      <td>False</td>\n",
       "      <td>False</td>\n",
       "      <td>True</td>\n",
       "      <td>2</td>\n",
       "      <td>124.06</td>\n",
       "      <td>20.8</td>\n",
       "      <td>2</td>\n",
       "      <td>True</td>\n",
       "      <td>False</td>\n",
       "      <td>False</td>\n",
       "      <td>0</td>\n",
       "    </tr>\n",
       "    <tr>\n",
       "      <th>4</th>\n",
       "      <td>0</td>\n",
       "      <td>81.0</td>\n",
       "      <td>False</td>\n",
       "      <td>False</td>\n",
       "      <td>True</td>\n",
       "      <td>5</td>\n",
       "      <td>95.84</td>\n",
       "      <td>21.5</td>\n",
       "      <td>2</td>\n",
       "      <td>True</td>\n",
       "      <td>False</td>\n",
       "      <td>False</td>\n",
       "      <td>1</td>\n",
       "    </tr>\n",
       "  </tbody>\n",
       "</table>\n",
       "</div>"
      ],
      "text/plain": [
       "   gender   age  hypertension  heart_disease  ever_married  work_type  \\\n",
       "0       0  36.0         False          False          True          2   \n",
       "1       0  27.0         False          False         False          2   \n",
       "2       0  40.0         False          False          True          2   \n",
       "3       0  44.0         False          False          True          2   \n",
       "4       0  81.0         False          False          True          5   \n",
       "\n",
       "   avg_glucose_level   bmi  smoking_status  urban_residence  is_obese  \\\n",
       "0              68.48  24.3               2             True     False   \n",
       "1             104.21  35.7               2            False      True   \n",
       "2              72.99  46.4               0             True      True   \n",
       "3             124.06  20.8               2             True     False   \n",
       "4              95.84  21.5               2             True     False   \n",
       "\n",
       "   has_disease  stroke  \n",
       "0        False       0  \n",
       "1         True       0  \n",
       "2         True       0  \n",
       "3        False       0  \n",
       "4        False       1  "
      ]
     },
     "execution_count": 3,
     "metadata": {},
     "output_type": "execute_result"
    }
   ],
   "source": [
    "train_df.head()"
   ]
  },
  {
   "cell_type": "code",
   "execution_count": 21,
   "metadata": {},
   "outputs": [
    {
     "name": "stdout",
     "output_type": "stream",
     "text": [
      "Fraction of stroke samples in train data: 16.65%\n",
      "Fraction of stroke samples in test data: 4.90%\n"
     ]
    }
   ],
   "source": [
    "print(f\"Fraction of stroke samples in train data: {100 * train_df.stroke.sum() / len(train_df):.2f}%\")\n",
    "print(f\"Fraction of stroke samples in test data: {100 * test_df.stroke.sum() / len(test_df):.2f}%\")"
   ]
  },
  {
   "cell_type": "markdown",
   "metadata": {},
   "source": [
    "## Model selection"
   ]
  },
  {
   "cell_type": "markdown",
   "metadata": {},
   "source": [
    "We have a plethora of models to choose from. In addition, we can try different train sets (differing in the strength of augmentation). The models we will try are the following:\n",
    "\n",
    "- Decision Tree\n",
    "- Random Forest\n",
    "- kNN\n",
    "- SVM\n",
    "\n",
    "Keep in mind that, in order to be 100% correct, we would need to conduct a nested cross-validation (CV) in order to perform both hyperparameter selection and model selection on the train dataset. We will skip this and use a single CV to find hyperparameters for each model. The resulting model will be tested in the test dataset.\n",
    "\n",
    "For the selection of hyperparameters we will use optuna. This is a framework which enables us to use bayesian optimization to search the hyperparameter space as opposed to random search or grid search. The metric which we'll use is the F1-score. Being a standard classification metric, we can use it under the assumption that precision (fraction of false positives) and recall (fraction of false negatives) are both equally important to us."
   ]
  },
  {
   "cell_type": "code",
   "execution_count": 5,
   "metadata": {},
   "outputs": [],
   "source": [
    "def perform_cv(model_class, params, score):\n",
    "    \"\"\"\n",
    "    Performs a 5-fold stratified CV with varying models, hyperparameters and scoring function\n",
    "    \"\"\"\n",
    "    cv = StratifiedKFold(n_splits=5, shuffle=True, random_state=42)\n",
    "    cv_results = []\n",
    "    \n",
    "    for train_index, val_index in cv.split(X_train, y_train):\n",
    "        model = model_class(**params)\n",
    "        model.fit(X_train[train_index], y_train[train_index])\n",
    "        \n",
    "        y_pred = model.predict(X_train[val_index])\n",
    "        cv_results.append(score(y_train[val_index], y_pred))\n",
    "        \n",
    "    return np.mean(cv_results)  "
   ]
  },
  {
   "cell_type": "markdown",
   "metadata": {},
   "source": [
    "### Decision Tree"
   ]
  },
  {
   "cell_type": "code",
   "execution_count": 6,
   "metadata": {},
   "outputs": [],
   "source": [
    "model_class = DecisionTreeClassifier\n",
    "score = f1_score"
   ]
  },
  {
   "cell_type": "code",
   "execution_count": 7,
   "metadata": {},
   "outputs": [
    {
     "name": "stderr",
     "output_type": "stream",
     "text": [
      "\u001b[32m[I 2021-05-02 12:27:32,350]\u001b[0m A new study created in memory with name: no-name-b9bd8d90-7c19-415d-9817-c9f4c8c4fb5c\u001b[0m\n"
     ]
    }
   ],
   "source": [
    "study = optuna.create_study(direction=\"maximize\")  # We want to maximize the F1 score\n",
    "\n",
    "def objective_cv(trial):\n",
    "    params = {\n",
    "        \"max_depth\": trial.suggest_int(\"max_depth\", 3, 30),\n",
    "        \"min_samples_split\": trial.suggest_int(\"min_samples_split\", 2, 5),\n",
    "        \"max_features\": trial.suggest_categorical(\"max_features\", [\"sqrt\", None]),\n",
    "        \"random_state\": 42,\n",
    "    }\n",
    "    \n",
    "    # Perform cross validation\n",
    "    return perform_cv(model_class, params, f1_score)"
   ]
  },
  {
   "cell_type": "code",
   "execution_count": null,
   "metadata": {
    "scrolled": true
   },
   "outputs": [],
   "source": [
    "study.optimize(objective_cv, n_trials=200, n_jobs=6)"
   ]
  },
  {
   "cell_type": "code",
   "execution_count": 9,
   "metadata": {},
   "outputs": [
    {
     "name": "stdout",
     "output_type": "stream",
     "text": [
      "With the best trial we achieve a mean F1 score of 0.6489 over all splits\n"
     ]
    }
   ],
   "source": [
    "print(f\"With the best trial we achieve a mean F1 score of {study.best_trial.value:.4f} over all splits\")"
   ]
  },
  {
   "cell_type": "code",
   "execution_count": 10,
   "metadata": {},
   "outputs": [
    {
     "name": "stdout",
     "output_type": "stream",
     "text": [
      "On the independent test set, we achieve an F1 score of 0.2105 with DecisionTreeClassifier\n"
     ]
    }
   ],
   "source": [
    "tuned_model = model_class(**study.best_trial.params)\n",
    "tuned_model.fit(X_train, y_train)\n",
    "\n",
    "y_pred = tuned_model.predict(X_test)\n",
    "f1_test = f1_score(y_test, y_pred)\n",
    "\n",
    "print(f\"On the independent test set, we achieve an F1 score of {f1_test:.4f} with {model_class.__name__}\")"
   ]
  },
  {
   "cell_type": "markdown",
   "metadata": {},
   "source": [
    "### RandomForest"
   ]
  },
  {
   "cell_type": "code",
   "execution_count": 11,
   "metadata": {},
   "outputs": [],
   "source": [
    "model_class = RandomForestClassifier\n",
    "score = f1_score"
   ]
  },
  {
   "cell_type": "code",
   "execution_count": 12,
   "metadata": {},
   "outputs": [
    {
     "name": "stderr",
     "output_type": "stream",
     "text": [
      "\u001b[32m[I 2021-05-02 12:27:38,454]\u001b[0m A new study created in memory with name: no-name-5f0deea2-f5d3-490c-bc8c-943ef0f8eab7\u001b[0m\n"
     ]
    }
   ],
   "source": [
    "study = optuna.create_study(direction=\"maximize\")  # We want to maximize the F1 score\n",
    "\n",
    "def objective_cv(trial):\n",
    "    params = {\n",
    "        \"max_depth\": trial.suggest_int(\"max_depth\", 3, 25),\n",
    "        \"min_samples_split\": trial.suggest_int(\"min_samples_split\", 2, 5),\n",
    "        \"max_features\": trial.suggest_categorical(\"max_features\", [\"sqrt\", None]),\n",
    "        \"n_estimators\": trial.suggest_int(\"n_estimators\", 5, 100),\n",
    "        \"random_state\": 42,\n",
    "    }\n",
    "    \n",
    "    # Perform cross validation\n",
    "    return perform_cv(model_class, params, f1_score)"
   ]
  },
  {
   "cell_type": "code",
   "execution_count": null,
   "metadata": {
    "scrolled": true
   },
   "outputs": [],
   "source": [
    "study.optimize(objective_cv, n_trials=200, n_jobs=6)"
   ]
  },
  {
   "cell_type": "code",
   "execution_count": 14,
   "metadata": {},
   "outputs": [
    {
     "name": "stdout",
     "output_type": "stream",
     "text": [
      "With the best trial we achieve a mean F1 score of 0.7206 over all splits\n"
     ]
    }
   ],
   "source": [
    "print(f\"With the best trial we achieve a mean F1 score of {study.best_trial.value:.4f} over all splits\")"
   ]
  },
  {
   "cell_type": "code",
   "execution_count": 15,
   "metadata": {
    "scrolled": true
   },
   "outputs": [
    {
     "name": "stdout",
     "output_type": "stream",
     "text": [
      "On the independent test set, we achieve an F1 score of 0.2020 with RandomForestClassifier\n"
     ]
    }
   ],
   "source": [
    "tuned_model = model_class(**study.best_trial.params)\n",
    "tuned_model.fit(X_train, y_train)\n",
    "\n",
    "y_pred = tuned_model.predict(X_test)\n",
    "f1_test = f1_score(y_test, y_pred)\n",
    "\n",
    "print(f\"On the independent test set, we achieve an F1 score of {f1_test:.4f} with {model_class.__name__}\")"
   ]
  },
  {
   "cell_type": "markdown",
   "metadata": {},
   "source": [
    "### k-Nearest Neighbor"
   ]
  },
  {
   "cell_type": "code",
   "execution_count": 16,
   "metadata": {},
   "outputs": [],
   "source": [
    "model_class = KNeighborsClassifier\n",
    "score = f1_score"
   ]
  },
  {
   "cell_type": "code",
   "execution_count": 17,
   "metadata": {},
   "outputs": [
    {
     "name": "stderr",
     "output_type": "stream",
     "text": [
      "\u001b[32m[I 2021-05-02 12:29:49,908]\u001b[0m A new study created in memory with name: no-name-c39a324b-c425-4e0f-a011-df5b165199f1\u001b[0m\n"
     ]
    }
   ],
   "source": [
    "study = optuna.create_study(direction=\"maximize\")  # We want to maximize the F1 score\n",
    "\n",
    "def objective_cv(trial):\n",
    "    params = {\n",
    "        \"n_neighbors\": trial.suggest_int(\"n_neighbors\", 3, 10),\n",
    "        \"weights\": trial.suggest_categorical(\"weights\", [\"uniform\", \"distance\"])\n",
    "    }\n",
    "    \n",
    "    # Perform cross validation\n",
    "    return perform_cv(model_class, params, f1_score)"
   ]
  },
  {
   "cell_type": "code",
   "execution_count": null,
   "metadata": {
    "scrolled": false
   },
   "outputs": [],
   "source": [
    "study.optimize(objective_cv, n_trials=16, n_jobs=6)"
   ]
  },
  {
   "cell_type": "code",
   "execution_count": 19,
   "metadata": {},
   "outputs": [
    {
     "name": "stdout",
     "output_type": "stream",
     "text": [
      "With the best trial we achieve a mean F1 score of 0.7332 over all splits\n"
     ]
    }
   ],
   "source": [
    "print(f\"With the best trial we achieve a mean F1 score of {study.best_trial.value:.4f} over all splits\")"
   ]
  },
  {
   "cell_type": "code",
   "execution_count": 20,
   "metadata": {
    "scrolled": true
   },
   "outputs": [
    {
     "name": "stdout",
     "output_type": "stream",
     "text": [
      "On the independent test set, we achieve an F1 score of 0.2446 with KNeighborsClassifier\n"
     ]
    }
   ],
   "source": [
    "tuned_model = model_class(**study.best_trial.params)\n",
    "tuned_model.fit(X_train, y_train)\n",
    "\n",
    "y_pred = tuned_model.predict(X_test)\n",
    "f1_test = f1_score(y_test, y_pred)\n",
    "\n",
    "print(f\"On the independent test set, we achieve an F1 score of {f1_test:.4f} with {model_class.__name__}\")"
   ]
  }
 ],
 "metadata": {
  "kernelspec": {
   "display_name": "Python 3",
   "language": "python",
   "name": "python3"
  },
  "language_info": {
   "codemirror_mode": {
    "name": "ipython",
    "version": 3
   },
   "file_extension": ".py",
   "mimetype": "text/x-python",
   "name": "python",
   "nbconvert_exporter": "python",
   "pygments_lexer": "ipython3",
   "version": "3.8.5"
  },
  "latex_envs": {
   "LaTeX_envs_menu_present": true,
   "autoclose": false,
   "autocomplete": true,
   "bibliofile": "biblio.bib",
   "cite_by": "apalike",
   "current_citInitial": 1,
   "eqLabelWithNumbers": true,
   "eqNumInitial": 1,
   "hotkeys": {
    "equation": "Ctrl-E",
    "itemize": "Ctrl-I"
   },
   "labels_anchors": false,
   "latex_user_defs": false,
   "report_style_numbering": false,
   "user_envs_cfg": false
  }
 },
 "nbformat": 4,
 "nbformat_minor": 4
}
