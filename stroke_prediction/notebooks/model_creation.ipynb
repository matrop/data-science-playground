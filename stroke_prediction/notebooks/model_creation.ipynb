{
 "cells": [
  {
   "cell_type": "code",
   "execution_count": 1,
   "metadata": {},
   "outputs": [],
   "source": [
    "# Data Manipulation\n",
    "import numpy as np\n",
    "import pandas as pd\n",
    "\n",
    "# Misc\n",
    "import os\n",
    "\n",
    "# Visualization\n",
    "import seaborn as sns\n",
    "import matplotlib.pyplot as plt\n",
    "\n",
    "# Machine Learning\n",
    "from sklearn.tree import DecisionTreeClassifier\n",
    "from sklearn.ensemble import RandomForestClassifier\n",
    "from sklearn.neighbors import KNeighborsClassifier\n",
    "from sklearn.svm import SVC\n",
    "from sklearn.metrics import f1_score, classification_report, confusion_matrix\n",
    "\n",
    "# Model selection\n",
    "from sklearn.model_selection import StratifiedKFold\n",
    "import optuna"
   ]
  },
  {
   "cell_type": "markdown",
   "metadata": {},
   "source": [
    "## Load the data"
   ]
  },
  {
   "cell_type": "code",
   "execution_count": 2,
   "metadata": {},
   "outputs": [],
   "source": [
    "train_df = pd.read_csv(os.path.join(\"..\", \"data\", \"train_augmented_50.csv\"))\n",
    "test_df = pd.read_csv(os.path.join(\"..\", \"data\", \"test.csv\"))\n",
    "\n",
    "# Encode categorical data but save encodings to dict\n",
    "cat_codes_train = {}\n",
    "cat_codes_test = {}\n",
    "for col in [\"gender\", \"work_type\", \"smoking_status\"]:\n",
    "    cat_codes_train[col] = {i: val for i, val in enumerate(train_df[col].astype(\"category\").cat.categories)}\n",
    "    cat_codes_test[col] = {i: val for i, val in enumerate(test_df[col].astype(\"category\").cat.categories)}\n",
    "    \n",
    "    train_df[col] = train_df[col].astype(\"category\").cat.codes\n",
    "    test_df[col] = test_df[col].astype(\"category\").cat.codes\n",
    "    \n",
    "# Separate labels from data\n",
    "X_train = train_df.drop(\"stroke\", axis=1).to_numpy()\n",
    "y_train = train_df.stroke.to_numpy()\n",
    "\n",
    "X_test = test_df.drop(\"stroke\", axis=1).to_numpy()\n",
    "y_test = test_df.stroke.to_numpy()"
   ]
  },
  {
   "cell_type": "code",
   "execution_count": 3,
   "metadata": {},
   "outputs": [
    {
     "data": {
      "text/html": [
       "<div>\n",
       "<style scoped>\n",
       "    .dataframe tbody tr th:only-of-type {\n",
       "        vertical-align: middle;\n",
       "    }\n",
       "\n",
       "    .dataframe tbody tr th {\n",
       "        vertical-align: top;\n",
       "    }\n",
       "\n",
       "    .dataframe thead th {\n",
       "        text-align: right;\n",
       "    }\n",
       "</style>\n",
       "<table border=\"1\" class=\"dataframe\">\n",
       "  <thead>\n",
       "    <tr style=\"text-align: right;\">\n",
       "      <th></th>\n",
       "      <th>gender</th>\n",
       "      <th>age</th>\n",
       "      <th>hypertension</th>\n",
       "      <th>heart_disease</th>\n",
       "      <th>ever_married</th>\n",
       "      <th>work_type</th>\n",
       "      <th>avg_glucose_level</th>\n",
       "      <th>bmi</th>\n",
       "      <th>smoking_status</th>\n",
       "      <th>urban_residence</th>\n",
       "      <th>is_obese</th>\n",
       "      <th>has_disease</th>\n",
       "      <th>stroke</th>\n",
       "    </tr>\n",
       "  </thead>\n",
       "  <tbody>\n",
       "    <tr>\n",
       "      <th>0</th>\n",
       "      <td>0</td>\n",
       "      <td>36.0</td>\n",
       "      <td>False</td>\n",
       "      <td>False</td>\n",
       "      <td>True</td>\n",
       "      <td>2</td>\n",
       "      <td>68.48</td>\n",
       "      <td>24.3</td>\n",
       "      <td>2</td>\n",
       "      <td>True</td>\n",
       "      <td>False</td>\n",
       "      <td>False</td>\n",
       "      <td>0</td>\n",
       "    </tr>\n",
       "    <tr>\n",
       "      <th>1</th>\n",
       "      <td>0</td>\n",
       "      <td>27.0</td>\n",
       "      <td>False</td>\n",
       "      <td>False</td>\n",
       "      <td>False</td>\n",
       "      <td>2</td>\n",
       "      <td>104.21</td>\n",
       "      <td>35.7</td>\n",
       "      <td>2</td>\n",
       "      <td>False</td>\n",
       "      <td>True</td>\n",
       "      <td>True</td>\n",
       "      <td>0</td>\n",
       "    </tr>\n",
       "    <tr>\n",
       "      <th>2</th>\n",
       "      <td>0</td>\n",
       "      <td>40.0</td>\n",
       "      <td>False</td>\n",
       "      <td>False</td>\n",
       "      <td>True</td>\n",
       "      <td>2</td>\n",
       "      <td>72.99</td>\n",
       "      <td>46.4</td>\n",
       "      <td>0</td>\n",
       "      <td>True</td>\n",
       "      <td>True</td>\n",
       "      <td>True</td>\n",
       "      <td>0</td>\n",
       "    </tr>\n",
       "    <tr>\n",
       "      <th>3</th>\n",
       "      <td>0</td>\n",
       "      <td>44.0</td>\n",
       "      <td>False</td>\n",
       "      <td>False</td>\n",
       "      <td>True</td>\n",
       "      <td>2</td>\n",
       "      <td>124.06</td>\n",
       "      <td>20.8</td>\n",
       "      <td>2</td>\n",
       "      <td>True</td>\n",
       "      <td>False</td>\n",
       "      <td>False</td>\n",
       "      <td>0</td>\n",
       "    </tr>\n",
       "    <tr>\n",
       "      <th>4</th>\n",
       "      <td>0</td>\n",
       "      <td>81.0</td>\n",
       "      <td>False</td>\n",
       "      <td>False</td>\n",
       "      <td>True</td>\n",
       "      <td>5</td>\n",
       "      <td>95.84</td>\n",
       "      <td>21.5</td>\n",
       "      <td>2</td>\n",
       "      <td>True</td>\n",
       "      <td>False</td>\n",
       "      <td>False</td>\n",
       "      <td>1</td>\n",
       "    </tr>\n",
       "  </tbody>\n",
       "</table>\n",
       "</div>"
      ],
      "text/plain": [
       "   gender   age  hypertension  heart_disease  ever_married  work_type  \\\n",
       "0       0  36.0         False          False          True          2   \n",
       "1       0  27.0         False          False         False          2   \n",
       "2       0  40.0         False          False          True          2   \n",
       "3       0  44.0         False          False          True          2   \n",
       "4       0  81.0         False          False          True          5   \n",
       "\n",
       "   avg_glucose_level   bmi  smoking_status  urban_residence  is_obese  \\\n",
       "0              68.48  24.3               2             True     False   \n",
       "1             104.21  35.7               2            False      True   \n",
       "2              72.99  46.4               0             True      True   \n",
       "3             124.06  20.8               2             True     False   \n",
       "4              95.84  21.5               2             True     False   \n",
       "\n",
       "   has_disease  stroke  \n",
       "0        False       0  \n",
       "1         True       0  \n",
       "2         True       0  \n",
       "3        False       0  \n",
       "4        False       1  "
      ]
     },
     "execution_count": 3,
     "metadata": {},
     "output_type": "execute_result"
    }
   ],
   "source": [
    "train_df.head()"
   ]
  },
  {
   "cell_type": "code",
   "execution_count": 4,
   "metadata": {},
   "outputs": [
    {
     "name": "stdout",
     "output_type": "stream",
     "text": [
      "Fraction of stroke samples in train data: 33.33%\n",
      "Fraction of stroke samples in test data: 4.90%\n"
     ]
    }
   ],
   "source": [
    "print(f\"Fraction of stroke samples in train data: {100 * train_df.stroke.sum() / len(train_df):.2f}%\")\n",
    "print(f\"Fraction of stroke samples in test data: {100 * test_df.stroke.sum() / len(test_df):.2f}%\")"
   ]
  },
  {
   "cell_type": "markdown",
   "metadata": {},
   "source": [
    "## Model selection"
   ]
  },
  {
   "cell_type": "markdown",
   "metadata": {},
   "source": [
    "We have a plethora of models to choose from. In addition, we can try different train sets (differing in the strength of augmentation). The models we will try are the following:\n",
    "\n",
    "- Decision Tree\n",
    "- Random Forest\n",
    "- kNN\n",
    "- SVM\n",
    "\n",
    "Keep in mind that, in order to be 100% correct, we would need to conduct a nested cross-validation (CV) in order to perform both hyperparameter selection and model selection on the train dataset. We will skip this and use a single CV to find hyperparameters for each model. The resulting model will be tested in the test dataset.\n",
    "\n",
    "For the selection of hyperparameters we will use optuna. This is a framework which enables us to use bayesian optimization to search the hyperparameter space as opposed to random search or grid search. The metric which we'll use is the F1-score. Being a standard classification metric, we can use it under the assumption that precision (fraction of false positives) and recall (fraction of false negatives) are both equally important to us."
   ]
  },
  {
   "cell_type": "code",
   "execution_count": 5,
   "metadata": {},
   "outputs": [],
   "source": [
    "def perform_cv(model_class, params, score):\n",
    "    \"\"\"\n",
    "    Performs a 5-fold stratified CV with varying models, hyperparameters and scoring function\n",
    "    \"\"\"\n",
    "    cv = StratifiedKFold(n_splits=5, shuffle=True, random_state=42)\n",
    "    cv_results = []\n",
    "    \n",
    "    for train_index, val_index in cv.split(X_train, y_train):\n",
    "        model = model_class(**params)\n",
    "        model.fit(X_train[train_index], y_train[train_index])\n",
    "        \n",
    "        y_pred = model.predict(X_train[val_index])\n",
    "        cv_results.append(score(y_train[val_index], y_pred))\n",
    "        \n",
    "    return np.mean(cv_results)  "
   ]
  },
  {
   "cell_type": "code",
   "execution_count": 6,
   "metadata": {},
   "outputs": [],
   "source": [
    "def print_result_summary(y_test, y_pred):\n",
    "    print(classification_report(y_test, y_pred, target_names=[\"Healthy\", \"Stroke\"]))\n",
    "\n",
    "    print(\"=======================================================\\n\")\n",
    "    categories = [\"TN\", \"FP\", \"FN\", \"TP\"]\n",
    "    conf_mat = confusion_matrix(y_test, y_pred).flatten()\n",
    "\n",
    "    for cat, metric in zip(categories, conf_mat):\n",
    "        print(f\"{cat}: {metric}\")"
   ]
  },
  {
   "cell_type": "markdown",
   "metadata": {},
   "source": [
    "### Decision Tree"
   ]
  },
  {
   "cell_type": "code",
   "execution_count": 7,
   "metadata": {},
   "outputs": [],
   "source": [
    "model_class = DecisionTreeClassifier\n",
    "score = f1_score"
   ]
  },
  {
   "cell_type": "code",
   "execution_count": 8,
   "metadata": {},
   "outputs": [
    {
     "name": "stderr",
     "output_type": "stream",
     "text": [
      "\u001b[32m[I 2021-05-07 11:20:27,194]\u001b[0m A new study created in memory with name: no-name-e6c4f6bf-26bf-4d7c-9e26-56f3cf155795\u001b[0m\n"
     ]
    }
   ],
   "source": [
    "study = optuna.create_study(direction=\"maximize\")  # We want to maximize the F1 score\n",
    "\n",
    "def objective_cv(trial):\n",
    "    params = {\n",
    "        \"max_depth\": trial.suggest_int(\"max_depth\", 3, 30),\n",
    "        \"min_samples_split\": trial.suggest_int(\"min_samples_split\", 2, 5),\n",
    "        \"max_features\": trial.suggest_categorical(\"max_features\", [\"sqrt\", None]),\n",
    "        \"random_state\": 42,\n",
    "    }\n",
    "    \n",
    "    # Perform cross validation\n",
    "    return perform_cv(model_class, params, f1_score)"
   ]
  },
  {
   "cell_type": "code",
   "execution_count": 9,
   "metadata": {
    "scrolled": true
   },
   "outputs": [
    {
     "name": "stderr",
     "output_type": "stream",
     "text": [
      "\u001b[32m[I 2021-05-07 11:20:27,317]\u001b[0m Trial 1 finished with value: 0.6671447101940743 and parameters: {'max_depth': 3, 'min_samples_split': 2, 'max_features': 'sqrt'}. Best is trial 1 with value: 0.6671447101940743.\u001b[0m\n",
      "\u001b[32m[I 2021-05-07 11:20:27,351]\u001b[0m Trial 3 finished with value: 0.7985162260490701 and parameters: {'max_depth': 18, 'min_samples_split': 5, 'max_features': 'sqrt'}. Best is trial 3 with value: 0.7985162260490701.\u001b[0m\n",
      "\u001b[32m[I 2021-05-07 11:20:27,367]\u001b[0m Trial 0 finished with value: 0.7953658681328213 and parameters: {'max_depth': 30, 'min_samples_split': 4, 'max_features': 'sqrt'}. Best is trial 3 with value: 0.7985162260490701.\u001b[0m\n",
      "\u001b[32m[I 2021-05-07 11:20:27,377]\u001b[0m Trial 2 finished with value: 0.7677833459572319 and parameters: {'max_depth': 7, 'min_samples_split': 4, 'max_features': None}. Best is trial 3 with value: 0.7985162260490701.\u001b[0m\n",
      "\u001b[32m[I 2021-05-07 11:20:27,393]\u001b[0m Trial 4 finished with value: 0.7745655677369419 and parameters: {'max_depth': 8, 'min_samples_split': 2, 'max_features': None}. Best is trial 3 with value: 0.7985162260490701.\u001b[0m\n",
      "\u001b[32m[I 2021-05-07 11:20:27,411]\u001b[0m Trial 5 finished with value: 0.7683204606789094 and parameters: {'max_depth': 7, 'min_samples_split': 2, 'max_features': None}. Best is trial 3 with value: 0.7985162260490701.\u001b[0m\n",
      "\u001b[32m[I 2021-05-07 11:20:27,495]\u001b[0m Trial 7 finished with value: 0.7267006243146565 and parameters: {'max_depth': 7, 'min_samples_split': 3, 'max_features': 'sqrt'}. Best is trial 3 with value: 0.7985162260490701.\u001b[0m\n",
      "\u001b[32m[I 2021-05-07 11:20:27,523]\u001b[0m Trial 9 finished with value: 0.7747381059408285 and parameters: {'max_depth': 9, 'min_samples_split': 2, 'max_features': 'sqrt'}. Best is trial 3 with value: 0.7985162260490701.\u001b[0m\n",
      "\u001b[32m[I 2021-05-07 11:20:27,537]\u001b[0m Trial 8 finished with value: 0.8110830136764928 and parameters: {'max_depth': 16, 'min_samples_split': 5, 'max_features': 'sqrt'}. Best is trial 8 with value: 0.8110830136764928.\u001b[0m\n",
      "\u001b[32m[I 2021-05-07 11:20:27,544]\u001b[0m Trial 6 finished with value: 0.803739216788335 and parameters: {'max_depth': 12, 'min_samples_split': 3, 'max_features': None}. Best is trial 8 with value: 0.8110830136764928.\u001b[0m\n",
      "\u001b[32m[I 2021-05-07 11:20:27,581]\u001b[0m Trial 11 finished with value: 0.7935484831873473 and parameters: {'max_depth': 22, 'min_samples_split': 4, 'max_features': 'sqrt'}. Best is trial 8 with value: 0.8110830136764928.\u001b[0m\n",
      "\u001b[32m[I 2021-05-07 11:20:27,613]\u001b[0m Trial 10 finished with value: 0.8107315625425817 and parameters: {'max_depth': 24, 'min_samples_split': 3, 'max_features': None}. Best is trial 8 with value: 0.8110830136764928.\u001b[0m\n",
      "\u001b[32m[I 2021-05-07 11:20:27,660]\u001b[0m Trial 12 finished with value: 0.7645969131617721 and parameters: {'max_depth': 10, 'min_samples_split': 4, 'max_features': 'sqrt'}. Best is trial 8 with value: 0.8110830136764928.\u001b[0m\n",
      "\u001b[32m[I 2021-05-07 11:20:27,696]\u001b[0m Trial 15 finished with value: 0.800212754222011 and parameters: {'max_depth': 20, 'min_samples_split': 5, 'max_features': 'sqrt'}. Best is trial 8 with value: 0.8110830136764928.\u001b[0m\n",
      "\u001b[32m[I 2021-05-07 11:20:27,728]\u001b[0m Trial 13 finished with value: 0.7860803530164359 and parameters: {'max_depth': 10, 'min_samples_split': 3, 'max_features': None}. Best is trial 8 with value: 0.8110830136764928.\u001b[0m\n",
      "\u001b[32m[I 2021-05-07 11:20:27,763]\u001b[0m Trial 14 finished with value: 0.8151531308063259 and parameters: {'max_depth': 15, 'min_samples_split': 3, 'max_features': None}. Best is trial 14 with value: 0.8151531308063259.\u001b[0m\n",
      "\u001b[32m[I 2021-05-07 11:20:27,789]\u001b[0m Trial 16 finished with value: 0.8081883027590726 and parameters: {'max_depth': 15, 'min_samples_split': 5, 'max_features': None}. Best is trial 14 with value: 0.8151531308063259.\u001b[0m\n",
      "\u001b[32m[I 2021-05-07 11:20:27,830]\u001b[0m Trial 17 finished with value: 0.8060002702724949 and parameters: {'max_depth': 26, 'min_samples_split': 5, 'max_features': None}. Best is trial 14 with value: 0.8151531308063259.\u001b[0m\n",
      "\u001b[32m[I 2021-05-07 11:20:27,857]\u001b[0m Trial 18 finished with value: 0.8060002702724949 and parameters: {'max_depth': 26, 'min_samples_split': 5, 'max_features': None}. Best is trial 14 with value: 0.8151531308063259.\u001b[0m\n",
      "\u001b[32m[I 2021-05-07 11:20:27,890]\u001b[0m Trial 19 finished with value: 0.8107315625425817 and parameters: {'max_depth': 26, 'min_samples_split': 3, 'max_features': None}. Best is trial 14 with value: 0.8151531308063259.\u001b[0m\n",
      "\u001b[32m[I 2021-05-07 11:20:27,917]\u001b[0m Trial 20 finished with value: 0.8060002702724949 and parameters: {'max_depth': 25, 'min_samples_split': 5, 'max_features': None}. Best is trial 14 with value: 0.8151531308063259.\u001b[0m\n",
      "\u001b[32m[I 2021-05-07 11:20:27,965]\u001b[0m Trial 21 finished with value: 0.8098291587595385 and parameters: {'max_depth': 14, 'min_samples_split': 5, 'max_features': None}. Best is trial 14 with value: 0.8151531308063259.\u001b[0m\n",
      "\u001b[32m[I 2021-05-07 11:20:27,990]\u001b[0m Trial 22 finished with value: 0.8119186439279709 and parameters: {'max_depth': 14, 'min_samples_split': 3, 'max_features': None}. Best is trial 14 with value: 0.8151531308063259.\u001b[0m\n",
      "\u001b[32m[I 2021-05-07 11:20:28,021]\u001b[0m Trial 24 finished with value: 0.783354070001063 and parameters: {'max_depth': 15, 'min_samples_split': 3, 'max_features': 'sqrt'}. Best is trial 14 with value: 0.8151531308063259.\u001b[0m\n",
      "\u001b[32m[I 2021-05-07 11:20:28,037]\u001b[0m Trial 23 finished with value: 0.8151531308063259 and parameters: {'max_depth': 15, 'min_samples_split': 3, 'max_features': None}. Best is trial 14 with value: 0.8151531308063259.\u001b[0m\n",
      "\u001b[32m[I 2021-05-07 11:20:28,048]\u001b[0m Trial 25 finished with value: 0.7965778816093436 and parameters: {'max_depth': 15, 'min_samples_split': 4, 'max_features': 'sqrt'}. Best is trial 14 with value: 0.8151531308063259.\u001b[0m\n",
      "\u001b[32m[I 2021-05-07 11:20:28,118]\u001b[0m Trial 26 finished with value: 0.8151531308063259 and parameters: {'max_depth': 15, 'min_samples_split': 3, 'max_features': None}. Best is trial 14 with value: 0.8151531308063259.\u001b[0m\n",
      "\u001b[32m[I 2021-05-07 11:20:28,167]\u001b[0m Trial 27 finished with value: 0.8148406061263573 and parameters: {'max_depth': 17, 'min_samples_split': 3, 'max_features': None}. Best is trial 14 with value: 0.8151531308063259.\u001b[0m\n",
      "\u001b[32m[I 2021-05-07 11:20:28,189]\u001b[0m Trial 28 finished with value: 0.8148406061263573 and parameters: {'max_depth': 17, 'min_samples_split': 3, 'max_features': None}. Best is trial 14 with value: 0.8151531308063259.\u001b[0m\n",
      "\u001b[32m[I 2021-05-07 11:20:28,215]\u001b[0m Trial 29 finished with value: 0.8070159326243747 and parameters: {'max_depth': 19, 'min_samples_split': 4, 'max_features': None}. Best is trial 14 with value: 0.8151531308063259.\u001b[0m\n",
      "\u001b[32m[I 2021-05-07 11:20:28,251]\u001b[0m Trial 31 finished with value: 0.8066669032837742 and parameters: {'max_depth': 18, 'min_samples_split': 3, 'max_features': None}. Best is trial 14 with value: 0.8151531308063259.\u001b[0m\n",
      "\u001b[32m[I 2021-05-07 11:20:28,281]\u001b[0m Trial 30 finished with value: 0.8066669032837742 and parameters: {'max_depth': 18, 'min_samples_split': 3, 'max_features': None}. Best is trial 14 with value: 0.8151531308063259.\u001b[0m\n",
      "\u001b[32m[I 2021-05-07 11:20:28,326]\u001b[0m Trial 32 finished with value: 0.8100331498927236 and parameters: {'max_depth': 20, 'min_samples_split': 3, 'max_features': None}. Best is trial 14 with value: 0.8151531308063259.\u001b[0m\n",
      "\u001b[32m[I 2021-05-07 11:20:28,398]\u001b[0m Trial 34 finished with value: 0.8033054105948428 and parameters: {'max_depth': 12, 'min_samples_split': 4, 'max_features': None}. Best is trial 14 with value: 0.8151531308063259.\u001b[0m\n",
      "\u001b[32m[I 2021-05-07 11:20:28,406]\u001b[0m Trial 33 finished with value: 0.8034188348781738 and parameters: {'max_depth': 12, 'min_samples_split': 2, 'max_features': None}. Best is trial 14 with value: 0.8151531308063259.\u001b[0m\n",
      "\u001b[32m[I 2021-05-07 11:20:28,433]\u001b[0m Trial 35 finished with value: 0.8034188348781738 and parameters: {'max_depth': 12, 'min_samples_split': 2, 'max_features': None}. Best is trial 14 with value: 0.8151531308063259.\u001b[0m\n",
      "\u001b[32m[I 2021-05-07 11:20:28,465]\u001b[0m Trial 36 finished with value: 0.8068403885515911 and parameters: {'max_depth': 13, 'min_samples_split': 3, 'max_features': None}. Best is trial 14 with value: 0.8151531308063259.\u001b[0m\n",
      "\u001b[32m[I 2021-05-07 11:20:28,498]\u001b[0m Trial 37 finished with value: 0.8034188348781738 and parameters: {'max_depth': 12, 'min_samples_split': 2, 'max_features': None}. Best is trial 14 with value: 0.8151531308063259.\u001b[0m\n"
     ]
    },
    {
     "name": "stderr",
     "output_type": "stream",
     "text": [
      "\u001b[32m[I 2021-05-07 11:20:28,533]\u001b[0m Trial 38 finished with value: 0.8094591631051944 and parameters: {'max_depth': 13, 'min_samples_split': 2, 'max_features': None}. Best is trial 14 with value: 0.8151531308063259.\u001b[0m\n",
      "\u001b[32m[I 2021-05-07 11:20:28,571]\u001b[0m Trial 40 finished with value: 0.6983190617757998 and parameters: {'max_depth': 3, 'min_samples_split': 2, 'max_features': None}. Best is trial 14 with value: 0.8151531308063259.\u001b[0m\n",
      "\u001b[32m[I 2021-05-07 11:20:28,589]\u001b[0m Trial 39 finished with value: 0.6987857202187675 and parameters: {'max_depth': 4, 'min_samples_split': 2, 'max_features': None}. Best is trial 14 with value: 0.8151531308063259.\u001b[0m\n",
      "\u001b[32m[I 2021-05-07 11:20:28,627]\u001b[0m Trial 42 finished with value: 0.6987857202187675 and parameters: {'max_depth': 4, 'min_samples_split': 2, 'max_features': None}. Best is trial 14 with value: 0.8151531308063259.\u001b[0m\n",
      "\u001b[32m[I 2021-05-07 11:20:28,651]\u001b[0m Trial 41 finished with value: 0.8107315625425817 and parameters: {'max_depth': 22, 'min_samples_split': 3, 'max_features': None}. Best is trial 14 with value: 0.8151531308063259.\u001b[0m\n",
      "\u001b[32m[I 2021-05-07 11:20:28,703]\u001b[0m Trial 43 finished with value: 0.7253318666491844 and parameters: {'max_depth': 5, 'min_samples_split': 3, 'max_features': None}. Best is trial 14 with value: 0.8151531308063259.\u001b[0m\n",
      "\u001b[32m[I 2021-05-07 11:20:28,737]\u001b[0m Trial 44 finished with value: 0.7253318666491844 and parameters: {'max_depth': 5, 'min_samples_split': 3, 'max_features': None}. Best is trial 14 with value: 0.8151531308063259.\u001b[0m\n",
      "\u001b[32m[I 2021-05-07 11:20:28,757]\u001b[0m Trial 45 finished with value: 0.7253318666491844 and parameters: {'max_depth': 5, 'min_samples_split': 3, 'max_features': None}. Best is trial 14 with value: 0.8151531308063259.\u001b[0m\n",
      "\u001b[32m[I 2021-05-07 11:20:28,802]\u001b[0m Trial 46 finished with value: 0.8148406061263573 and parameters: {'max_depth': 17, 'min_samples_split': 3, 'max_features': None}. Best is trial 14 with value: 0.8151531308063259.\u001b[0m\n",
      "\u001b[32m[I 2021-05-07 11:20:28,842]\u001b[0m Trial 47 finished with value: 0.8148406061263573 and parameters: {'max_depth': 17, 'min_samples_split': 3, 'max_features': None}. Best is trial 14 with value: 0.8151531308063259.\u001b[0m\n",
      "\u001b[32m[I 2021-05-07 11:20:28,865]\u001b[0m Trial 48 finished with value: 0.8148406061263573 and parameters: {'max_depth': 17, 'min_samples_split': 3, 'max_features': None}. Best is trial 14 with value: 0.8151531308063259.\u001b[0m\n",
      "\u001b[32m[I 2021-05-07 11:20:28,897]\u001b[0m Trial 49 finished with value: 0.8148406061263573 and parameters: {'max_depth': 17, 'min_samples_split': 3, 'max_features': None}. Best is trial 14 with value: 0.8151531308063259.\u001b[0m\n",
      "\u001b[32m[I 2021-05-07 11:20:28,929]\u001b[0m Trial 50 finished with value: 0.8148406061263573 and parameters: {'max_depth': 17, 'min_samples_split': 3, 'max_features': None}. Best is trial 14 with value: 0.8151531308063259.\u001b[0m\n",
      "\u001b[32m[I 2021-05-07 11:20:28,955]\u001b[0m Trial 51 finished with value: 0.8148406061263573 and parameters: {'max_depth': 17, 'min_samples_split': 3, 'max_features': None}. Best is trial 14 with value: 0.8151531308063259.\u001b[0m\n",
      "\u001b[32m[I 2021-05-07 11:20:29,012]\u001b[0m Trial 52 finished with value: 0.8072351483671408 and parameters: {'max_depth': 17, 'min_samples_split': 4, 'max_features': None}. Best is trial 14 with value: 0.8151531308063259.\u001b[0m\n",
      "\u001b[32m[I 2021-05-07 11:20:29,055]\u001b[0m Trial 53 finished with value: 0.8111473585374614 and parameters: {'max_depth': 16, 'min_samples_split': 4, 'max_features': None}. Best is trial 14 with value: 0.8151531308063259.\u001b[0m\n",
      "\u001b[32m[I 2021-05-07 11:20:29,082]\u001b[0m Trial 54 finished with value: 0.8106003920681472 and parameters: {'max_depth': 16, 'min_samples_split': 3, 'max_features': None}. Best is trial 14 with value: 0.8151531308063259.\u001b[0m\n",
      "\u001b[32m[I 2021-05-07 11:20:29,113]\u001b[0m Trial 55 finished with value: 0.8065104194398256 and parameters: {'max_depth': 21, 'min_samples_split': 4, 'max_features': None}. Best is trial 14 with value: 0.8151531308063259.\u001b[0m\n",
      "\u001b[32m[I 2021-05-07 11:20:29,144]\u001b[0m Trial 56 finished with value: 0.8106003920681472 and parameters: {'max_depth': 16, 'min_samples_split': 3, 'max_features': None}. Best is trial 14 with value: 0.8151531308063259.\u001b[0m\n",
      "\u001b[32m[I 2021-05-07 11:20:29,174]\u001b[0m Trial 57 finished with value: 0.8078062561885254 and parameters: {'max_depth': 20, 'min_samples_split': 4, 'max_features': None}. Best is trial 14 with value: 0.8151531308063259.\u001b[0m\n",
      "\u001b[32m[I 2021-05-07 11:20:29,223]\u001b[0m Trial 58 finished with value: 0.8102327180124773 and parameters: {'max_depth': 21, 'min_samples_split': 3, 'max_features': None}. Best is trial 14 with value: 0.8151531308063259.\u001b[0m\n",
      "\u001b[32m[I 2021-05-07 11:20:29,268]\u001b[0m Trial 59 finished with value: 0.8100331498927236 and parameters: {'max_depth': 20, 'min_samples_split': 3, 'max_features': None}. Best is trial 14 with value: 0.8151531308063259.\u001b[0m\n",
      "\u001b[32m[I 2021-05-07 11:20:29,294]\u001b[0m Trial 60 finished with value: 0.8100331498927236 and parameters: {'max_depth': 20, 'min_samples_split': 3, 'max_features': None}. Best is trial 14 with value: 0.8151531308063259.\u001b[0m\n",
      "\u001b[32m[I 2021-05-07 11:20:29,321]\u001b[0m Trial 61 finished with value: 0.7860803530164359 and parameters: {'max_depth': 10, 'min_samples_split': 3, 'max_features': None}. Best is trial 14 with value: 0.8151531308063259.\u001b[0m\n",
      "\u001b[32m[I 2021-05-07 11:20:29,329]\u001b[0m Trial 62 finished with value: 0.7860803530164359 and parameters: {'max_depth': 10, 'min_samples_split': 3, 'max_features': None}. Best is trial 14 with value: 0.8151531308063259.\u001b[0m\n",
      "\u001b[32m[I 2021-05-07 11:20:29,396]\u001b[0m Trial 63 finished with value: 0.7860803530164359 and parameters: {'max_depth': 10, 'min_samples_split': 3, 'max_features': None}. Best is trial 14 with value: 0.8151531308063259.\u001b[0m\n",
      "\u001b[32m[I 2021-05-07 11:20:29,424]\u001b[0m Trial 65 finished with value: 0.7868468758829091 and parameters: {'max_depth': 14, 'min_samples_split': 3, 'max_features': 'sqrt'}. Best is trial 14 with value: 0.8151531308063259.\u001b[0m\n",
      "\u001b[32m[I 2021-05-07 11:20:29,449]\u001b[0m Trial 64 finished with value: 0.8119186439279709 and parameters: {'max_depth': 14, 'min_samples_split': 3, 'max_features': None}. Best is trial 14 with value: 0.8151531308063259.\u001b[0m\n",
      "\u001b[32m[I 2021-05-07 11:20:29,520]\u001b[0m Trial 66 finished with value: 0.8119186439279709 and parameters: {'max_depth': 14, 'min_samples_split': 3, 'max_features': None}. Best is trial 14 with value: 0.8151531308063259.\u001b[0m\n",
      "\u001b[32m[I 2021-05-07 11:20:29,536]\u001b[0m Trial 69 finished with value: 0.7868468758829091 and parameters: {'max_depth': 14, 'min_samples_split': 3, 'max_features': 'sqrt'}. Best is trial 14 with value: 0.8151531308063259.\u001b[0m\n",
      "\u001b[32m[I 2021-05-07 11:20:29,555]\u001b[0m Trial 67 finished with value: 0.8119186439279709 and parameters: {'max_depth': 14, 'min_samples_split': 3, 'max_features': None}. Best is trial 14 with value: 0.8151531308063259.\u001b[0m\n",
      "\u001b[32m[I 2021-05-07 11:20:29,560]\u001b[0m Trial 68 finished with value: 0.8119186439279709 and parameters: {'max_depth': 14, 'min_samples_split': 3, 'max_features': None}. Best is trial 14 with value: 0.8151531308063259.\u001b[0m\n",
      "\u001b[32m[I 2021-05-07 11:20:29,625]\u001b[0m Trial 70 finished with value: 0.8151531308063259 and parameters: {'max_depth': 15, 'min_samples_split': 3, 'max_features': None}. Best is trial 14 with value: 0.8151531308063259.\u001b[0m\n",
      "\u001b[32m[I 2021-05-07 11:20:29,664]\u001b[0m Trial 71 finished with value: 0.8110381165712137 and parameters: {'max_depth': 19, 'min_samples_split': 3, 'max_features': None}. Best is trial 14 with value: 0.8151531308063259.\u001b[0m\n",
      "\u001b[32m[I 2021-05-07 11:20:29,724]\u001b[0m Trial 72 finished with value: 0.8110381165712137 and parameters: {'max_depth': 19, 'min_samples_split': 3, 'max_features': None}. Best is trial 14 with value: 0.8151531308063259.\u001b[0m\n",
      "\u001b[32m[I 2021-05-07 11:20:29,774]\u001b[0m Trial 74 finished with value: 0.8066669032837742 and parameters: {'max_depth': 18, 'min_samples_split': 3, 'max_features': None}. Best is trial 14 with value: 0.8151531308063259.\u001b[0m\n",
      "\u001b[32m[I 2021-05-07 11:20:29,775]\u001b[0m Trial 73 finished with value: 0.8110381165712137 and parameters: {'max_depth': 19, 'min_samples_split': 3, 'max_features': None}. Best is trial 14 with value: 0.8151531308063259.\u001b[0m\n",
      "\u001b[32m[I 2021-05-07 11:20:29,775]\u001b[0m Trial 75 finished with value: 0.8110381165712137 and parameters: {'max_depth': 19, 'min_samples_split': 3, 'max_features': None}. Best is trial 14 with value: 0.8151531308063259.\u001b[0m\n"
     ]
    },
    {
     "name": "stderr",
     "output_type": "stream",
     "text": [
      "\u001b[32m[I 2021-05-07 11:20:29,863]\u001b[0m Trial 76 finished with value: 0.8066669032837742 and parameters: {'max_depth': 18, 'min_samples_split': 3, 'max_features': None}. Best is trial 14 with value: 0.8151531308063259.\u001b[0m\n",
      "\u001b[32m[I 2021-05-07 11:20:29,892]\u001b[0m Trial 77 finished with value: 0.8066669032837742 and parameters: {'max_depth': 18, 'min_samples_split': 3, 'max_features': None}. Best is trial 14 with value: 0.8151531308063259.\u001b[0m\n",
      "\u001b[32m[I 2021-05-07 11:20:29,949]\u001b[0m Trial 78 finished with value: 0.8151531308063259 and parameters: {'max_depth': 15, 'min_samples_split': 3, 'max_features': None}. Best is trial 14 with value: 0.8151531308063259.\u001b[0m\n",
      "\u001b[32m[I 2021-05-07 11:20:29,999]\u001b[0m Trial 81 finished with value: 0.8151531308063259 and parameters: {'max_depth': 15, 'min_samples_split': 3, 'max_features': None}. Best is trial 14 with value: 0.8151531308063259.\u001b[0m\n",
      "\u001b[32m[I 2021-05-07 11:20:30,000]\u001b[0m Trial 79 finished with value: 0.8106003920681472 and parameters: {'max_depth': 16, 'min_samples_split': 3, 'max_features': None}. Best is trial 14 with value: 0.8151531308063259.\u001b[0m\n",
      "\u001b[32m[I 2021-05-07 11:20:30,001]\u001b[0m Trial 80 finished with value: 0.8151531308063259 and parameters: {'max_depth': 15, 'min_samples_split': 3, 'max_features': None}. Best is trial 14 with value: 0.8151531308063259.\u001b[0m\n",
      "\u001b[32m[I 2021-05-07 11:20:30,089]\u001b[0m Trial 82 finished with value: 0.8151531308063259 and parameters: {'max_depth': 15, 'min_samples_split': 3, 'max_features': None}. Best is trial 14 with value: 0.8151531308063259.\u001b[0m\n",
      "\u001b[32m[I 2021-05-07 11:20:30,117]\u001b[0m Trial 83 finished with value: 0.8151531308063259 and parameters: {'max_depth': 15, 'min_samples_split': 3, 'max_features': None}. Best is trial 14 with value: 0.8151531308063259.\u001b[0m\n",
      "\u001b[32m[I 2021-05-07 11:20:30,186]\u001b[0m Trial 84 finished with value: 0.8151531308063259 and parameters: {'max_depth': 15, 'min_samples_split': 3, 'max_features': None}. Best is trial 14 with value: 0.8151531308063259.\u001b[0m\n",
      "\u001b[32m[I 2021-05-07 11:20:30,224]\u001b[0m Trial 86 finished with value: 0.8151531308063259 and parameters: {'max_depth': 15, 'min_samples_split': 3, 'max_features': None}. Best is trial 14 with value: 0.8151531308063259.\u001b[0m\n",
      "\u001b[32m[I 2021-05-07 11:20:30,240]\u001b[0m Trial 85 finished with value: 0.8151531308063259 and parameters: {'max_depth': 15, 'min_samples_split': 3, 'max_features': None}. Best is trial 14 with value: 0.8151531308063259.\u001b[0m\n",
      "\u001b[32m[I 2021-05-07 11:20:30,254]\u001b[0m Trial 87 finished with value: 0.8151531308063259 and parameters: {'max_depth': 15, 'min_samples_split': 3, 'max_features': None}. Best is trial 14 with value: 0.8151531308063259.\u001b[0m\n",
      "\u001b[32m[I 2021-05-07 11:20:30,301]\u001b[0m Trial 88 finished with value: 0.8151531308063259 and parameters: {'max_depth': 15, 'min_samples_split': 3, 'max_features': None}. Best is trial 14 with value: 0.8151531308063259.\u001b[0m\n",
      "\u001b[32m[I 2021-05-07 11:20:30,329]\u001b[0m Trial 89 finished with value: 0.8151531308063259 and parameters: {'max_depth': 15, 'min_samples_split': 3, 'max_features': None}. Best is trial 14 with value: 0.8151531308063259.\u001b[0m\n",
      "\u001b[32m[I 2021-05-07 11:20:30,393]\u001b[0m Trial 90 finished with value: 0.8068403885515911 and parameters: {'max_depth': 13, 'min_samples_split': 3, 'max_features': None}. Best is trial 14 with value: 0.8151531308063259.\u001b[0m\n",
      "\u001b[32m[I 2021-05-07 11:20:30,461]\u001b[0m Trial 91 finished with value: 0.8068403885515911 and parameters: {'max_depth': 13, 'min_samples_split': 3, 'max_features': None}. Best is trial 14 with value: 0.8151531308063259.\u001b[0m\n",
      "\u001b[32m[I 2021-05-07 11:20:30,464]\u001b[0m Trial 93 finished with value: 0.8068403885515911 and parameters: {'max_depth': 13, 'min_samples_split': 3, 'max_features': None}. Best is trial 14 with value: 0.8151531308063259.\u001b[0m\n",
      "\u001b[32m[I 2021-05-07 11:20:30,476]\u001b[0m Trial 92 finished with value: 0.8068403885515911 and parameters: {'max_depth': 13, 'min_samples_split': 3, 'max_features': None}. Best is trial 14 with value: 0.8151531308063259.\u001b[0m\n",
      "\u001b[32m[I 2021-05-07 11:20:30,515]\u001b[0m Trial 94 finished with value: 0.8094591631051944 and parameters: {'max_depth': 13, 'min_samples_split': 2, 'max_features': None}. Best is trial 14 with value: 0.8151531308063259.\u001b[0m\n",
      "\u001b[32m[I 2021-05-07 11:20:30,533]\u001b[0m Trial 95 finished with value: 0.8068403885515911 and parameters: {'max_depth': 13, 'min_samples_split': 3, 'max_features': None}. Best is trial 14 with value: 0.8151531308063259.\u001b[0m\n",
      "\u001b[32m[I 2021-05-07 11:20:30,600]\u001b[0m Trial 96 finished with value: 0.8068403885515911 and parameters: {'max_depth': 13, 'min_samples_split': 3, 'max_features': None}. Best is trial 14 with value: 0.8151531308063259.\u001b[0m\n",
      "\u001b[32m[I 2021-05-07 11:20:30,680]\u001b[0m Trial 98 finished with value: 0.7965443168626972 and parameters: {'max_depth': 11, 'min_samples_split': 3, 'max_features': None}. Best is trial 14 with value: 0.8151531308063259.\u001b[0m\n",
      "\u001b[32m[I 2021-05-07 11:20:30,697]\u001b[0m Trial 99 finished with value: 0.7965443168626972 and parameters: {'max_depth': 11, 'min_samples_split': 3, 'max_features': None}. Best is trial 14 with value: 0.8151531308063259.\u001b[0m\n",
      "\u001b[32m[I 2021-05-07 11:20:30,699]\u001b[0m Trial 100 finished with value: 0.7965443168626972 and parameters: {'max_depth': 11, 'min_samples_split': 3, 'max_features': None}. Best is trial 14 with value: 0.8151531308063259.\u001b[0m\n",
      "\u001b[32m[I 2021-05-07 11:20:30,704]\u001b[0m Trial 97 finished with value: 0.7965443168626972 and parameters: {'max_depth': 11, 'min_samples_split': 3, 'max_features': None}. Best is trial 14 with value: 0.8151531308063259.\u001b[0m\n",
      "\u001b[32m[I 2021-05-07 11:20:30,719]\u001b[0m Trial 101 finished with value: 0.7965443168626972 and parameters: {'max_depth': 11, 'min_samples_split': 3, 'max_features': None}. Best is trial 14 with value: 0.8151531308063259.\u001b[0m\n",
      "\u001b[32m[I 2021-05-07 11:20:30,795]\u001b[0m Trial 102 finished with value: 0.7965443168626972 and parameters: {'max_depth': 11, 'min_samples_split': 3, 'max_features': None}. Best is trial 14 with value: 0.8151531308063259.\u001b[0m\n",
      "\u001b[32m[I 2021-05-07 11:20:30,841]\u001b[0m Trial 103 finished with value: 0.7964804802444322 and parameters: {'max_depth': 16, 'min_samples_split': 3, 'max_features': 'sqrt'}. Best is trial 14 with value: 0.8151531308063259.\u001b[0m\n",
      "\u001b[32m[I 2021-05-07 11:20:30,920]\u001b[0m Trial 104 finished with value: 0.8106003920681472 and parameters: {'max_depth': 16, 'min_samples_split': 3, 'max_features': None}. Best is trial 14 with value: 0.8151531308063259.\u001b[0m\n",
      "\u001b[32m[I 2021-05-07 11:20:30,942]\u001b[0m Trial 105 finished with value: 0.8106003920681472 and parameters: {'max_depth': 16, 'min_samples_split': 3, 'max_features': None}. Best is trial 14 with value: 0.8151531308063259.\u001b[0m\n",
      "\u001b[32m[I 2021-05-07 11:20:30,944]\u001b[0m Trial 106 finished with value: 0.8106003920681472 and parameters: {'max_depth': 16, 'min_samples_split': 3, 'max_features': None}. Best is trial 14 with value: 0.8151531308063259.\u001b[0m\n",
      "\u001b[32m[I 2021-05-07 11:20:30,949]\u001b[0m Trial 107 finished with value: 0.8106003920681472 and parameters: {'max_depth': 16, 'min_samples_split': 3, 'max_features': None}. Best is trial 14 with value: 0.8151531308063259.\u001b[0m\n",
      "\u001b[32m[I 2021-05-07 11:20:30,995]\u001b[0m Trial 108 finished with value: 0.8106003920681472 and parameters: {'max_depth': 16, 'min_samples_split': 3, 'max_features': None}. Best is trial 14 with value: 0.8151531308063259.\u001b[0m\n",
      "\u001b[32m[I 2021-05-07 11:20:31,063]\u001b[0m Trial 109 finished with value: 0.8151531308063259 and parameters: {'max_depth': 15, 'min_samples_split': 3, 'max_features': None}. Best is trial 14 with value: 0.8151531308063259.\u001b[0m\n",
      "\u001b[32m[I 2021-05-07 11:20:31,150]\u001b[0m Trial 113 finished with value: 0.8151531308063259 and parameters: {'max_depth': 15, 'min_samples_split': 3, 'max_features': None}. Best is trial 14 with value: 0.8151531308063259.\u001b[0m\n",
      "\u001b[32m[I 2021-05-07 11:20:31,166]\u001b[0m Trial 110 finished with value: 0.8151531308063259 and parameters: {'max_depth': 15, 'min_samples_split': 3, 'max_features': None}. Best is trial 14 with value: 0.8151531308063259.\u001b[0m\n",
      "\u001b[32m[I 2021-05-07 11:20:31,176]\u001b[0m Trial 111 finished with value: 0.8151531308063259 and parameters: {'max_depth': 15, 'min_samples_split': 3, 'max_features': None}. Best is trial 14 with value: 0.8151531308063259.\u001b[0m\n",
      "\u001b[32m[I 2021-05-07 11:20:31,186]\u001b[0m Trial 112 finished with value: 0.8151531308063259 and parameters: {'max_depth': 15, 'min_samples_split': 3, 'max_features': None}. Best is trial 14 with value: 0.8151531308063259.\u001b[0m\n"
     ]
    },
    {
     "name": "stderr",
     "output_type": "stream",
     "text": [
      "\u001b[32m[I 2021-05-07 11:20:31,221]\u001b[0m Trial 114 finished with value: 0.8151531308063259 and parameters: {'max_depth': 15, 'min_samples_split': 3, 'max_features': None}. Best is trial 14 with value: 0.8151531308063259.\u001b[0m\n",
      "\u001b[32m[I 2021-05-07 11:20:31,255]\u001b[0m Trial 115 finished with value: 0.8151531308063259 and parameters: {'max_depth': 15, 'min_samples_split': 3, 'max_features': None}. Best is trial 14 with value: 0.8151531308063259.\u001b[0m\n",
      "\u001b[32m[I 2021-05-07 11:20:31,344]\u001b[0m Trial 116 finished with value: 0.8151531308063259 and parameters: {'max_depth': 15, 'min_samples_split': 3, 'max_features': None}. Best is trial 14 with value: 0.8151531308063259.\u001b[0m\n",
      "\u001b[32m[I 2021-05-07 11:20:31,366]\u001b[0m Trial 117 finished with value: 0.8119186439279709 and parameters: {'max_depth': 14, 'min_samples_split': 3, 'max_features': None}. Best is trial 14 with value: 0.8151531308063259.\u001b[0m\n",
      "\u001b[32m[I 2021-05-07 11:20:31,380]\u001b[0m Trial 118 finished with value: 0.8119186439279709 and parameters: {'max_depth': 14, 'min_samples_split': 3, 'max_features': None}. Best is trial 14 with value: 0.8151531308063259.\u001b[0m\n",
      "\u001b[32m[I 2021-05-07 11:20:31,399]\u001b[0m Trial 119 finished with value: 0.8107315625425817 and parameters: {'max_depth': 30, 'min_samples_split': 3, 'max_features': None}. Best is trial 14 with value: 0.8151531308063259.\u001b[0m\n",
      "\u001b[32m[I 2021-05-07 11:20:31,402]\u001b[0m Trial 120 finished with value: 0.8119186439279709 and parameters: {'max_depth': 14, 'min_samples_split': 3, 'max_features': None}. Best is trial 14 with value: 0.8151531308063259.\u001b[0m\n",
      "\u001b[32m[I 2021-05-07 11:20:31,452]\u001b[0m Trial 121 finished with value: 0.8107315625425817 and parameters: {'max_depth': 30, 'min_samples_split': 3, 'max_features': None}. Best is trial 14 with value: 0.8151531308063259.\u001b[0m\n",
      "\u001b[32m[I 2021-05-07 11:20:31,563]\u001b[0m Trial 123 finished with value: 0.8119186439279709 and parameters: {'max_depth': 14, 'min_samples_split': 3, 'max_features': None}. Best is trial 14 with value: 0.8151531308063259.\u001b[0m\n",
      "\u001b[32m[I 2021-05-07 11:20:31,582]\u001b[0m Trial 124 finished with value: 0.8119186439279709 and parameters: {'max_depth': 14, 'min_samples_split': 3, 'max_features': None}. Best is trial 14 with value: 0.8151531308063259.\u001b[0m\n",
      "\u001b[32m[I 2021-05-07 11:20:31,593]\u001b[0m Trial 122 finished with value: 0.8119186439279709 and parameters: {'max_depth': 14, 'min_samples_split': 3, 'max_features': None}. Best is trial 14 with value: 0.8151531308063259.\u001b[0m\n",
      "\u001b[32m[I 2021-05-07 11:20:31,625]\u001b[0m Trial 125 finished with value: 0.8148406061263573 and parameters: {'max_depth': 17, 'min_samples_split': 3, 'max_features': None}. Best is trial 14 with value: 0.8151531308063259.\u001b[0m\n",
      "\u001b[32m[I 2021-05-07 11:20:31,647]\u001b[0m Trial 126 finished with value: 0.8148406061263573 and parameters: {'max_depth': 17, 'min_samples_split': 3, 'max_features': None}. Best is trial 14 with value: 0.8151531308063259.\u001b[0m\n",
      "\u001b[32m[I 2021-05-07 11:20:31,685]\u001b[0m Trial 127 finished with value: 0.8148406061263573 and parameters: {'max_depth': 17, 'min_samples_split': 3, 'max_features': None}. Best is trial 14 with value: 0.8151531308063259.\u001b[0m\n",
      "\u001b[32m[I 2021-05-07 11:20:31,782]\u001b[0m Trial 128 finished with value: 0.8148406061263573 and parameters: {'max_depth': 17, 'min_samples_split': 3, 'max_features': None}. Best is trial 14 with value: 0.8151531308063259.\u001b[0m\n",
      "\u001b[32m[I 2021-05-07 11:20:31,798]\u001b[0m Trial 133 finished with value: 0.7816887906972683 and parameters: {'max_depth': 12, 'min_samples_split': 3, 'max_features': 'sqrt'}. Best is trial 14 with value: 0.8151531308063259.\u001b[0m\n",
      "\u001b[32m[I 2021-05-07 11:20:31,818]\u001b[0m Trial 130 finished with value: 0.8148406061263573 and parameters: {'max_depth': 17, 'min_samples_split': 3, 'max_features': None}. Best is trial 14 with value: 0.8151531308063259.\u001b[0m\n",
      "\u001b[32m[I 2021-05-07 11:20:31,818]\u001b[0m Trial 129 finished with value: 0.8148406061263573 and parameters: {'max_depth': 17, 'min_samples_split': 3, 'max_features': None}. Best is trial 14 with value: 0.8151531308063259.\u001b[0m\n",
      "\u001b[32m[I 2021-05-07 11:20:31,831]\u001b[0m Trial 131 finished with value: 0.803739216788335 and parameters: {'max_depth': 12, 'min_samples_split': 3, 'max_features': None}. Best is trial 14 with value: 0.8151531308063259.\u001b[0m\n",
      "\u001b[32m[I 2021-05-07 11:20:31,872]\u001b[0m Trial 132 finished with value: 0.803739216788335 and parameters: {'max_depth': 12, 'min_samples_split': 3, 'max_features': None}. Best is trial 14 with value: 0.8151531308063259.\u001b[0m\n",
      "\u001b[32m[I 2021-05-07 11:20:31,943]\u001b[0m Trial 134 finished with value: 0.783354070001063 and parameters: {'max_depth': 15, 'min_samples_split': 3, 'max_features': 'sqrt'}. Best is trial 14 with value: 0.8151531308063259.\u001b[0m\n",
      "\u001b[32m[I 2021-05-07 11:20:32,001]\u001b[0m Trial 135 finished with value: 0.8106003920681472 and parameters: {'max_depth': 16, 'min_samples_split': 3, 'max_features': None}. Best is trial 14 with value: 0.8151531308063259.\u001b[0m\n",
      "\u001b[32m[I 2021-05-07 11:20:32,019]\u001b[0m Trial 137 finished with value: 0.8151531308063259 and parameters: {'max_depth': 15, 'min_samples_split': 3, 'max_features': None}. Best is trial 14 with value: 0.8151531308063259.\u001b[0m\n",
      "\u001b[32m[I 2021-05-07 11:20:32,041]\u001b[0m Trial 136 finished with value: 0.8151531308063259 and parameters: {'max_depth': 15, 'min_samples_split': 3, 'max_features': None}. Best is trial 14 with value: 0.8151531308063259.\u001b[0m\n",
      "\u001b[32m[I 2021-05-07 11:20:32,049]\u001b[0m Trial 138 finished with value: 0.8151531308063259 and parameters: {'max_depth': 15, 'min_samples_split': 3, 'max_features': None}. Best is trial 14 with value: 0.8151531308063259.\u001b[0m\n",
      "\u001b[32m[I 2021-05-07 11:20:32,073]\u001b[0m Trial 139 finished with value: 0.8151531308063259 and parameters: {'max_depth': 15, 'min_samples_split': 3, 'max_features': None}. Best is trial 14 with value: 0.8151531308063259.\u001b[0m\n",
      "\u001b[32m[I 2021-05-07 11:20:32,139]\u001b[0m Trial 140 finished with value: 0.8151531308063259 and parameters: {'max_depth': 15, 'min_samples_split': 3, 'max_features': None}. Best is trial 14 with value: 0.8151531308063259.\u001b[0m\n",
      "\u001b[32m[I 2021-05-07 11:20:32,212]\u001b[0m Trial 141 finished with value: 0.8151531308063259 and parameters: {'max_depth': 15, 'min_samples_split': 3, 'max_features': None}. Best is trial 14 with value: 0.8151531308063259.\u001b[0m\n",
      "\u001b[32m[I 2021-05-07 11:20:32,236]\u001b[0m Trial 142 finished with value: 0.8151531308063259 and parameters: {'max_depth': 15, 'min_samples_split': 3, 'max_features': None}. Best is trial 14 with value: 0.8151531308063259.\u001b[0m\n",
      "\u001b[32m[I 2021-05-07 11:20:32,244]\u001b[0m Trial 143 finished with value: 0.8151531308063259 and parameters: {'max_depth': 15, 'min_samples_split': 3, 'max_features': None}. Best is trial 14 with value: 0.8151531308063259.\u001b[0m\n",
      "\u001b[32m[I 2021-05-07 11:20:32,244]\u001b[0m Trial 144 finished with value: 0.8151531308063259 and parameters: {'max_depth': 15, 'min_samples_split': 3, 'max_features': None}. Best is trial 14 with value: 0.8151531308063259.\u001b[0m\n",
      "\u001b[32m[I 2021-05-07 11:20:32,291]\u001b[0m Trial 145 finished with value: 0.8106003920681472 and parameters: {'max_depth': 16, 'min_samples_split': 3, 'max_features': None}. Best is trial 14 with value: 0.8151531308063259.\u001b[0m\n",
      "\u001b[32m[I 2021-05-07 11:20:32,351]\u001b[0m Trial 146 finished with value: 0.8106003920681472 and parameters: {'max_depth': 16, 'min_samples_split': 3, 'max_features': None}. Best is trial 14 with value: 0.8151531308063259.\u001b[0m\n",
      "\u001b[32m[I 2021-05-07 11:20:32,408]\u001b[0m Trial 147 finished with value: 0.8106003920681472 and parameters: {'max_depth': 16, 'min_samples_split': 3, 'max_features': None}. Best is trial 14 with value: 0.8151531308063259.\u001b[0m\n",
      "\u001b[32m[I 2021-05-07 11:20:32,427]\u001b[0m Trial 148 finished with value: 0.8106003920681472 and parameters: {'max_depth': 16, 'min_samples_split': 3, 'max_features': None}. Best is trial 14 with value: 0.8151531308063259.\u001b[0m\n",
      "\u001b[32m[I 2021-05-07 11:20:32,456]\u001b[0m Trial 149 finished with value: 0.8106003920681472 and parameters: {'max_depth': 16, 'min_samples_split': 3, 'max_features': None}. Best is trial 14 with value: 0.8151531308063259.\u001b[0m\n",
      "\u001b[32m[I 2021-05-07 11:20:32,456]\u001b[0m Trial 150 finished with value: 0.8106003920681472 and parameters: {'max_depth': 16, 'min_samples_split': 3, 'max_features': None}. Best is trial 14 with value: 0.8151531308063259.\u001b[0m\n",
      "\u001b[32m[I 2021-05-07 11:20:32,485]\u001b[0m Trial 151 finished with value: 0.8106003920681472 and parameters: {'max_depth': 16, 'min_samples_split': 3, 'max_features': None}. Best is trial 14 with value: 0.8151531308063259.\u001b[0m\n"
     ]
    },
    {
     "name": "stderr",
     "output_type": "stream",
     "text": [
      "\u001b[32m[I 2021-05-07 11:20:32,561]\u001b[0m Trial 152 finished with value: 0.8119186439279709 and parameters: {'max_depth': 14, 'min_samples_split': 3, 'max_features': None}. Best is trial 14 with value: 0.8151531308063259.\u001b[0m\n",
      "\u001b[32m[I 2021-05-07 11:20:32,609]\u001b[0m Trial 153 finished with value: 0.8119186439279709 and parameters: {'max_depth': 14, 'min_samples_split': 3, 'max_features': None}. Best is trial 14 with value: 0.8151531308063259.\u001b[0m\n",
      "\u001b[32m[I 2021-05-07 11:20:32,638]\u001b[0m Trial 154 finished with value: 0.8119186439279709 and parameters: {'max_depth': 14, 'min_samples_split': 3, 'max_features': None}. Best is trial 14 with value: 0.8151531308063259.\u001b[0m\n",
      "\u001b[32m[I 2021-05-07 11:20:32,663]\u001b[0m Trial 155 finished with value: 0.8119186439279709 and parameters: {'max_depth': 14, 'min_samples_split': 3, 'max_features': None}. Best is trial 14 with value: 0.8151531308063259.\u001b[0m\n",
      "\u001b[32m[I 2021-05-07 11:20:32,665]\u001b[0m Trial 157 finished with value: 0.8119186439279709 and parameters: {'max_depth': 14, 'min_samples_split': 3, 'max_features': None}. Best is trial 14 with value: 0.8151531308063259.\u001b[0m\n",
      "\u001b[32m[I 2021-05-07 11:20:32,669]\u001b[0m Trial 156 finished with value: 0.8119186439279709 and parameters: {'max_depth': 14, 'min_samples_split': 3, 'max_features': None}. Best is trial 14 with value: 0.8151531308063259.\u001b[0m\n",
      "\u001b[32m[I 2021-05-07 11:20:32,789]\u001b[0m Trial 158 finished with value: 0.8119186439279709 and parameters: {'max_depth': 14, 'min_samples_split': 3, 'max_features': None}. Best is trial 14 with value: 0.8151531308063259.\u001b[0m\n",
      "\u001b[32m[I 2021-05-07 11:20:32,824]\u001b[0m Trial 160 finished with value: 0.8068403885515911 and parameters: {'max_depth': 13, 'min_samples_split': 3, 'max_features': None}. Best is trial 14 with value: 0.8151531308063259.\u001b[0m\n",
      "\u001b[32m[I 2021-05-07 11:20:32,826]\u001b[0m Trial 159 finished with value: 0.8068403885515911 and parameters: {'max_depth': 13, 'min_samples_split': 3, 'max_features': None}. Best is trial 14 with value: 0.8151531308063259.\u001b[0m\n",
      "\u001b[32m[I 2021-05-07 11:20:32,876]\u001b[0m Trial 162 finished with value: 0.8068403885515911 and parameters: {'max_depth': 13, 'min_samples_split': 3, 'max_features': None}. Best is trial 14 with value: 0.8151531308063259.\u001b[0m\n",
      "\u001b[32m[I 2021-05-07 11:20:32,912]\u001b[0m Trial 161 finished with value: 0.8068403885515911 and parameters: {'max_depth': 13, 'min_samples_split': 3, 'max_features': None}. Best is trial 14 with value: 0.8151531308063259.\u001b[0m\n",
      "\u001b[32m[I 2021-05-07 11:20:32,934]\u001b[0m Trial 163 finished with value: 0.8068403885515911 and parameters: {'max_depth': 13, 'min_samples_split': 3, 'max_features': None}. Best is trial 14 with value: 0.8151531308063259.\u001b[0m\n",
      "\u001b[32m[I 2021-05-07 11:20:32,987]\u001b[0m Trial 164 finished with value: 0.8068403885515911 and parameters: {'max_depth': 13, 'min_samples_split': 3, 'max_features': None}. Best is trial 14 with value: 0.8151531308063259.\u001b[0m\n",
      "\u001b[32m[I 2021-05-07 11:20:33,036]\u001b[0m Trial 165 finished with value: 0.8151531308063259 and parameters: {'max_depth': 15, 'min_samples_split': 3, 'max_features': None}. Best is trial 14 with value: 0.8151531308063259.\u001b[0m\n",
      "\u001b[32m[I 2021-05-07 11:20:33,056]\u001b[0m Trial 166 finished with value: 0.8151531308063259 and parameters: {'max_depth': 15, 'min_samples_split': 3, 'max_features': None}. Best is trial 14 with value: 0.8151531308063259.\u001b[0m\n",
      "\u001b[32m[I 2021-05-07 11:20:33,101]\u001b[0m Trial 167 finished with value: 0.8151531308063259 and parameters: {'max_depth': 15, 'min_samples_split': 3, 'max_features': None}. Best is trial 14 with value: 0.8151531308063259.\u001b[0m\n",
      "\u001b[32m[I 2021-05-07 11:20:33,124]\u001b[0m Trial 168 finished with value: 0.8151531308063259 and parameters: {'max_depth': 15, 'min_samples_split': 3, 'max_features': None}. Best is trial 14 with value: 0.8151531308063259.\u001b[0m\n",
      "\u001b[32m[I 2021-05-07 11:20:33,144]\u001b[0m Trial 169 finished with value: 0.8151531308063259 and parameters: {'max_depth': 15, 'min_samples_split': 3, 'max_features': None}. Best is trial 14 with value: 0.8151531308063259.\u001b[0m\n",
      "\u001b[32m[I 2021-05-07 11:20:33,230]\u001b[0m Trial 170 finished with value: 0.8151531308063259 and parameters: {'max_depth': 15, 'min_samples_split': 3, 'max_features': None}. Best is trial 14 with value: 0.8151531308063259.\u001b[0m\n",
      "\u001b[32m[I 2021-05-07 11:20:33,252]\u001b[0m Trial 171 finished with value: 0.8151531308063259 and parameters: {'max_depth': 15, 'min_samples_split': 3, 'max_features': None}. Best is trial 14 with value: 0.8151531308063259.\u001b[0m\n",
      "\u001b[32m[I 2021-05-07 11:20:33,286]\u001b[0m Trial 172 finished with value: 0.8151531308063259 and parameters: {'max_depth': 15, 'min_samples_split': 3, 'max_features': None}. Best is trial 14 with value: 0.8151531308063259.\u001b[0m\n",
      "\u001b[32m[I 2021-05-07 11:20:33,318]\u001b[0m Trial 173 finished with value: 0.8151531308063259 and parameters: {'max_depth': 15, 'min_samples_split': 3, 'max_features': None}. Best is trial 14 with value: 0.8151531308063259.\u001b[0m\n",
      "\u001b[32m[I 2021-05-07 11:20:33,339]\u001b[0m Trial 174 finished with value: 0.8151531308063259 and parameters: {'max_depth': 15, 'min_samples_split': 3, 'max_features': None}. Best is trial 14 with value: 0.8151531308063259.\u001b[0m\n",
      "\u001b[32m[I 2021-05-07 11:20:33,360]\u001b[0m Trial 175 finished with value: 0.8151531308063259 and parameters: {'max_depth': 15, 'min_samples_split': 3, 'max_features': None}. Best is trial 14 with value: 0.8151531308063259.\u001b[0m\n",
      "\u001b[32m[I 2021-05-07 11:20:33,458]\u001b[0m Trial 176 finished with value: 0.8151531308063259 and parameters: {'max_depth': 15, 'min_samples_split': 3, 'max_features': None}. Best is trial 14 with value: 0.8151531308063259.\u001b[0m\n",
      "\u001b[32m[I 2021-05-07 11:20:33,461]\u001b[0m Trial 177 finished with value: 0.8106003920681472 and parameters: {'max_depth': 16, 'min_samples_split': 3, 'max_features': None}. Best is trial 14 with value: 0.8151531308063259.\u001b[0m\n",
      "\u001b[32m[I 2021-05-07 11:20:33,497]\u001b[0m Trial 178 finished with value: 0.8106003920681472 and parameters: {'max_depth': 16, 'min_samples_split': 3, 'max_features': None}. Best is trial 14 with value: 0.8151531308063259.\u001b[0m\n",
      "\u001b[32m[I 2021-05-07 11:20:33,503]\u001b[0m Trial 179 finished with value: 0.8106003920681472 and parameters: {'max_depth': 16, 'min_samples_split': 3, 'max_features': None}. Best is trial 14 with value: 0.8151531308063259.\u001b[0m\n",
      "\u001b[32m[I 2021-05-07 11:20:33,538]\u001b[0m Trial 180 finished with value: 0.8106003920681472 and parameters: {'max_depth': 16, 'min_samples_split': 3, 'max_features': None}. Best is trial 14 with value: 0.8151531308063259.\u001b[0m\n",
      "\u001b[32m[I 2021-05-07 11:20:33,553]\u001b[0m Trial 181 finished with value: 0.8106003920681472 and parameters: {'max_depth': 16, 'min_samples_split': 3, 'max_features': None}. Best is trial 14 with value: 0.8151531308063259.\u001b[0m\n",
      "\u001b[32m[I 2021-05-07 11:20:33,670]\u001b[0m Trial 182 finished with value: 0.8106003920681472 and parameters: {'max_depth': 16, 'min_samples_split': 3, 'max_features': None}. Best is trial 14 with value: 0.8151531308063259.\u001b[0m\n",
      "\u001b[32m[I 2021-05-07 11:20:33,689]\u001b[0m Trial 184 finished with value: 0.8119186439279709 and parameters: {'max_depth': 14, 'min_samples_split': 3, 'max_features': None}. Best is trial 14 with value: 0.8151531308063259.\u001b[0m\n",
      "\u001b[32m[I 2021-05-07 11:20:33,698]\u001b[0m Trial 183 finished with value: 0.8119186439279709 and parameters: {'max_depth': 14, 'min_samples_split': 3, 'max_features': None}. Best is trial 14 with value: 0.8151531308063259.\u001b[0m\n",
      "\u001b[32m[I 2021-05-07 11:20:33,699]\u001b[0m Trial 185 finished with value: 0.8119186439279709 and parameters: {'max_depth': 14, 'min_samples_split': 3, 'max_features': None}. Best is trial 14 with value: 0.8151531308063259.\u001b[0m\n",
      "\u001b[32m[I 2021-05-07 11:20:33,739]\u001b[0m Trial 186 finished with value: 0.8119186439279709 and parameters: {'max_depth': 14, 'min_samples_split': 3, 'max_features': None}. Best is trial 14 with value: 0.8151531308063259.\u001b[0m\n",
      "\u001b[32m[I 2021-05-07 11:20:33,766]\u001b[0m Trial 187 finished with value: 0.8119186439279709 and parameters: {'max_depth': 14, 'min_samples_split': 3, 'max_features': None}. Best is trial 14 with value: 0.8151531308063259.\u001b[0m\n",
      "\u001b[32m[I 2021-05-07 11:20:33,884]\u001b[0m Trial 189 finished with value: 0.8151531308063259 and parameters: {'max_depth': 15, 'min_samples_split': 3, 'max_features': None}. Best is trial 14 with value: 0.8151531308063259.\u001b[0m\n",
      "\u001b[32m[I 2021-05-07 11:20:33,905]\u001b[0m Trial 188 finished with value: 0.8119186439279709 and parameters: {'max_depth': 14, 'min_samples_split': 3, 'max_features': None}. Best is trial 14 with value: 0.8151531308063259.\u001b[0m\n"
     ]
    },
    {
     "name": "stderr",
     "output_type": "stream",
     "text": [
      "\u001b[32m[I 2021-05-07 11:20:33,934]\u001b[0m Trial 191 finished with value: 0.8151531308063259 and parameters: {'max_depth': 15, 'min_samples_split': 3, 'max_features': None}. Best is trial 14 with value: 0.8151531308063259.\u001b[0m\n",
      "\u001b[32m[I 2021-05-07 11:20:33,954]\u001b[0m Trial 193 finished with value: 0.8151531308063259 and parameters: {'max_depth': 15, 'min_samples_split': 3, 'max_features': None}. Best is trial 14 with value: 0.8151531308063259.\u001b[0m\n",
      "\u001b[32m[I 2021-05-07 11:20:33,957]\u001b[0m Trial 192 finished with value: 0.8151531308063259 and parameters: {'max_depth': 15, 'min_samples_split': 3, 'max_features': None}. Best is trial 14 with value: 0.8151531308063259.\u001b[0m\n",
      "\u001b[32m[I 2021-05-07 11:20:33,957]\u001b[0m Trial 190 finished with value: 0.8151531308063259 and parameters: {'max_depth': 15, 'min_samples_split': 3, 'max_features': None}. Best is trial 14 with value: 0.8151531308063259.\u001b[0m\n",
      "\u001b[32m[I 2021-05-07 11:20:34,088]\u001b[0m Trial 194 finished with value: 0.8151531308063259 and parameters: {'max_depth': 15, 'min_samples_split': 3, 'max_features': None}. Best is trial 14 with value: 0.8151531308063259.\u001b[0m\n",
      "\u001b[32m[I 2021-05-07 11:20:34,092]\u001b[0m Trial 195 finished with value: 0.8151531308063259 and parameters: {'max_depth': 15, 'min_samples_split': 3, 'max_features': None}. Best is trial 14 with value: 0.8151531308063259.\u001b[0m\n",
      "\u001b[32m[I 2021-05-07 11:20:34,108]\u001b[0m Trial 196 finished with value: 0.8151531308063259 and parameters: {'max_depth': 15, 'min_samples_split': 3, 'max_features': None}. Best is trial 14 with value: 0.8151531308063259.\u001b[0m\n",
      "\u001b[32m[I 2021-05-07 11:20:34,112]\u001b[0m Trial 198 finished with value: 0.8151531308063259 and parameters: {'max_depth': 15, 'min_samples_split': 3, 'max_features': None}. Best is trial 14 with value: 0.8151531308063259.\u001b[0m\n",
      "\u001b[32m[I 2021-05-07 11:20:34,123]\u001b[0m Trial 199 finished with value: 0.8151531308063259 and parameters: {'max_depth': 15, 'min_samples_split': 3, 'max_features': None}. Best is trial 14 with value: 0.8151531308063259.\u001b[0m\n",
      "\u001b[32m[I 2021-05-07 11:20:34,127]\u001b[0m Trial 197 finished with value: 0.8151531308063259 and parameters: {'max_depth': 15, 'min_samples_split': 3, 'max_features': None}. Best is trial 14 with value: 0.8151531308063259.\u001b[0m\n"
     ]
    }
   ],
   "source": [
    "study.optimize(objective_cv, n_trials=200, n_jobs=6)"
   ]
  },
  {
   "cell_type": "code",
   "execution_count": 10,
   "metadata": {},
   "outputs": [
    {
     "name": "stdout",
     "output_type": "stream",
     "text": [
      "With the best trial we achieve a mean F1 score of 0.8152 over all splits\n"
     ]
    }
   ],
   "source": [
    "print(f\"With the best trial we achieve a mean F1 score of {study.best_trial.value:.4f} over all splits\")"
   ]
  },
  {
   "cell_type": "code",
   "execution_count": 11,
   "metadata": {},
   "outputs": [
    {
     "name": "stdout",
     "output_type": "stream",
     "text": [
      "On the independent test set, we achieve an F1 score of 0.2138 with DecisionTreeClassifier\n"
     ]
    }
   ],
   "source": [
    "tuned_model = model_class(**study.best_trial.params)\n",
    "tuned_model.fit(X_train, y_train)\n",
    "\n",
    "y_pred = tuned_model.predict(X_test)\n",
    "f1_test = f1_score(y_test, y_pred)\n",
    "\n",
    "print(f\"On the independent test set, we achieve an F1 score of {f1_test:.4f} with {model_class.__name__}\")"
   ]
  },
  {
   "cell_type": "code",
   "execution_count": 12,
   "metadata": {},
   "outputs": [
    {
     "name": "stdout",
     "output_type": "stream",
     "text": [
      "              precision    recall  f1-score   support\n",
      "\n",
      "     Healthy       0.96      0.91      0.93       971\n",
      "      Stroke       0.16      0.34      0.21        50\n",
      "\n",
      "    accuracy                           0.88      1021\n",
      "   macro avg       0.56      0.62      0.57      1021\n",
      "weighted avg       0.92      0.88      0.90      1021\n",
      "\n",
      "=======================================================\n",
      "\n",
      "TN: 879\n",
      "FP: 92\n",
      "FN: 33\n",
      "TP: 17\n"
     ]
    }
   ],
   "source": [
    "print_result_summary(y_test, y_pred)"
   ]
  },
  {
   "cell_type": "markdown",
   "metadata": {},
   "source": [
    "### RandomForest"
   ]
  },
  {
   "cell_type": "code",
   "execution_count": 13,
   "metadata": {},
   "outputs": [],
   "source": [
    "model_class = RandomForestClassifier\n",
    "score = f1_score"
   ]
  },
  {
   "cell_type": "code",
   "execution_count": 14,
   "metadata": {},
   "outputs": [
    {
     "name": "stderr",
     "output_type": "stream",
     "text": [
      "\u001b[32m[I 2021-05-07 11:20:34,178]\u001b[0m A new study created in memory with name: no-name-d9577a57-35e9-4718-a2ab-281aec93143e\u001b[0m\n"
     ]
    }
   ],
   "source": [
    "study = optuna.create_study(direction=\"maximize\")  # We want to maximize the F1 score\n",
    "\n",
    "def objective_cv(trial):\n",
    "    params = {\n",
    "        \"max_depth\": trial.suggest_int(\"max_depth\", 3, 25),\n",
    "        \"min_samples_split\": trial.suggest_int(\"min_samples_split\", 2, 5),\n",
    "        \"max_features\": trial.suggest_categorical(\"max_features\", [\"sqrt\", None]),\n",
    "        \"n_estimators\": trial.suggest_int(\"n_estimators\", 5, 100),\n",
    "        \"random_state\": 42,\n",
    "    }\n",
    "    \n",
    "    # Perform cross validation\n",
    "    return perform_cv(model_class, params, f1_score)"
   ]
  },
  {
   "cell_type": "code",
   "execution_count": 15,
   "metadata": {
    "scrolled": true
   },
   "outputs": [
    {
     "name": "stderr",
     "output_type": "stream",
     "text": [
      "\u001b[32m[I 2021-05-07 11:20:35,428]\u001b[0m Trial 4 finished with value: 0.7292478438120533 and parameters: {'max_depth': 3, 'min_samples_split': 4, 'max_features': 'sqrt', 'n_estimators': 35}. Best is trial 4 with value: 0.7292478438120533.\u001b[0m\n",
      "\u001b[32m[I 2021-05-07 11:20:35,626]\u001b[0m Trial 3 finished with value: 0.7276261541758624 and parameters: {'max_depth': 3, 'min_samples_split': 3, 'max_features': 'sqrt', 'n_estimators': 42}. Best is trial 4 with value: 0.7292478438120533.\u001b[0m\n",
      "\u001b[32m[I 2021-05-07 11:20:35,874]\u001b[0m Trial 5 finished with value: 0.8625382704490431 and parameters: {'max_depth': 16, 'min_samples_split': 5, 'max_features': 'sqrt', 'n_estimators': 29}. Best is trial 5 with value: 0.8625382704490431.\u001b[0m\n",
      "\u001b[32m[I 2021-05-07 11:20:36,215]\u001b[0m Trial 2 finished with value: 0.755115628646327 and parameters: {'max_depth': 5, 'min_samples_split': 5, 'max_features': 'sqrt', 'n_estimators': 51}. Best is trial 5 with value: 0.8625382704490431.\u001b[0m\n",
      "\u001b[32m[I 2021-05-07 11:20:37,277]\u001b[0m Trial 8 finished with value: 0.7238159301550368 and parameters: {'max_depth': 3, 'min_samples_split': 2, 'max_features': 'sqrt', 'n_estimators': 57}. Best is trial 5 with value: 0.8625382704490431.\u001b[0m\n",
      "\u001b[32m[I 2021-05-07 11:20:38,456]\u001b[0m Trial 1 finished with value: 0.8705524979817199 and parameters: {'max_depth': 14, 'min_samples_split': 4, 'max_features': None, 'n_estimators': 49}. Best is trial 1 with value: 0.8705524979817199.\u001b[0m\n",
      "\u001b[32m[I 2021-05-07 11:20:38,632]\u001b[0m Trial 9 finished with value: 0.8324036043485037 and parameters: {'max_depth': 9, 'min_samples_split': 5, 'max_features': None, 'n_estimators': 32}. Best is trial 1 with value: 0.8705524979817199.\u001b[0m\n",
      "\u001b[32m[I 2021-05-07 11:20:39,766]\u001b[0m Trial 11 finished with value: 0.8684453206096234 and parameters: {'max_depth': 18, 'min_samples_split': 4, 'max_features': 'sqrt', 'n_estimators': 31}. Best is trial 1 with value: 0.8705524979817199.\u001b[0m\n",
      "\u001b[32m[I 2021-05-07 11:20:41,064]\u001b[0m Trial 10 finished with value: 0.8722435914510254 and parameters: {'max_depth': 20, 'min_samples_split': 4, 'max_features': 'sqrt', 'n_estimators': 94}. Best is trial 10 with value: 0.8722435914510254.\u001b[0m\n",
      "\u001b[32m[I 2021-05-07 11:20:42,245]\u001b[0m Trial 6 finished with value: 0.835804682058942 and parameters: {'max_depth': 9, 'min_samples_split': 4, 'max_features': None, 'n_estimators': 96}. Best is trial 10 with value: 0.8722435914510254.\u001b[0m\n",
      "\u001b[32m[I 2021-05-07 11:20:42,419]\u001b[0m Trial 12 finished with value: 0.7531463173770412 and parameters: {'max_depth': 5, 'min_samples_split': 5, 'max_features': None, 'n_estimators': 75}. Best is trial 10 with value: 0.8722435914510254.\u001b[0m\n",
      "\u001b[32m[I 2021-05-07 11:20:42,434]\u001b[0m Trial 7 finished with value: 0.8705812018191041 and parameters: {'max_depth': 24, 'min_samples_split': 5, 'max_features': None, 'n_estimators': 85}. Best is trial 10 with value: 0.8722435914510254.\u001b[0m\n",
      "\u001b[32m[I 2021-05-07 11:20:42,536]\u001b[0m Trial 0 finished with value: 0.872535074674829 and parameters: {'max_depth': 19, 'min_samples_split': 3, 'max_features': None, 'n_estimators': 100}. Best is trial 0 with value: 0.872535074674829.\u001b[0m\n",
      "\u001b[32m[I 2021-05-07 11:20:43,126]\u001b[0m Trial 18 finished with value: 0.8539062837741167 and parameters: {'max_depth': 22, 'min_samples_split': 3, 'max_features': None, 'n_estimators': 7}. Best is trial 0 with value: 0.872535074674829.\u001b[0m\n",
      "\u001b[32m[I 2021-05-07 11:20:43,275]\u001b[0m Trial 16 finished with value: 0.8593218241620034 and parameters: {'max_depth': 23, 'min_samples_split': 3, 'max_features': None, 'n_estimators': 9}. Best is trial 0 with value: 0.872535074674829.\u001b[0m\n",
      "\u001b[32m[I 2021-05-07 11:20:43,956]\u001b[0m Trial 14 finished with value: 0.8769898619136216 and parameters: {'max_depth': 15, 'min_samples_split': 2, 'max_features': 'sqrt', 'n_estimators': 72}. Best is trial 14 with value: 0.8769898619136216.\u001b[0m\n",
      "\u001b[32m[I 2021-05-07 11:20:44,760]\u001b[0m Trial 13 finished with value: 0.8675920604942762 and parameters: {'max_depth': 13, 'min_samples_split': 2, 'max_features': None, 'n_estimators': 65}. Best is trial 14 with value: 0.8769898619136216.\u001b[0m\n",
      "\u001b[32m[I 2021-05-07 11:20:46,648]\u001b[0m Trial 15 finished with value: 0.8792246696934523 and parameters: {'max_depth': 25, 'min_samples_split': 2, 'max_features': 'sqrt', 'n_estimators': 98}. Best is trial 15 with value: 0.8792246696934523.\u001b[0m\n",
      "\u001b[32m[I 2021-05-07 11:20:46,947]\u001b[0m Trial 21 finished with value: 0.8507401495899394 and parameters: {'max_depth': 11, 'min_samples_split': 2, 'max_features': 'sqrt', 'n_estimators': 71}. Best is trial 15 with value: 0.8792246696934523.\u001b[0m\n",
      "\u001b[32m[I 2021-05-07 11:20:47,725]\u001b[0m Trial 20 finished with value: 0.8792285225924793 and parameters: {'max_depth': 20, 'min_samples_split': 2, 'max_features': 'sqrt', 'n_estimators': 99}. Best is trial 20 with value: 0.8792285225924793.\u001b[0m\n",
      "\u001b[32m[I 2021-05-07 11:20:48,512]\u001b[0m Trial 22 finished with value: 0.8788032891768601 and parameters: {'max_depth': 18, 'min_samples_split': 2, 'max_features': 'sqrt', 'n_estimators': 82}. Best is trial 20 with value: 0.8792285225924793.\u001b[0m\n",
      "\u001b[32m[I 2021-05-07 11:20:50,298]\u001b[0m Trial 17 finished with value: 0.8719699756420354 and parameters: {'max_depth': 25, 'min_samples_split': 3, 'max_features': None, 'n_estimators': 94}. Best is trial 20 with value: 0.8792285225924793.\u001b[0m\n",
      "\u001b[32m[I 2021-05-07 11:20:50,619]\u001b[0m Trial 23 finished with value: 0.8775543619237626 and parameters: {'max_depth': 25, 'min_samples_split': 2, 'max_features': 'sqrt', 'n_estimators': 83}. Best is trial 20 with value: 0.8792285225924793.\u001b[0m\n",
      "\u001b[32m[I 2021-05-07 11:20:50,880]\u001b[0m Trial 24 finished with value: 0.8792607079981668 and parameters: {'max_depth': 25, 'min_samples_split': 2, 'max_features': 'sqrt', 'n_estimators': 84}. Best is trial 24 with value: 0.8792607079981668.\u001b[0m\n",
      "\u001b[32m[I 2021-05-07 11:20:51,398]\u001b[0m Trial 19 finished with value: 0.8736630346057952 and parameters: {'max_depth': 20, 'min_samples_split': 2, 'max_features': None, 'n_estimators': 99}. Best is trial 24 with value: 0.8792607079981668.\u001b[0m\n",
      "\u001b[32m[I 2021-05-07 11:20:52,013]\u001b[0m Trial 25 finished with value: 0.8786459417049393 and parameters: {'max_depth': 25, 'min_samples_split': 2, 'max_features': 'sqrt', 'n_estimators': 86}. Best is trial 24 with value: 0.8792607079981668.\u001b[0m\n",
      "\u001b[32m[I 2021-05-07 11:20:52,856]\u001b[0m Trial 26 finished with value: 0.8786459417049393 and parameters: {'max_depth': 25, 'min_samples_split': 2, 'max_features': 'sqrt', 'n_estimators': 86}. Best is trial 24 with value: 0.8792607079981668.\u001b[0m\n",
      "\u001b[32m[I 2021-05-07 11:20:54,635]\u001b[0m Trial 27 finished with value: 0.8793103541314915 and parameters: {'max_depth': 21, 'min_samples_split': 2, 'max_features': 'sqrt', 'n_estimators': 84}. Best is trial 27 with value: 0.8793103541314915.\u001b[0m\n",
      "\u001b[32m[I 2021-05-07 11:20:55,066]\u001b[0m Trial 28 finished with value: 0.8784166473216274 and parameters: {'max_depth': 22, 'min_samples_split': 2, 'max_features': 'sqrt', 'n_estimators': 85}. Best is trial 27 with value: 0.8793103541314915.\u001b[0m\n",
      "\u001b[32m[I 2021-05-07 11:20:55,530]\u001b[0m Trial 29 finished with value: 0.8788754744841804 and parameters: {'max_depth': 21, 'min_samples_split': 2, 'max_features': 'sqrt', 'n_estimators': 88}. Best is trial 27 with value: 0.8793103541314915.\u001b[0m\n",
      "\u001b[32m[I 2021-05-07 11:20:56,069]\u001b[0m Trial 30 finished with value: 0.8794812752805822 and parameters: {'max_depth': 22, 'min_samples_split': 2, 'max_features': 'sqrt', 'n_estimators': 88}. Best is trial 30 with value: 0.8794812752805822.\u001b[0m\n",
      "\u001b[32m[I 2021-05-07 11:20:56,914]\u001b[0m Trial 31 finished with value: 0.8798651673616449 and parameters: {'max_depth': 22, 'min_samples_split': 2, 'max_features': 'sqrt', 'n_estimators': 94}. Best is trial 31 with value: 0.8798651673616449.\u001b[0m\n",
      "\u001b[32m[I 2021-05-07 11:20:57,645]\u001b[0m Trial 32 finished with value: 0.8738891157706172 and parameters: {'max_depth': 22, 'min_samples_split': 3, 'max_features': 'sqrt', 'n_estimators': 92}. Best is trial 31 with value: 0.8798651673616449.\u001b[0m\n",
      "\u001b[32m[I 2021-05-07 11:20:58,015]\u001b[0m Trial 33 finished with value: 0.8735756155399844 and parameters: {'max_depth': 22, 'min_samples_split': 3, 'max_features': 'sqrt', 'n_estimators': 63}. Best is trial 31 with value: 0.8798651673616449.\u001b[0m\n",
      "\u001b[32m[I 2021-05-07 11:20:58,364]\u001b[0m Trial 34 finished with value: 0.8751878192380339 and parameters: {'max_depth': 21, 'min_samples_split': 3, 'max_features': 'sqrt', 'n_estimators': 63}. Best is trial 31 with value: 0.8798651673616449.\u001b[0m\n"
     ]
    },
    {
     "name": "stderr",
     "output_type": "stream",
     "text": [
      "\u001b[32m[I 2021-05-07 11:20:59,478]\u001b[0m Trial 35 finished with value: 0.8748256586213566 and parameters: {'max_depth': 17, 'min_samples_split': 3, 'max_features': 'sqrt', 'n_estimators': 74}. Best is trial 31 with value: 0.8798651673616449.\u001b[0m\n",
      "\u001b[32m[I 2021-05-07 11:21:00,179]\u001b[0m Trial 36 finished with value: 0.8744023625989499 and parameters: {'max_depth': 18, 'min_samples_split': 3, 'max_features': 'sqrt', 'n_estimators': 79}. Best is trial 31 with value: 0.8798651673616449.\u001b[0m\n",
      "\u001b[32m[I 2021-05-07 11:21:01,106]\u001b[0m Trial 37 finished with value: 0.8754021117963626 and parameters: {'max_depth': 23, 'min_samples_split': 3, 'max_features': 'sqrt', 'n_estimators': 78}. Best is trial 31 with value: 0.8798651673616449.\u001b[0m\n",
      "\u001b[32m[I 2021-05-07 11:21:01,709]\u001b[0m Trial 38 finished with value: 0.8743998848226948 and parameters: {'max_depth': 18, 'min_samples_split': 3, 'max_features': 'sqrt', 'n_estimators': 77}. Best is trial 31 with value: 0.8798651673616449.\u001b[0m\n",
      "\u001b[32m[I 2021-05-07 11:21:01,944]\u001b[0m Trial 39 finished with value: 0.8746284166298892 and parameters: {'max_depth': 18, 'min_samples_split': 3, 'max_features': 'sqrt', 'n_estimators': 75}. Best is trial 31 with value: 0.8798651673616449.\u001b[0m\n",
      "\u001b[32m[I 2021-05-07 11:21:02,595]\u001b[0m Trial 40 finished with value: 0.8792410455043281 and parameters: {'max_depth': 18, 'min_samples_split': 2, 'max_features': 'sqrt', 'n_estimators': 79}. Best is trial 31 with value: 0.8798651673616449.\u001b[0m\n",
      "\u001b[32m[I 2021-05-07 11:21:03,575]\u001b[0m Trial 41 finished with value: 0.8772659746253098 and parameters: {'max_depth': 23, 'min_samples_split': 2, 'max_features': 'sqrt', 'n_estimators': 78}. Best is trial 31 with value: 0.8798651673616449.\u001b[0m\n",
      "\u001b[32m[I 2021-05-07 11:21:05,067]\u001b[0m Trial 42 finished with value: 0.8782762313786275 and parameters: {'max_depth': 23, 'min_samples_split': 2, 'max_features': 'sqrt', 'n_estimators': 90}. Best is trial 31 with value: 0.8798651673616449.\u001b[0m\n",
      "\u001b[32m[I 2021-05-07 11:21:06,010]\u001b[0m Trial 43 finished with value: 0.877002469208219 and parameters: {'max_depth': 23, 'min_samples_split': 2, 'max_features': 'sqrt', 'n_estimators': 91}. Best is trial 31 with value: 0.8798651673616449.\u001b[0m\n",
      "\u001b[32m[I 2021-05-07 11:21:06,473]\u001b[0m Trial 44 finished with value: 0.8781759567788043 and parameters: {'max_depth': 24, 'min_samples_split': 2, 'max_features': 'sqrt', 'n_estimators': 90}. Best is trial 31 with value: 0.8798651673616449.\u001b[0m\n",
      "\u001b[32m[I 2021-05-07 11:21:06,842]\u001b[0m Trial 45 finished with value: 0.8775792304555431 and parameters: {'max_depth': 24, 'min_samples_split': 2, 'max_features': 'sqrt', 'n_estimators': 91}. Best is trial 31 with value: 0.8798651673616449.\u001b[0m\n",
      "\u001b[32m[I 2021-05-07 11:21:07,439]\u001b[0m Trial 46 finished with value: 0.8775792304555431 and parameters: {'max_depth': 24, 'min_samples_split': 2, 'max_features': 'sqrt', 'n_estimators': 91}. Best is trial 31 with value: 0.8798651673616449.\u001b[0m\n",
      "\u001b[32m[I 2021-05-07 11:21:07,655]\u001b[0m Trial 48 finished with value: 0.8769553673429196 and parameters: {'max_depth': 20, 'min_samples_split': 2, 'max_features': 'sqrt', 'n_estimators': 47}. Best is trial 31 with value: 0.8798651673616449.\u001b[0m\n",
      "\u001b[32m[I 2021-05-07 11:21:08,511]\u001b[0m Trial 47 finished with value: 0.8792077586965235 and parameters: {'max_depth': 20, 'min_samples_split': 2, 'max_features': 'sqrt', 'n_estimators': 90}. Best is trial 31 with value: 0.8798651673616449.\u001b[0m\n",
      "\u001b[32m[I 2021-05-07 11:21:09,080]\u001b[0m Trial 50 finished with value: 0.8774718945167812 and parameters: {'max_depth': 20, 'min_samples_split': 2, 'max_features': 'sqrt', 'n_estimators': 48}. Best is trial 31 with value: 0.8798651673616449.\u001b[0m\n",
      "\u001b[32m[I 2021-05-07 11:21:09,195]\u001b[0m Trial 51 finished with value: 0.881326430361152 and parameters: {'max_depth': 16, 'min_samples_split': 2, 'max_features': 'sqrt', 'n_estimators': 44}. Best is trial 51 with value: 0.881326430361152.\u001b[0m\n",
      "\u001b[32m[I 2021-05-07 11:21:09,696]\u001b[0m Trial 49 finished with value: 0.8782874041675361 and parameters: {'max_depth': 20, 'min_samples_split': 2, 'max_features': 'sqrt', 'n_estimators': 68}. Best is trial 51 with value: 0.881326430361152.\u001b[0m\n",
      "\u001b[32m[I 2021-05-07 11:21:10,608]\u001b[0m Trial 56 finished with value: 0.8788512778848105 and parameters: {'max_depth': 16, 'min_samples_split': 2, 'max_features': 'sqrt', 'n_estimators': 26}. Best is trial 51 with value: 0.881326430361152.\u001b[0m\n",
      "\u001b[32m[I 2021-05-07 11:21:11,073]\u001b[0m Trial 53 finished with value: 0.877383860793753 and parameters: {'max_depth': 15, 'min_samples_split': 2, 'max_features': 'sqrt', 'n_estimators': 66}. Best is trial 51 with value: 0.881326430361152.\u001b[0m\n",
      "\u001b[32m[I 2021-05-07 11:21:11,191]\u001b[0m Trial 52 finished with value: 0.8807925701035684 and parameters: {'max_depth': 16, 'min_samples_split': 2, 'max_features': 'sqrt', 'n_estimators': 68}. Best is trial 51 with value: 0.881326430361152.\u001b[0m\n",
      "\u001b[32m[I 2021-05-07 11:21:11,795]\u001b[0m Trial 57 finished with value: 0.8726953854549084 and parameters: {'max_depth': 15, 'min_samples_split': 2, 'max_features': 'sqrt', 'n_estimators': 39}. Best is trial 51 with value: 0.881326430361152.\u001b[0m\n",
      "\u001b[32m[I 2021-05-07 11:21:12,098]\u001b[0m Trial 54 finished with value: 0.8808083199780498 and parameters: {'max_depth': 16, 'min_samples_split': 2, 'max_features': 'sqrt', 'n_estimators': 66}. Best is trial 51 with value: 0.881326430361152.\u001b[0m\n",
      "\u001b[32m[I 2021-05-07 11:21:12,186]\u001b[0m Trial 55 finished with value: 0.8807004812089894 and parameters: {'max_depth': 16, 'min_samples_split': 2, 'max_features': 'sqrt', 'n_estimators': 57}. Best is trial 51 with value: 0.881326430361152.\u001b[0m\n",
      "\u001b[32m[I 2021-05-07 11:21:13,123]\u001b[0m Trial 59 finished with value: 0.8722119986747308 and parameters: {'max_depth': 14, 'min_samples_split': 2, 'max_features': 'sqrt', 'n_estimators': 38}. Best is trial 51 with value: 0.881326430361152.\u001b[0m\n",
      "\u001b[32m[I 2021-05-07 11:21:13,136]\u001b[0m Trial 60 finished with value: 0.871073724707173 and parameters: {'max_depth': 14, 'min_samples_split': 2, 'max_features': 'sqrt', 'n_estimators': 37}. Best is trial 51 with value: 0.881326430361152.\u001b[0m\n",
      "\u001b[32m[I 2021-05-07 11:21:13,660]\u001b[0m Trial 58 finished with value: 0.8751354434324432 and parameters: {'max_depth': 15, 'min_samples_split': 2, 'max_features': 'sqrt', 'n_estimators': 58}. Best is trial 51 with value: 0.881326430361152.\u001b[0m\n",
      "\u001b[32m[I 2021-05-07 11:21:14,732]\u001b[0m Trial 61 finished with value: 0.8718883339527084 and parameters: {'max_depth': 14, 'min_samples_split': 2, 'max_features': 'sqrt', 'n_estimators': 55}. Best is trial 51 with value: 0.881326430361152.\u001b[0m\n",
      "\u001b[32m[I 2021-05-07 11:21:14,970]\u001b[0m Trial 63 finished with value: 0.8665266143024282 and parameters: {'max_depth': 13, 'min_samples_split': 4, 'max_features': 'sqrt', 'n_estimators': 53}. Best is trial 51 with value: 0.881326430361152.\u001b[0m\n",
      "\u001b[32m[I 2021-05-07 11:21:15,084]\u001b[0m Trial 62 finished with value: 0.8653384321332741 and parameters: {'max_depth': 13, 'min_samples_split': 2, 'max_features': 'sqrt', 'n_estimators': 55}. Best is trial 51 with value: 0.881326430361152.\u001b[0m\n",
      "\u001b[32m[I 2021-05-07 11:21:15,986]\u001b[0m Trial 64 finished with value: 0.857724065450532 and parameters: {'max_depth': 12, 'min_samples_split': 4, 'max_features': 'sqrt', 'n_estimators': 55}. Best is trial 51 with value: 0.881326430361152.\u001b[0m\n",
      "\u001b[32m[I 2021-05-07 11:21:16,126]\u001b[0m Trial 65 finished with value: 0.8565680579917352 and parameters: {'max_depth': 12, 'min_samples_split': 4, 'max_features': 'sqrt', 'n_estimators': 57}. Best is trial 51 with value: 0.881326430361152.\u001b[0m\n",
      "\u001b[32m[I 2021-05-07 11:21:16,516]\u001b[0m Trial 66 finished with value: 0.8486190653632726 and parameters: {'max_depth': 11, 'min_samples_split': 2, 'max_features': 'sqrt', 'n_estimators': 55}. Best is trial 51 with value: 0.881326430361152.\u001b[0m\n",
      "\u001b[32m[I 2021-05-07 11:21:17,129]\u001b[0m Trial 68 finished with value: 0.881326430361152 and parameters: {'max_depth': 16, 'min_samples_split': 2, 'max_features': 'sqrt', 'n_estimators': 44}. Best is trial 51 with value: 0.881326430361152.\u001b[0m\n",
      "\u001b[32m[I 2021-05-07 11:21:17,254]\u001b[0m Trial 69 finished with value: 0.8822954285837232 and parameters: {'max_depth': 16, 'min_samples_split': 2, 'max_features': 'sqrt', 'n_estimators': 45}. Best is trial 69 with value: 0.8822954285837232.\u001b[0m\n"
     ]
    },
    {
     "name": "stderr",
     "output_type": "stream",
     "text": [
      "\u001b[32m[I 2021-05-07 11:21:17,527]\u001b[0m Trial 67 finished with value: 0.8613014732276504 and parameters: {'max_depth': 12, 'min_samples_split': 2, 'max_features': 'sqrt', 'n_estimators': 59}. Best is trial 69 with value: 0.8822954285837232.\u001b[0m\n",
      "\u001b[32m[I 2021-05-07 11:21:19,397]\u001b[0m Trial 70 finished with value: 0.8746407272525456 and parameters: {'max_depth': 16, 'min_samples_split': 2, 'max_features': None, 'n_estimators': 44}. Best is trial 69 with value: 0.8822954285837232.\u001b[0m\n",
      "\u001b[32m[I 2021-05-07 11:21:19,479]\u001b[0m Trial 71 finished with value: 0.871397775142548 and parameters: {'max_depth': 17, 'min_samples_split': 2, 'max_features': None, 'n_estimators': 46}. Best is trial 69 with value: 0.8822954285837232.\u001b[0m\n",
      "\u001b[32m[I 2021-05-07 11:21:19,683]\u001b[0m Trial 72 finished with value: 0.8737398187155263 and parameters: {'max_depth': 16, 'min_samples_split': 2, 'max_features': None, 'n_estimators': 43}. Best is trial 69 with value: 0.8822954285837232.\u001b[0m\n",
      "\u001b[32m[I 2021-05-07 11:21:20,210]\u001b[0m Trial 73 finished with value: 0.8746407272525456 and parameters: {'max_depth': 16, 'min_samples_split': 2, 'max_features': None, 'n_estimators': 44}. Best is trial 69 with value: 0.8822954285837232.\u001b[0m\n",
      "\u001b[32m[I 2021-05-07 11:21:20,673]\u001b[0m Trial 74 finished with value: 0.8746407272525456 and parameters: {'max_depth': 16, 'min_samples_split': 2, 'max_features': None, 'n_estimators': 44}. Best is trial 69 with value: 0.8822954285837232.\u001b[0m\n",
      "\u001b[32m[I 2021-05-07 11:21:20,871]\u001b[0m Trial 75 finished with value: 0.8746407272525456 and parameters: {'max_depth': 16, 'min_samples_split': 2, 'max_features': None, 'n_estimators': 44}. Best is trial 69 with value: 0.8822954285837232.\u001b[0m\n",
      "\u001b[32m[I 2021-05-07 11:21:20,995]\u001b[0m Trial 77 finished with value: 0.8693103153987266 and parameters: {'max_depth': 17, 'min_samples_split': 2, 'max_features': 'sqrt', 'n_estimators': 32}. Best is trial 69 with value: 0.8822954285837232.\u001b[0m\n",
      "\u001b[32m[I 2021-05-07 11:21:21,428]\u001b[0m Trial 76 finished with value: 0.8690400134068674 and parameters: {'max_depth': 17, 'min_samples_split': 2, 'max_features': 'sqrt', 'n_estimators': 43}. Best is trial 69 with value: 0.8822954285837232.\u001b[0m\n",
      "\u001b[32m[I 2021-05-07 11:21:22,241]\u001b[0m Trial 78 finished with value: 0.8716070114633958 and parameters: {'max_depth': 17, 'min_samples_split': 2, 'max_features': 'sqrt', 'n_estimators': 51}. Best is trial 69 with value: 0.8822954285837232.\u001b[0m\n",
      "\u001b[32m[I 2021-05-07 11:21:23,150]\u001b[0m Trial 82 finished with value: 0.8741911592737814 and parameters: {'max_depth': 19, 'min_samples_split': 2, 'max_features': 'sqrt', 'n_estimators': 40}. Best is trial 69 with value: 0.8822954285837232.\u001b[0m\n",
      "\u001b[32m[I 2021-05-07 11:21:23,381]\u001b[0m Trial 80 finished with value: 0.8716070114633958 and parameters: {'max_depth': 17, 'min_samples_split': 2, 'max_features': 'sqrt', 'n_estimators': 51}. Best is trial 69 with value: 0.8822954285837232.\u001b[0m\n",
      "\u001b[32m[I 2021-05-07 11:21:23,396]\u001b[0m Trial 79 finished with value: 0.8720310059134702 and parameters: {'max_depth': 17, 'min_samples_split': 2, 'max_features': 'sqrt', 'n_estimators': 61}. Best is trial 69 with value: 0.8822954285837232.\u001b[0m\n",
      "\u001b[32m[I 2021-05-07 11:21:23,622]\u001b[0m Trial 81 finished with value: 0.8716070114633958 and parameters: {'max_depth': 17, 'min_samples_split': 2, 'max_features': 'sqrt', 'n_estimators': 51}. Best is trial 69 with value: 0.8822954285837232.\u001b[0m\n",
      "\u001b[32m[I 2021-05-07 11:21:24,164]\u001b[0m Trial 85 finished with value: 0.7688822923683892 and parameters: {'max_depth': 6, 'min_samples_split': 2, 'max_features': 'sqrt', 'n_estimators': 23}. Best is trial 69 with value: 0.8822954285837232.\u001b[0m\n",
      "\u001b[32m[I 2021-05-07 11:21:24,838]\u001b[0m Trial 83 finished with value: 0.8766244443990976 and parameters: {'max_depth': 19, 'min_samples_split': 2, 'max_features': 'sqrt', 'n_estimators': 61}. Best is trial 69 with value: 0.8822954285837232.\u001b[0m\n",
      "\u001b[32m[I 2021-05-07 11:21:25,994]\u001b[0m Trial 84 finished with value: 0.8772822971474621 and parameters: {'max_depth': 19, 'min_samples_split': 2, 'max_features': 'sqrt', 'n_estimators': 70}. Best is trial 69 with value: 0.8822954285837232.\u001b[0m\n",
      "\u001b[32m[I 2021-05-07 11:21:27,946]\u001b[0m Trial 89 finished with value: 0.8770188272825074 and parameters: {'max_depth': 19, 'min_samples_split': 2, 'max_features': 'sqrt', 'n_estimators': 71}. Best is trial 69 with value: 0.8822954285837232.\u001b[0m\n",
      "\u001b[32m[I 2021-05-07 11:21:28,550]\u001b[0m Trial 87 finished with value: 0.8775616815448734 and parameters: {'max_depth': 19, 'min_samples_split': 2, 'max_features': 'sqrt', 'n_estimators': 97}. Best is trial 69 with value: 0.8822954285837232.\u001b[0m\n",
      "\u001b[32m[I 2021-05-07 11:21:28,599]\u001b[0m Trial 86 finished with value: 0.8775616815448734 and parameters: {'max_depth': 19, 'min_samples_split': 2, 'max_features': 'sqrt', 'n_estimators': 97}. Best is trial 69 with value: 0.8822954285837232.\u001b[0m\n",
      "\u001b[32m[I 2021-05-07 11:21:28,794]\u001b[0m Trial 88 finished with value: 0.8775616815448734 and parameters: {'max_depth': 19, 'min_samples_split': 2, 'max_features': 'sqrt', 'n_estimators': 97}. Best is trial 69 with value: 0.8822954285837232.\u001b[0m\n",
      "\u001b[32m[I 2021-05-07 11:21:29,709]\u001b[0m Trial 90 finished with value: 0.8761414097084627 and parameters: {'max_depth': 15, 'min_samples_split': 2, 'max_features': 'sqrt', 'n_estimators': 95}. Best is trial 69 with value: 0.8822954285837232.\u001b[0m\n",
      "\u001b[32m[I 2021-05-07 11:21:29,895]\u001b[0m Trial 92 finished with value: 0.8744743993397431 and parameters: {'max_depth': 21, 'min_samples_split': 2, 'max_features': 'sqrt', 'n_estimators': 35}. Best is trial 69 with value: 0.8822954285837232.\u001b[0m\n",
      "\u001b[32m[I 2021-05-07 11:21:30,458]\u001b[0m Trial 93 finished with value: 0.8718247474371316 and parameters: {'max_depth': 15, 'min_samples_split': 2, 'max_features': 'sqrt', 'n_estimators': 35}. Best is trial 69 with value: 0.8822954285837232.\u001b[0m\n",
      "\u001b[32m[I 2021-05-07 11:21:31,041]\u001b[0m Trial 91 finished with value: 0.8809140122093673 and parameters: {'max_depth': 21, 'min_samples_split': 2, 'max_features': 'sqrt', 'n_estimators': 96}. Best is trial 69 with value: 0.8822954285837232.\u001b[0m\n",
      "\u001b[32m[I 2021-05-07 11:21:33,595]\u001b[0m Trial 94 finished with value: 0.880482419814275 and parameters: {'max_depth': 21, 'min_samples_split': 2, 'max_features': 'sqrt', 'n_estimators': 95}. Best is trial 69 with value: 0.8822954285837232.\u001b[0m\n",
      "\u001b[32m[I 2021-05-07 11:21:33,666]\u001b[0m Trial 95 finished with value: 0.879730308361222 and parameters: {'max_depth': 21, 'min_samples_split': 2, 'max_features': 'sqrt', 'n_estimators': 94}. Best is trial 69 with value: 0.8822954285837232.\u001b[0m\n",
      "\u001b[32m[I 2021-05-07 11:21:34,026]\u001b[0m Trial 96 finished with value: 0.8778388896067453 and parameters: {'max_depth': 21, 'min_samples_split': 2, 'max_features': 'sqrt', 'n_estimators': 83}. Best is trial 69 with value: 0.8822954285837232.\u001b[0m\n",
      "\u001b[32m[I 2021-05-07 11:21:34,236]\u001b[0m Trial 97 finished with value: 0.8779166400908777 and parameters: {'max_depth': 21, 'min_samples_split': 2, 'max_features': 'sqrt', 'n_estimators': 82}. Best is trial 69 with value: 0.8822954285837232.\u001b[0m\n",
      "\u001b[32m[I 2021-05-07 11:21:34,779]\u001b[0m Trial 98 finished with value: 0.8776202893205193 and parameters: {'max_depth': 21, 'min_samples_split': 2, 'max_features': 'sqrt', 'n_estimators': 81}. Best is trial 69 with value: 0.8822954285837232.\u001b[0m\n",
      "\u001b[32m[I 2021-05-07 11:21:36,237]\u001b[0m Trial 99 finished with value: 0.8794449055860933 and parameters: {'max_depth': 21, 'min_samples_split': 2, 'max_features': 'sqrt', 'n_estimators': 100}. Best is trial 69 with value: 0.8822954285837232.\u001b[0m\n",
      "\u001b[32m[I 2021-05-07 11:21:36,672]\u001b[0m Trial 103 finished with value: 0.87138829910007 and parameters: {'max_depth': 18, 'min_samples_split': 2, 'max_features': 'sqrt', 'n_estimators': 49}. Best is trial 69 with value: 0.8822954285837232.\u001b[0m\n",
      "\u001b[32m[I 2021-05-07 11:21:38,764]\u001b[0m Trial 100 finished with value: 0.8775126397102 and parameters: {'max_depth': 22, 'min_samples_split': 2, 'max_features': 'sqrt', 'n_estimators': 100}. Best is trial 69 with value: 0.8822954285837232.\u001b[0m\n",
      "\u001b[32m[I 2021-05-07 11:21:38,924]\u001b[0m Trial 101 finished with value: 0.8794449055860933 and parameters: {'max_depth': 21, 'min_samples_split': 2, 'max_features': 'sqrt', 'n_estimators': 100}. Best is trial 69 with value: 0.8822954285837232.\u001b[0m\n"
     ]
    },
    {
     "name": "stderr",
     "output_type": "stream",
     "text": [
      "\u001b[32m[I 2021-05-07 11:21:39,025]\u001b[0m Trial 102 finished with value: 0.8798651673616449 and parameters: {'max_depth': 22, 'min_samples_split': 2, 'max_features': 'sqrt', 'n_estimators': 94}. Best is trial 69 with value: 0.8822954285837232.\u001b[0m\n",
      "\u001b[32m[I 2021-05-07 11:21:40,010]\u001b[0m Trial 104 finished with value: 0.8745554780032517 and parameters: {'max_depth': 22, 'min_samples_split': 3, 'max_features': 'sqrt', 'n_estimators': 100}. Best is trial 69 with value: 0.8822954285837232.\u001b[0m\n",
      "\u001b[32m[I 2021-05-07 11:21:41,062]\u001b[0m Trial 108 finished with value: 0.8766590642430871 and parameters: {'max_depth': 23, 'min_samples_split': 2, 'max_features': 'sqrt', 'n_estimators': 41}. Best is trial 69 with value: 0.8822954285837232.\u001b[0m\n",
      "\u001b[32m[I 2021-05-07 11:21:41,114]\u001b[0m Trial 105 finished with value: 0.8738923339566196 and parameters: {'max_depth': 22, 'min_samples_split': 3, 'max_features': 'sqrt', 'n_estimators': 93}. Best is trial 69 with value: 0.8822954285837232.\u001b[0m\n",
      "\u001b[32m[I 2021-05-07 11:21:41,303]\u001b[0m Trial 106 finished with value: 0.8794812752805822 and parameters: {'max_depth': 22, 'min_samples_split': 2, 'max_features': 'sqrt', 'n_estimators': 88}. Best is trial 69 with value: 0.8822954285837232.\u001b[0m\n",
      "\u001b[32m[I 2021-05-07 11:21:43,337]\u001b[0m Trial 107 finished with value: 0.8794812752805822 and parameters: {'max_depth': 22, 'min_samples_split': 2, 'max_features': 'sqrt', 'n_estimators': 88}. Best is trial 69 with value: 0.8822954285837232.\u001b[0m\n",
      "\u001b[32m[I 2021-05-07 11:21:43,904]\u001b[0m Trial 109 finished with value: 0.8773420468496027 and parameters: {'max_depth': 23, 'min_samples_split': 2, 'max_features': 'sqrt', 'n_estimators': 94}. Best is trial 69 with value: 0.8822954285837232.\u001b[0m\n",
      "\u001b[32m[I 2021-05-07 11:21:44,790]\u001b[0m Trial 110 finished with value: 0.8773017192729045 and parameters: {'max_depth': 23, 'min_samples_split': 2, 'max_features': 'sqrt', 'n_estimators': 93}. Best is trial 69 with value: 0.8822954285837232.\u001b[0m\n",
      "\u001b[32m[I 2021-05-07 11:21:45,821]\u001b[0m Trial 113 finished with value: 0.8794269234280427 and parameters: {'max_depth': 24, 'min_samples_split': 2, 'max_features': 'sqrt', 'n_estimators': 88}. Best is trial 69 with value: 0.8822954285837232.\u001b[0m\n",
      "\u001b[32m[I 2021-05-07 11:21:45,883]\u001b[0m Trial 111 finished with value: 0.872698566115724 and parameters: {'max_depth': 15, 'min_samples_split': 5, 'max_features': 'sqrt', 'n_estimators': 94}. Best is trial 69 with value: 0.8822954285837232.\u001b[0m\n",
      "\u001b[32m[I 2021-05-07 11:21:46,062]\u001b[0m Trial 112 finished with value: 0.8802540063496819 and parameters: {'max_depth': 16, 'min_samples_split': 2, 'max_features': 'sqrt', 'n_estimators': 94}. Best is trial 69 with value: 0.8822954285837232.\u001b[0m\n",
      "\u001b[32m[I 2021-05-07 11:21:46,409]\u001b[0m Trial 115 finished with value: 0.8738227264845488 and parameters: {'max_depth': 15, 'min_samples_split': 2, 'max_features': 'sqrt', 'n_estimators': 47}. Best is trial 69 with value: 0.8822954285837232.\u001b[0m\n",
      "\u001b[32m[I 2021-05-07 11:21:48,164]\u001b[0m Trial 114 finished with value: 0.8724110828393888 and parameters: {'max_depth': 15, 'min_samples_split': 5, 'max_features': 'sqrt', 'n_estimators': 95}. Best is trial 69 with value: 0.8822954285837232.\u001b[0m\n",
      "\u001b[32m[I 2021-05-07 11:21:49,343]\u001b[0m Trial 118 finished with value: 0.8792268305475117 and parameters: {'max_depth': 20, 'min_samples_split': 2, 'max_features': 'sqrt', 'n_estimators': 65}. Best is trial 69 with value: 0.8822954285837232.\u001b[0m\n",
      "\u001b[32m[I 2021-05-07 11:21:49,360]\u001b[0m Trial 119 finished with value: 0.8682651608512929 and parameters: {'max_depth': 14, 'min_samples_split': 2, 'max_features': 'sqrt', 'n_estimators': 67}. Best is trial 69 with value: 0.8822954285837232.\u001b[0m\n",
      "\u001b[32m[I 2021-05-07 11:21:49,533]\u001b[0m Trial 116 finished with value: 0.8794269234280427 and parameters: {'max_depth': 24, 'min_samples_split': 2, 'max_features': 'sqrt', 'n_estimators': 88}. Best is trial 69 with value: 0.8822954285837232.\u001b[0m\n",
      "\u001b[32m[I 2021-05-07 11:21:50,683]\u001b[0m Trial 121 finished with value: 0.8713002804759746 and parameters: {'max_depth': 14, 'min_samples_split': 2, 'max_features': 'sqrt', 'n_estimators': 49}. Best is trial 69 with value: 0.8822954285837232.\u001b[0m\n",
      "\u001b[32m[I 2021-05-07 11:21:51,025]\u001b[0m Trial 117 finished with value: 0.8794863783958057 and parameters: {'max_depth': 20, 'min_samples_split': 2, 'max_features': 'sqrt', 'n_estimators': 96}. Best is trial 69 with value: 0.8822954285837232.\u001b[0m\n",
      "\u001b[32m[I 2021-05-07 11:21:51,285]\u001b[0m Trial 120 finished with value: 0.8732568524022216 and parameters: {'max_depth': 14, 'min_samples_split': 2, 'max_features': 'sqrt', 'n_estimators': 96}. Best is trial 69 with value: 0.8822954285837232.\u001b[0m\n",
      "\u001b[32m[I 2021-05-07 11:21:51,978]\u001b[0m Trial 122 finished with value: 0.88224536014806 and parameters: {'max_depth': 16, 'min_samples_split': 2, 'max_features': 'sqrt', 'n_estimators': 49}. Best is trial 69 with value: 0.8822954285837232.\u001b[0m\n",
      "\u001b[32m[I 2021-05-07 11:21:54,218]\u001b[0m Trial 123 finished with value: 0.8791854966274257 and parameters: {'max_depth': 16, 'min_samples_split': 2, 'max_features': 'sqrt', 'n_estimators': 92}. Best is trial 69 with value: 0.8822954285837232.\u001b[0m\n",
      "\u001b[32m[I 2021-05-07 11:21:54,439]\u001b[0m Trial 128 finished with value: 0.8828503895567692 and parameters: {'max_depth': 16, 'min_samples_split': 2, 'max_features': 'sqrt', 'n_estimators': 46}. Best is trial 128 with value: 0.8828503895567692.\u001b[0m\n",
      "\u001b[32m[I 2021-05-07 11:21:54,504]\u001b[0m Trial 125 finished with value: 0.8820885049435649 and parameters: {'max_depth': 16, 'min_samples_split': 2, 'max_features': 'sqrt', 'n_estimators': 73}. Best is trial 128 with value: 0.8828503895567692.\u001b[0m\n",
      "\u001b[32m[I 2021-05-07 11:21:54,623]\u001b[0m Trial 124 finished with value: 0.8791533621545733 and parameters: {'max_depth': 16, 'min_samples_split': 2, 'max_features': 'sqrt', 'n_estimators': 98}. Best is trial 128 with value: 0.8828503895567692.\u001b[0m\n",
      "\u001b[32m[I 2021-05-07 11:21:56,041]\u001b[0m Trial 127 finished with value: 0.8791854966274257 and parameters: {'max_depth': 16, 'min_samples_split': 2, 'max_features': 'sqrt', 'n_estimators': 92}. Best is trial 128 with value: 0.8828503895567692.\u001b[0m\n",
      "\u001b[32m[I 2021-05-07 11:21:56,049]\u001b[0m Trial 126 finished with value: 0.8791533621545733 and parameters: {'max_depth': 16, 'min_samples_split': 2, 'max_features': 'sqrt', 'n_estimators': 98}. Best is trial 128 with value: 0.8828503895567692.\u001b[0m\n",
      "\u001b[32m[I 2021-05-07 11:21:56,575]\u001b[0m Trial 130 finished with value: 0.8790989752903329 and parameters: {'max_depth': 16, 'min_samples_split': 2, 'max_features': 'sqrt', 'n_estimators': 41}. Best is trial 128 with value: 0.8828503895567692.\u001b[0m\n",
      "\u001b[32m[I 2021-05-07 11:21:56,679]\u001b[0m Trial 129 finished with value: 0.8828503895567692 and parameters: {'max_depth': 16, 'min_samples_split': 2, 'max_features': 'sqrt', 'n_estimators': 46}. Best is trial 128 with value: 0.8828503895567692.\u001b[0m\n",
      "\u001b[32m[I 2021-05-07 11:21:56,941]\u001b[0m Trial 131 finished with value: 0.8828503895567692 and parameters: {'max_depth': 16, 'min_samples_split': 2, 'max_features': 'sqrt', 'n_estimators': 46}. Best is trial 128 with value: 0.8828503895567692.\u001b[0m\n",
      "\u001b[32m[I 2021-05-07 11:21:58,220]\u001b[0m Trial 132 finished with value: 0.8752469973163046 and parameters: {'max_depth': 18, 'min_samples_split': 2, 'max_features': 'sqrt', 'n_estimators': 69}. Best is trial 128 with value: 0.8828503895567692.\u001b[0m\n",
      "\u001b[32m[I 2021-05-07 11:21:58,654]\u001b[0m Trial 133 finished with value: 0.87172571156557 and parameters: {'max_depth': 17, 'min_samples_split': 2, 'max_features': 'sqrt', 'n_estimators': 47}. Best is trial 128 with value: 0.8828503895567692.\u001b[0m\n",
      "\u001b[32m[I 2021-05-07 11:21:59,344]\u001b[0m Trial 137 finished with value: 0.8738882124222803 and parameters: {'max_depth': 17, 'min_samples_split': 2, 'max_features': 'sqrt', 'n_estimators': 46}. Best is trial 128 with value: 0.8828503895567692.\u001b[0m\n",
      "\u001b[32m[I 2021-05-07 11:21:59,454]\u001b[0m Trial 135 finished with value: 0.8721605211235989 and parameters: {'max_depth': 18, 'min_samples_split': 2, 'max_features': 'sqrt', 'n_estimators': 53}. Best is trial 128 with value: 0.8828503895567692.\u001b[0m\n",
      "\u001b[32m[I 2021-05-07 11:21:59,534]\u001b[0m Trial 136 finished with value: 0.8709918001193566 and parameters: {'max_depth': 17, 'min_samples_split': 2, 'max_features': 'sqrt', 'n_estimators': 53}. Best is trial 128 with value: 0.8828503895567692.\u001b[0m\n"
     ]
    },
    {
     "name": "stderr",
     "output_type": "stream",
     "text": [
      "\u001b[32m[I 2021-05-07 11:22:00,004]\u001b[0m Trial 134 finished with value: 0.8757563905961169 and parameters: {'max_depth': 18, 'min_samples_split': 2, 'max_features': 'sqrt', 'n_estimators': 73}. Best is trial 128 with value: 0.8828503895567692.\u001b[0m\n",
      "\u001b[32m[I 2021-05-07 11:22:00,761]\u001b[0m Trial 138 finished with value: 0.8738882124222803 and parameters: {'max_depth': 17, 'min_samples_split': 2, 'max_features': 'sqrt', 'n_estimators': 46}. Best is trial 128 with value: 0.8828503895567692.\u001b[0m\n",
      "\u001b[32m[I 2021-05-07 11:22:01,176]\u001b[0m Trial 139 finished with value: 0.8722255180151169 and parameters: {'max_depth': 15, 'min_samples_split': 2, 'max_features': 'sqrt', 'n_estimators': 45}. Best is trial 128 with value: 0.8828503895567692.\u001b[0m\n",
      "\u001b[32m[I 2021-05-07 11:22:01,755]\u001b[0m Trial 140 finished with value: 0.8722255180151169 and parameters: {'max_depth': 15, 'min_samples_split': 2, 'max_features': 'sqrt', 'n_estimators': 45}. Best is trial 128 with value: 0.8828503895567692.\u001b[0m\n",
      "\u001b[32m[I 2021-05-07 11:22:02,603]\u001b[0m Trial 143 finished with value: 0.8771901864917135 and parameters: {'max_depth': 15, 'min_samples_split': 2, 'max_features': 'sqrt', 'n_estimators': 50}. Best is trial 128 with value: 0.8828503895567692.\u001b[0m\n",
      "\u001b[32m[I 2021-05-07 11:22:02,775]\u001b[0m Trial 144 finished with value: 0.8732371158296456 and parameters: {'max_depth': 15, 'min_samples_split': 2, 'max_features': 'sqrt', 'n_estimators': 38}. Best is trial 128 with value: 0.8828503895567692.\u001b[0m\n",
      "\u001b[32m[I 2021-05-07 11:22:03,329]\u001b[0m Trial 141 finished with value: 0.8771805633704884 and parameters: {'max_depth': 15, 'min_samples_split': 2, 'max_features': 'sqrt', 'n_estimators': 73}. Best is trial 128 with value: 0.8828503895567692.\u001b[0m\n",
      "\u001b[32m[I 2021-05-07 11:22:03,457]\u001b[0m Trial 142 finished with value: 0.8771124918495445 and parameters: {'max_depth': 15, 'min_samples_split': 2, 'max_features': 'sqrt', 'n_estimators': 74}. Best is trial 128 with value: 0.8828503895567692.\u001b[0m\n",
      "\u001b[32m[I 2021-05-07 11:22:04,014]\u001b[0m Trial 146 finished with value: 0.8805332601889034 and parameters: {'max_depth': 16, 'min_samples_split': 2, 'max_features': 'sqrt', 'n_estimators': 42}. Best is trial 128 with value: 0.8828503895567692.\u001b[0m\n",
      "\u001b[32m[I 2021-05-07 11:22:04,522]\u001b[0m Trial 145 finished with value: 0.8819619470007563 and parameters: {'max_depth': 16, 'min_samples_split': 2, 'max_features': 'sqrt', 'n_estimators': 63}. Best is trial 128 with value: 0.8828503895567692.\u001b[0m\n",
      "\u001b[32m[I 2021-05-07 11:22:04,827]\u001b[0m Trial 147 finished with value: 0.8805332601889034 and parameters: {'max_depth': 16, 'min_samples_split': 2, 'max_features': 'sqrt', 'n_estimators': 42}. Best is trial 128 with value: 0.8828503895567692.\u001b[0m\n",
      "\u001b[32m[I 2021-05-07 11:22:04,971]\u001b[0m Trial 148 finished with value: 0.8790989752903329 and parameters: {'max_depth': 16, 'min_samples_split': 2, 'max_features': 'sqrt', 'n_estimators': 41}. Best is trial 128 with value: 0.8828503895567692.\u001b[0m\n",
      "\u001b[32m[I 2021-05-07 11:22:05,655]\u001b[0m Trial 149 finished with value: 0.8805332601889034 and parameters: {'max_depth': 16, 'min_samples_split': 2, 'max_features': 'sqrt', 'n_estimators': 42}. Best is trial 128 with value: 0.8828503895567692.\u001b[0m\n",
      "\u001b[32m[I 2021-05-07 11:22:05,764]\u001b[0m Trial 150 finished with value: 0.8805332601889034 and parameters: {'max_depth': 16, 'min_samples_split': 2, 'max_features': 'sqrt', 'n_estimators': 42}. Best is trial 128 with value: 0.8828503895567692.\u001b[0m\n",
      "\u001b[32m[I 2021-05-07 11:22:06,363]\u001b[0m Trial 151 finished with value: 0.8805332601889034 and parameters: {'max_depth': 16, 'min_samples_split': 2, 'max_features': 'sqrt', 'n_estimators': 42}. Best is trial 128 with value: 0.8828503895567692.\u001b[0m\n",
      "\u001b[32m[I 2021-05-07 11:22:07,784]\u001b[0m Trial 152 finished with value: 0.8832346662271716 and parameters: {'max_depth': 16, 'min_samples_split': 2, 'max_features': 'sqrt', 'n_estimators': 61}. Best is trial 152 with value: 0.8832346662271716.\u001b[0m\n",
      "\u001b[32m[I 2021-05-07 11:22:08,200]\u001b[0m Trial 153 finished with value: 0.8819619470007563 and parameters: {'max_depth': 16, 'min_samples_split': 2, 'max_features': 'sqrt', 'n_estimators': 63}. Best is trial 152 with value: 0.8832346662271716.\u001b[0m\n",
      "\u001b[32m[I 2021-05-07 11:22:08,250]\u001b[0m Trial 154 finished with value: 0.882241714048614 and parameters: {'max_depth': 16, 'min_samples_split': 2, 'max_features': 'sqrt', 'n_estimators': 62}. Best is trial 152 with value: 0.8832346662271716.\u001b[0m\n",
      "\u001b[32m[I 2021-05-07 11:22:08,793]\u001b[0m Trial 155 finished with value: 0.8718364946734429 and parameters: {'max_depth': 17, 'min_samples_split': 2, 'max_features': 'sqrt', 'n_estimators': 60}. Best is trial 152 with value: 0.8832346662271716.\u001b[0m\n",
      "\u001b[32m[I 2021-05-07 11:22:09,107]\u001b[0m Trial 156 finished with value: 0.8716651315792102 and parameters: {'max_depth': 17, 'min_samples_split': 2, 'max_features': 'sqrt', 'n_estimators': 62}. Best is trial 152 with value: 0.8832346662271716.\u001b[0m\n",
      "\u001b[32m[I 2021-05-07 11:22:09,820]\u001b[0m Trial 157 finished with value: 0.8716542741533978 and parameters: {'max_depth': 17, 'min_samples_split': 2, 'max_features': 'sqrt', 'n_estimators': 63}. Best is trial 152 with value: 0.8832346662271716.\u001b[0m\n",
      "\u001b[32m[I 2021-05-07 11:22:10,809]\u001b[0m Trial 158 finished with value: 0.8715333186949964 and parameters: {'max_depth': 17, 'min_samples_split': 2, 'max_features': 'sqrt', 'n_estimators': 59}. Best is trial 152 with value: 0.8832346662271716.\u001b[0m\n",
      "\u001b[32m[I 2021-05-07 11:22:11,628]\u001b[0m Trial 159 finished with value: 0.8716542741533978 and parameters: {'max_depth': 17, 'min_samples_split': 2, 'max_features': 'sqrt', 'n_estimators': 63}. Best is trial 152 with value: 0.8832346662271716.\u001b[0m\n",
      "\u001b[32m[I 2021-05-07 11:22:11,634]\u001b[0m Trial 160 finished with value: 0.8723444805953113 and parameters: {'max_depth': 17, 'min_samples_split': 2, 'max_features': 'sqrt', 'n_estimators': 64}. Best is trial 152 with value: 0.8832346662271716.\u001b[0m\n",
      "\u001b[32m[I 2021-05-07 11:22:12,221]\u001b[0m Trial 161 finished with value: 0.8716542741533978 and parameters: {'max_depth': 17, 'min_samples_split': 2, 'max_features': 'sqrt', 'n_estimators': 63}. Best is trial 152 with value: 0.8832346662271716.\u001b[0m\n",
      "\u001b[32m[I 2021-05-07 11:22:12,441]\u001b[0m Trial 162 finished with value: 0.8702166875666135 and parameters: {'max_depth': 14, 'min_samples_split': 2, 'max_features': 'sqrt', 'n_estimators': 64}. Best is trial 152 with value: 0.8832346662271716.\u001b[0m\n",
      "\u001b[32m[I 2021-05-07 11:22:12,755]\u001b[0m Trial 163 finished with value: 0.8704261327538381 and parameters: {'max_depth': 14, 'min_samples_split': 2, 'max_features': 'sqrt', 'n_estimators': 57}. Best is trial 152 with value: 0.8832346662271716.\u001b[0m\n",
      "\u001b[32m[I 2021-05-07 11:22:14,217]\u001b[0m Trial 164 finished with value: 0.8663462334398291 and parameters: {'max_depth': 13, 'min_samples_split': 2, 'max_features': 'sqrt', 'n_estimators': 64}. Best is trial 152 with value: 0.8832346662271716.\u001b[0m\n",
      "\u001b[32m[I 2021-05-07 11:22:14,631]\u001b[0m Trial 165 finished with value: 0.8648327131820146 and parameters: {'max_depth': 13, 'min_samples_split': 2, 'max_features': 'sqrt', 'n_estimators': 57}. Best is trial 152 with value: 0.8832346662271716.\u001b[0m\n",
      "\u001b[32m[I 2021-05-07 11:22:14,775]\u001b[0m Trial 166 finished with value: 0.8807004812089894 and parameters: {'max_depth': 16, 'min_samples_split': 2, 'max_features': 'sqrt', 'n_estimators': 57}. Best is trial 152 with value: 0.8832346662271716.\u001b[0m\n",
      "\u001b[32m[I 2021-05-07 11:22:15,268]\u001b[0m Trial 167 finished with value: 0.8795976627149367 and parameters: {'max_depth': 16, 'min_samples_split': 2, 'max_features': 'sqrt', 'n_estimators': 56}. Best is trial 152 with value: 0.8832346662271716.\u001b[0m\n",
      "\u001b[32m[I 2021-05-07 11:22:15,828]\u001b[0m Trial 168 finished with value: 0.8687620725129624 and parameters: {'max_depth': 13, 'min_samples_split': 2, 'max_features': 'sqrt', 'n_estimators': 66}. Best is trial 152 with value: 0.8832346662271716.\u001b[0m\n",
      "\u001b[32m[I 2021-05-07 11:22:16,429]\u001b[0m Trial 169 finished with value: 0.8811907057608682 and parameters: {'max_depth': 16, 'min_samples_split': 2, 'max_features': 'sqrt', 'n_estimators': 67}. Best is trial 152 with value: 0.8832346662271716.\u001b[0m\n",
      "\u001b[32m[I 2021-05-07 11:22:17,758]\u001b[0m Trial 170 finished with value: 0.8811907057608682 and parameters: {'max_depth': 16, 'min_samples_split': 2, 'max_features': 'sqrt', 'n_estimators': 67}. Best is trial 152 with value: 0.8832346662271716.\u001b[0m\n"
     ]
    },
    {
     "name": "stderr",
     "output_type": "stream",
     "text": [
      "\u001b[32m[I 2021-05-07 11:22:18,262]\u001b[0m Trial 171 finished with value: 0.8807925701035684 and parameters: {'max_depth': 16, 'min_samples_split': 2, 'max_features': 'sqrt', 'n_estimators': 68}. Best is trial 152 with value: 0.8832346662271716.\u001b[0m\n",
      "\u001b[32m[I 2021-05-07 11:22:18,340]\u001b[0m Trial 172 finished with value: 0.8811907057608682 and parameters: {'max_depth': 16, 'min_samples_split': 2, 'max_features': 'sqrt', 'n_estimators': 67}. Best is trial 152 with value: 0.8832346662271716.\u001b[0m\n",
      "\u001b[32m[I 2021-05-07 11:22:18,813]\u001b[0m Trial 173 finished with value: 0.8775701809670678 and parameters: {'max_depth': 15, 'min_samples_split': 2, 'max_features': 'sqrt', 'n_estimators': 67}. Best is trial 152 with value: 0.8832346662271716.\u001b[0m\n",
      "\u001b[32m[I 2021-05-07 11:22:19,390]\u001b[0m Trial 174 finished with value: 0.8775701809670678 and parameters: {'max_depth': 15, 'min_samples_split': 2, 'max_features': 'sqrt', 'n_estimators': 67}. Best is trial 152 with value: 0.8832346662271716.\u001b[0m\n",
      "\u001b[32m[I 2021-05-07 11:22:19,963]\u001b[0m Trial 175 finished with value: 0.877157878013201 and parameters: {'max_depth': 15, 'min_samples_split': 2, 'max_features': 'sqrt', 'n_estimators': 68}. Best is trial 152 with value: 0.8832346662271716.\u001b[0m\n",
      "\u001b[32m[I 2021-05-07 11:22:21,455]\u001b[0m Trial 176 finished with value: 0.877157878013201 and parameters: {'max_depth': 15, 'min_samples_split': 2, 'max_features': 'sqrt', 'n_estimators': 68}. Best is trial 152 with value: 0.8832346662271716.\u001b[0m\n",
      "\u001b[32m[I 2021-05-07 11:22:21,910]\u001b[0m Trial 177 finished with value: 0.877157878013201 and parameters: {'max_depth': 15, 'min_samples_split': 2, 'max_features': 'sqrt', 'n_estimators': 68}. Best is trial 152 with value: 0.8832346662271716.\u001b[0m\n",
      "\u001b[32m[I 2021-05-07 11:22:21,996]\u001b[0m Trial 178 finished with value: 0.877157878013201 and parameters: {'max_depth': 15, 'min_samples_split': 2, 'max_features': 'sqrt', 'n_estimators': 68}. Best is trial 152 with value: 0.8832346662271716.\u001b[0m\n",
      "\u001b[32m[I 2021-05-07 11:22:22,475]\u001b[0m Trial 179 finished with value: 0.877157878013201 and parameters: {'max_depth': 15, 'min_samples_split': 2, 'max_features': 'sqrt', 'n_estimators': 68}. Best is trial 152 with value: 0.8832346662271716.\u001b[0m\n",
      "\u001b[32m[I 2021-05-07 11:22:23,014]\u001b[0m Trial 181 finished with value: 0.7987298145922825 and parameters: {'max_depth': 8, 'min_samples_split': 2, 'max_features': 'sqrt', 'n_estimators': 70}. Best is trial 152 with value: 0.8832346662271716.\u001b[0m\n",
      "\u001b[32m[I 2021-05-07 11:22:23,118]\u001b[0m Trial 180 finished with value: 0.8819511887078739 and parameters: {'max_depth': 16, 'min_samples_split': 2, 'max_features': 'sqrt', 'n_estimators': 70}. Best is trial 152 with value: 0.8832346662271716.\u001b[0m\n",
      "\u001b[32m[I 2021-05-07 11:22:25,244]\u001b[0m Trial 182 finished with value: 0.8762630749913702 and parameters: {'max_depth': 18, 'min_samples_split': 2, 'max_features': 'sqrt', 'n_estimators': 71}. Best is trial 152 with value: 0.8832346662271716.\u001b[0m\n",
      "\u001b[32m[I 2021-05-07 11:22:25,558]\u001b[0m Trial 186 finished with value: 0.8816016735486116 and parameters: {'max_depth': 16, 'min_samples_split': 2, 'max_features': 'sqrt', 'n_estimators': 48}. Best is trial 152 with value: 0.8832346662271716.\u001b[0m\n",
      "\u001b[32m[I 2021-05-07 11:22:25,633]\u001b[0m Trial 183 finished with value: 0.8819511887078739 and parameters: {'max_depth': 16, 'min_samples_split': 2, 'max_features': 'sqrt', 'n_estimators': 70}. Best is trial 152 with value: 0.8832346662271716.\u001b[0m\n",
      "\u001b[32m[I 2021-05-07 11:22:25,752]\u001b[0m Trial 184 finished with value: 0.8819511887078739 and parameters: {'max_depth': 16, 'min_samples_split': 2, 'max_features': 'sqrt', 'n_estimators': 70}. Best is trial 152 with value: 0.8832346662271716.\u001b[0m\n",
      "\u001b[32m[I 2021-05-07 11:22:26,246]\u001b[0m Trial 185 finished with value: 0.8814357409021454 and parameters: {'max_depth': 16, 'min_samples_split': 2, 'max_features': 'sqrt', 'n_estimators': 71}. Best is trial 152 with value: 0.8832346662271716.\u001b[0m\n",
      "\u001b[32m[I 2021-05-07 11:22:26,885]\u001b[0m Trial 187 finished with value: 0.8814357409021454 and parameters: {'max_depth': 16, 'min_samples_split': 2, 'max_features': 'sqrt', 'n_estimators': 71}. Best is trial 152 with value: 0.8832346662271716.\u001b[0m\n",
      "\u001b[32m[I 2021-05-07 11:22:28,159]\u001b[0m Trial 189 finished with value: 0.8816016735486116 and parameters: {'max_depth': 16, 'min_samples_split': 2, 'max_features': 'sqrt', 'n_estimators': 48}. Best is trial 152 with value: 0.8832346662271716.\u001b[0m\n",
      "\u001b[32m[I 2021-05-07 11:22:28,411]\u001b[0m Trial 191 finished with value: 0.88224536014806 and parameters: {'max_depth': 16, 'min_samples_split': 2, 'max_features': 'sqrt', 'n_estimators': 49}. Best is trial 152 with value: 0.8832346662271716.\u001b[0m\n",
      "\u001b[32m[I 2021-05-07 11:22:28,597]\u001b[0m Trial 188 finished with value: 0.8832346662271716 and parameters: {'max_depth': 16, 'min_samples_split': 2, 'max_features': 'sqrt', 'n_estimators': 61}. Best is trial 152 with value: 0.8832346662271716.\u001b[0m\n",
      "\u001b[32m[I 2021-05-07 11:22:29,672]\u001b[0m Trial 190 finished with value: 0.8812305655086462 and parameters: {'max_depth': 16, 'min_samples_split': 2, 'max_features': 'sqrt', 'n_estimators': 76}. Best is trial 152 with value: 0.8832346662271716.\u001b[0m\n",
      "\u001b[32m[I 2021-05-07 11:22:30,350]\u001b[0m Trial 192 finished with value: 0.8812305655086462 and parameters: {'max_depth': 16, 'min_samples_split': 2, 'max_features': 'sqrt', 'n_estimators': 76}. Best is trial 152 with value: 0.8832346662271716.\u001b[0m\n",
      "\u001b[32m[I 2021-05-07 11:22:30,723]\u001b[0m Trial 194 finished with value: 0.8816016735486116 and parameters: {'max_depth': 16, 'min_samples_split': 2, 'max_features': 'sqrt', 'n_estimators': 48}. Best is trial 152 with value: 0.8832346662271716.\u001b[0m\n",
      "\u001b[32m[I 2021-05-07 11:22:30,975]\u001b[0m Trial 193 finished with value: 0.8806846082199703 and parameters: {'max_depth': 16, 'min_samples_split': 2, 'max_features': 'sqrt', 'n_estimators': 77}. Best is trial 152 with value: 0.8832346662271716.\u001b[0m\n",
      "\u001b[32m[I 2021-05-07 11:22:31,133]\u001b[0m Trial 195 finished with value: 0.8722973488593089 and parameters: {'max_depth': 17, 'min_samples_split': 2, 'max_features': 'sqrt', 'n_estimators': 50}. Best is trial 152 with value: 0.8832346662271716.\u001b[0m\n",
      "\u001b[32m[I 2021-05-07 11:22:31,785]\u001b[0m Trial 197 finished with value: 0.8729035908811422 and parameters: {'max_depth': 17, 'min_samples_split': 2, 'max_features': 'sqrt', 'n_estimators': 48}. Best is trial 152 with value: 0.8832346662271716.\u001b[0m\n",
      "\u001b[32m[I 2021-05-07 11:22:32,007]\u001b[0m Trial 196 finished with value: 0.8806846082199703 and parameters: {'max_depth': 16, 'min_samples_split': 2, 'max_features': 'sqrt', 'n_estimators': 77}. Best is trial 152 with value: 0.8832346662271716.\u001b[0m\n",
      "\u001b[32m[I 2021-05-07 11:22:32,106]\u001b[0m Trial 198 finished with value: 0.8729035908811422 and parameters: {'max_depth': 17, 'min_samples_split': 2, 'max_features': 'sqrt', 'n_estimators': 48}. Best is trial 152 with value: 0.8832346662271716.\u001b[0m\n",
      "\u001b[32m[I 2021-05-07 11:22:32,227]\u001b[0m Trial 199 finished with value: 0.8729035908811422 and parameters: {'max_depth': 17, 'min_samples_split': 2, 'max_features': 'sqrt', 'n_estimators': 48}. Best is trial 152 with value: 0.8832346662271716.\u001b[0m\n"
     ]
    }
   ],
   "source": [
    "study.optimize(objective_cv, n_trials=200, n_jobs=6)"
   ]
  },
  {
   "cell_type": "code",
   "execution_count": 16,
   "metadata": {},
   "outputs": [
    {
     "name": "stdout",
     "output_type": "stream",
     "text": [
      "With the best trial we achieve a mean F1 score of 0.8832 over all splits\n"
     ]
    }
   ],
   "source": [
    "print(f\"With the best trial we achieve a mean F1 score of {study.best_trial.value:.4f} over all splits\")"
   ]
  },
  {
   "cell_type": "code",
   "execution_count": 17,
   "metadata": {
    "scrolled": true
   },
   "outputs": [
    {
     "name": "stdout",
     "output_type": "stream",
     "text": [
      "On the independent test set, we achieve an F1 score of 0.2576 with RandomForestClassifier\n"
     ]
    }
   ],
   "source": [
    "tuned_model = model_class(**study.best_trial.params)\n",
    "tuned_model.fit(X_train, y_train)\n",
    "\n",
    "y_pred = tuned_model.predict(X_test)\n",
    "f1_test = f1_score(y_test, y_pred)\n",
    "\n",
    "print(f\"On the independent test set, we achieve an F1 score of {f1_test:.4f} with {model_class.__name__}\")"
   ]
  },
  {
   "cell_type": "code",
   "execution_count": 18,
   "metadata": {},
   "outputs": [
    {
     "name": "stdout",
     "output_type": "stream",
     "text": [
      "              precision    recall  f1-score   support\n",
      "\n",
      "     Healthy       0.96      0.93      0.95       971\n",
      "      Stroke       0.21      0.34      0.26        50\n",
      "\n",
      "    accuracy                           0.90      1021\n",
      "   macro avg       0.59      0.64      0.60      1021\n",
      "weighted avg       0.93      0.90      0.91      1021\n",
      "\n",
      "=======================================================\n",
      "\n",
      "TN: 906\n",
      "FP: 65\n",
      "FN: 33\n",
      "TP: 17\n"
     ]
    }
   ],
   "source": [
    "print_result_summary(y_test, y_pred)"
   ]
  },
  {
   "cell_type": "markdown",
   "metadata": {},
   "source": [
    "### k-Nearest Neighbor"
   ]
  },
  {
   "cell_type": "code",
   "execution_count": 19,
   "metadata": {},
   "outputs": [],
   "source": [
    "model_class = KNeighborsClassifier\n",
    "score = f1_score"
   ]
  },
  {
   "cell_type": "code",
   "execution_count": 20,
   "metadata": {},
   "outputs": [
    {
     "name": "stderr",
     "output_type": "stream",
     "text": [
      "\u001b[32m[I 2021-05-07 11:22:32,506]\u001b[0m A new study created in memory with name: no-name-ec2718f7-2c87-4f07-ad90-d4f4c1cbd8a4\u001b[0m\n"
     ]
    }
   ],
   "source": [
    "study = optuna.create_study(direction=\"maximize\")  # We want to maximize the F1 score\n",
    "\n",
    "def objective_cv(trial):\n",
    "    params = {\n",
    "        \"n_neighbors\": trial.suggest_int(\"n_neighbors\", 3, 10),\n",
    "        \"weights\": trial.suggest_categorical(\"weights\", [\"uniform\", \"distance\"])\n",
    "    }\n",
    "    \n",
    "    # Perform cross validation\n",
    "    return perform_cv(model_class, params, f1_score)"
   ]
  },
  {
   "cell_type": "code",
   "execution_count": 21,
   "metadata": {
    "scrolled": false
   },
   "outputs": [
    {
     "name": "stderr",
     "output_type": "stream",
     "text": [
      "\u001b[32m[I 2021-05-07 11:22:32,794]\u001b[0m Trial 3 finished with value: 0.8491419505215116 and parameters: {'n_neighbors': 3, 'weights': 'distance'}. Best is trial 3 with value: 0.8491419505215116.\u001b[0m\n",
      "\u001b[32m[I 2021-05-07 11:22:32,804]\u001b[0m Trial 0 finished with value: 0.8378977239317973 and parameters: {'n_neighbors': 8, 'weights': 'distance'}. Best is trial 3 with value: 0.8491419505215116.\u001b[0m\n",
      "\u001b[32m[I 2021-05-07 11:22:32,812]\u001b[0m Trial 5 finished with value: 0.8323638724956341 and parameters: {'n_neighbors': 9, 'weights': 'distance'}. Best is trial 3 with value: 0.8491419505215116.\u001b[0m\n",
      "\u001b[32m[I 2021-05-07 11:22:32,835]\u001b[0m Trial 2 finished with value: 0.8405171513544263 and parameters: {'n_neighbors': 5, 'weights': 'distance'}. Best is trial 3 with value: 0.8491419505215116.\u001b[0m\n",
      "\u001b[32m[I 2021-05-07 11:22:32,842]\u001b[0m Trial 4 finished with value: 0.852516761699248 and parameters: {'n_neighbors': 4, 'weights': 'distance'}. Best is trial 4 with value: 0.852516761699248.\u001b[0m\n",
      "\u001b[32m[I 2021-05-07 11:22:33,062]\u001b[0m Trial 8 finished with value: 0.8323638724956341 and parameters: {'n_neighbors': 9, 'weights': 'distance'}. Best is trial 4 with value: 0.852516761699248.\u001b[0m\n",
      "\u001b[32m[I 2021-05-07 11:22:33,086]\u001b[0m Trial 10 finished with value: 0.8470055267680928 and parameters: {'n_neighbors': 6, 'weights': 'distance'}. Best is trial 4 with value: 0.852516761699248.\u001b[0m\n",
      "\u001b[32m[I 2021-05-07 11:22:33,294]\u001b[0m Trial 12 finished with value: 0.852516761699248 and parameters: {'n_neighbors': 4, 'weights': 'distance'}. Best is trial 4 with value: 0.852516761699248.\u001b[0m\n",
      "\u001b[32m[I 2021-05-07 11:22:34,869]\u001b[0m Trial 1 finished with value: 0.8218034730834118 and parameters: {'n_neighbors': 10, 'weights': 'uniform'}. Best is trial 4 with value: 0.852516761699248.\u001b[0m\n",
      "\u001b[32m[I 2021-05-07 11:22:35,049]\u001b[0m Trial 6 finished with value: 0.8286011024635848 and parameters: {'n_neighbors': 7, 'weights': 'uniform'}. Best is trial 4 with value: 0.852516761699248.\u001b[0m\n",
      "\u001b[32m[I 2021-05-07 11:22:35,100]\u001b[0m Trial 14 finished with value: 0.852516761699248 and parameters: {'n_neighbors': 4, 'weights': 'distance'}. Best is trial 4 with value: 0.852516761699248.\u001b[0m\n",
      "\u001b[32m[I 2021-05-07 11:22:35,111]\u001b[0m Trial 9 finished with value: 0.8482058407967431 and parameters: {'n_neighbors': 4, 'weights': 'uniform'}. Best is trial 4 with value: 0.852516761699248.\u001b[0m\n",
      "\u001b[32m[I 2021-05-07 11:22:35,126]\u001b[0m Trial 7 finished with value: 0.8286011024635848 and parameters: {'n_neighbors': 7, 'weights': 'uniform'}. Best is trial 4 with value: 0.852516761699248.\u001b[0m\n",
      "\u001b[32m[I 2021-05-07 11:22:35,194]\u001b[0m Trial 11 finished with value: 0.8482058407967431 and parameters: {'n_neighbors': 4, 'weights': 'uniform'}. Best is trial 4 with value: 0.852516761699248.\u001b[0m\n",
      "\u001b[32m[I 2021-05-07 11:22:35,246]\u001b[0m Trial 13 finished with value: 0.8340450795226936 and parameters: {'n_neighbors': 8, 'weights': 'uniform'}. Best is trial 4 with value: 0.852516761699248.\u001b[0m\n",
      "\u001b[32m[I 2021-05-07 11:22:35,396]\u001b[0m Trial 15 finished with value: 0.8448952944158121 and parameters: {'n_neighbors': 3, 'weights': 'uniform'}. Best is trial 4 with value: 0.852516761699248.\u001b[0m\n"
     ]
    }
   ],
   "source": [
    "study.optimize(objective_cv, n_trials=16, n_jobs=6)"
   ]
  },
  {
   "cell_type": "code",
   "execution_count": 22,
   "metadata": {},
   "outputs": [
    {
     "name": "stdout",
     "output_type": "stream",
     "text": [
      "With the best trial we achieve a mean F1 score of 0.8525 over all splits\n"
     ]
    }
   ],
   "source": [
    "print(f\"With the best trial we achieve a mean F1 score of {study.best_trial.value:.4f} over all splits\")"
   ]
  },
  {
   "cell_type": "code",
   "execution_count": 23,
   "metadata": {
    "scrolled": true
   },
   "outputs": [
    {
     "name": "stdout",
     "output_type": "stream",
     "text": [
      "On the independent test set, we achieve an F1 score of 0.2176 with KNeighborsClassifier\n"
     ]
    }
   ],
   "source": [
    "tuned_model = model_class(**study.best_trial.params)\n",
    "tuned_model.fit(X_train, y_train)\n",
    "\n",
    "y_pred = tuned_model.predict(X_test)\n",
    "f1_test = f1_score(y_test, y_pred)\n",
    "\n",
    "print(f\"On the independent test set, we achieve an F1 score of {f1_test:.4f} with {model_class.__name__}\")"
   ]
  },
  {
   "cell_type": "code",
   "execution_count": 24,
   "metadata": {},
   "outputs": [
    {
     "name": "stdout",
     "output_type": "stream",
     "text": [
      "              precision    recall  f1-score   support\n",
      "\n",
      "     Healthy       0.97      0.87      0.92       971\n",
      "      Stroke       0.15      0.42      0.22        50\n",
      "\n",
      "    accuracy                           0.85      1021\n",
      "   macro avg       0.56      0.65      0.57      1021\n",
      "weighted avg       0.93      0.85      0.88      1021\n",
      "\n",
      "=======================================================\n",
      "\n",
      "TN: 849\n",
      "FP: 122\n",
      "FN: 29\n",
      "TP: 21\n"
     ]
    }
   ],
   "source": [
    "print_result_summary(y_test, y_pred)"
   ]
  },
  {
   "cell_type": "markdown",
   "metadata": {},
   "source": [
    "### Support Vector Machine"
   ]
  },
  {
   "cell_type": "code",
   "execution_count": 25,
   "metadata": {},
   "outputs": [],
   "source": [
    "model_class = SVC\n",
    "score = f1_score"
   ]
  },
  {
   "cell_type": "code",
   "execution_count": 26,
   "metadata": {},
   "outputs": [
    {
     "name": "stderr",
     "output_type": "stream",
     "text": [
      "\u001b[32m[I 2021-05-07 11:22:35,455]\u001b[0m A new study created in memory with name: no-name-8b420175-8fb4-4b3f-a4e8-a104c5b9726f\u001b[0m\n"
     ]
    }
   ],
   "source": [
    "study = optuna.create_study(direction=\"maximize\")  # We want to maximize the F1 score\n",
    "\n",
    "def objective_cv(trial):\n",
    "    params = {\n",
    "        \"C\": trial.suggest_uniform(\"C\", 1e-5, 1),\n",
    "        \"kernel\": trial.suggest_categorical(\"kernel\", [\"linear\", \"poly\", \"rbf\", \"sigmoid\"]),\n",
    "        \"degree\": trial.suggest_int(\"degree\", 3, 10),\n",
    "    }\n",
    "    \n",
    "    # Perform cross validation\n",
    "    return perform_cv(model_class, params, f1_score)"
   ]
  },
  {
   "cell_type": "code",
   "execution_count": 27,
   "metadata": {
    "scrolled": false
   },
   "outputs": [
    {
     "name": "stderr",
     "output_type": "stream",
     "text": [
      "\u001b[32m[I 2021-05-07 11:22:37,580]\u001b[0m Trial 3 finished with value: 0.6833592618127287 and parameters: {'C': 0.8195204062870496, 'kernel': 'rbf', 'degree': 3}. Best is trial 3 with value: 0.6833592618127287.\u001b[0m\n",
      "\u001b[32m[I 2021-05-07 11:22:37,619]\u001b[0m Trial 2 finished with value: 0.6803505102677475 and parameters: {'C': 0.2738085890956289, 'kernel': 'rbf', 'degree': 3}. Best is trial 3 with value: 0.6833592618127287.\u001b[0m\n",
      "\u001b[32m[I 2021-05-07 11:22:38,259]\u001b[0m Trial 4 finished with value: 0.6835102632068962 and parameters: {'C': 0.7547421547318046, 'kernel': 'rbf', 'degree': 10}. Best is trial 4 with value: 0.6835102632068962.\u001b[0m\n",
      "\u001b[32m[I 2021-05-07 11:22:39,883]\u001b[0m Trial 6 finished with value: 0.6833592618127287 and parameters: {'C': 0.7618543411821297, 'kernel': 'rbf', 'degree': 10}. Best is trial 4 with value: 0.6835102632068962.\u001b[0m\n",
      "\u001b[32m[I 2021-05-07 11:22:40,306]\u001b[0m Trial 5 finished with value: 0.3138392900298324 and parameters: {'C': 0.6147870314962345, 'kernel': 'sigmoid', 'degree': 5}. Best is trial 4 with value: 0.6835102632068962.\u001b[0m\n",
      "\u001b[32m[I 2021-05-07 11:22:41,811]\u001b[0m Trial 7 finished with value: 0.30873382816980577 and parameters: {'C': 0.8954399720954644, 'kernel': 'sigmoid', 'degree': 6}. Best is trial 4 with value: 0.6835102632068962.\u001b[0m\n",
      "\u001b[32m[I 2021-05-07 11:22:42,361]\u001b[0m Trial 10 finished with value: 0.6830714299525033 and parameters: {'C': 0.43433448402622793, 'kernel': 'rbf', 'degree': 10}. Best is trial 4 with value: 0.6835102632068962.\u001b[0m\n",
      "\u001b[32m[I 2021-05-07 11:22:42,871]\u001b[0m Trial 9 finished with value: 0.6826361468774111 and parameters: {'C': 0.6083500744237701, 'kernel': 'rbf', 'degree': 3}. Best is trial 4 with value: 0.6835102632068962.\u001b[0m\n",
      "\u001b[32m[I 2021-05-07 11:22:43,030]\u001b[0m Trial 8 finished with value: 0.31834779477245867 and parameters: {'C': 0.5166411838467745, 'kernel': 'sigmoid', 'degree': 10}. Best is trial 4 with value: 0.6835102632068962.\u001b[0m\n",
      "\u001b[32m[I 2021-05-07 11:22:44,749]\u001b[0m Trial 11 finished with value: 0.6833829233219474 and parameters: {'C': 0.8720958125424623, 'kernel': 'rbf', 'degree': 10}. Best is trial 4 with value: 0.6835102632068962.\u001b[0m\n",
      "\u001b[32m[I 2021-05-07 11:22:45,212]\u001b[0m Trial 14 finished with value: 0.6829075663508977 and parameters: {'C': 0.4449066397690853, 'kernel': 'rbf', 'degree': 7}. Best is trial 4 with value: 0.6835102632068962.\u001b[0m\n",
      "\u001b[32m[I 2021-05-07 11:22:45,556]\u001b[0m Trial 13 finished with value: 0.6837210029861571 and parameters: {'C': 0.9200737388776766, 'kernel': 'rbf', 'degree': 3}. Best is trial 13 with value: 0.6837210029861571.\u001b[0m\n",
      "\u001b[32m[I 2021-05-07 11:22:52,315]\u001b[0m Trial 15 finished with value: 0.5041934122688916 and parameters: {'C': 0.0703855182345321, 'kernel': 'poly', 'degree': 8}. Best is trial 13 with value: 0.6837210029861571.\u001b[0m\n",
      "\u001b[32m[I 2021-05-07 11:23:00,641]\u001b[0m Trial 17 finished with value: 0.6349031273174812 and parameters: {'C': 0.9843239441426168, 'kernel': 'poly', 'degree': 8}. Best is trial 13 with value: 0.6837210029861571.\u001b[0m\n",
      "\u001b[32m[I 2021-05-07 11:23:05,897]\u001b[0m Trial 0 finished with value: 0.7293308502698095 and parameters: {'C': 0.514690972363712, 'kernel': 'linear', 'degree': 7}. Best is trial 0 with value: 0.7293308502698095.\u001b[0m\n",
      "\u001b[32m[I 2021-05-07 11:23:14,760]\u001b[0m Trial 1 finished with value: 0.7303389515446954 and parameters: {'C': 0.8133109154397057, 'kernel': 'linear', 'degree': 4}. Best is trial 1 with value: 0.7303389515446954.\u001b[0m\n",
      "\u001b[32m[I 2021-05-07 11:23:18,376]\u001b[0m Trial 16 finished with value: 0.7311866044407802 and parameters: {'C': 0.9659882301703919, 'kernel': 'linear', 'degree': 8}. Best is trial 16 with value: 0.7311866044407802.\u001b[0m\n",
      "\u001b[32m[I 2021-05-07 11:23:18,413]\u001b[0m Trial 20 finished with value: 0.7289579108393919 and parameters: {'C': 0.13978094538902602, 'kernel': 'linear', 'degree': 5}. Best is trial 16 with value: 0.7311866044407802.\u001b[0m\n",
      "\u001b[32m[I 2021-05-07 11:23:30,023]\u001b[0m Trial 12 finished with value: 0.7306767349288364 and parameters: {'C': 0.8497774740492159, 'kernel': 'linear', 'degree': 3}. Best is trial 16 with value: 0.7311866044407802.\u001b[0m\n",
      "\u001b[32m[I 2021-05-07 11:23:31,944]\u001b[0m Trial 19 finished with value: 0.730333851472228 and parameters: {'C': 0.706077592635552, 'kernel': 'linear', 'degree': 5}. Best is trial 16 with value: 0.7311866044407802.\u001b[0m\n",
      "\u001b[32m[I 2021-05-07 11:23:32,861]\u001b[0m Trial 21 finished with value: 0.7292475674926264 and parameters: {'C': 0.23720442212655046, 'kernel': 'linear', 'degree': 5}. Best is trial 16 with value: 0.7311866044407802.\u001b[0m\n",
      "\u001b[32m[I 2021-05-07 11:23:37,506]\u001b[0m Trial 18 finished with value: 0.7305118883960586 and parameters: {'C': 0.9941264688497683, 'kernel': 'linear', 'degree': 5}. Best is trial 16 with value: 0.7311866044407802.\u001b[0m\n",
      "\u001b[32m[I 2021-05-07 11:23:46,366]\u001b[0m Trial 23 finished with value: 0.730333851472228 and parameters: {'C': 0.6816650882469981, 'kernel': 'linear', 'degree': 5}. Best is trial 16 with value: 0.7311866044407802.\u001b[0m\n",
      "\u001b[32m[I 2021-05-07 11:24:00,425]\u001b[0m Trial 22 finished with value: 0.7305118883960586 and parameters: {'C': 0.9975260015663887, 'kernel': 'linear', 'degree': 5}. Best is trial 16 with value: 0.7311866044407802.\u001b[0m\n",
      "\u001b[32m[I 2021-05-07 11:24:04,691]\u001b[0m Trial 24 finished with value: 0.7308505677573459 and parameters: {'C': 0.9954045385763495, 'kernel': 'linear', 'degree': 8}. Best is trial 16 with value: 0.7311866044407802.\u001b[0m\n",
      "\u001b[32m[I 2021-05-07 11:24:17,520]\u001b[0m Trial 25 finished with value: 0.7308505677573459 and parameters: {'C': 0.9807145078353244, 'kernel': 'linear', 'degree': 8}. Best is trial 16 with value: 0.7311866044407802.\u001b[0m\n",
      "\u001b[32m[I 2021-05-07 11:24:17,706]\u001b[0m Trial 28 finished with value: 0.7308505677573459 and parameters: {'C': 0.9805331615661739, 'kernel': 'linear', 'degree': 8}. Best is trial 16 with value: 0.7311866044407802.\u001b[0m\n",
      "\u001b[32m[I 2021-05-07 11:24:17,755]\u001b[0m Trial 26 finished with value: 0.7311866044407802 and parameters: {'C': 0.96697140450373, 'kernel': 'linear', 'degree': 4}. Best is trial 16 with value: 0.7311866044407802.\u001b[0m\n",
      "\u001b[32m[I 2021-05-07 11:24:26,026]\u001b[0m Trial 27 finished with value: 0.7308505677573459 and parameters: {'C': 0.9983148008201528, 'kernel': 'linear', 'degree': 8}. Best is trial 16 with value: 0.7311866044407802.\u001b[0m\n",
      "\u001b[32m[I 2021-05-07 11:24:36,827]\u001b[0m Trial 29 finished with value: 0.7311866044407802 and parameters: {'C': 0.9752821204756604, 'kernel': 'linear', 'degree': 8}. Best is trial 16 with value: 0.7311866044407802.\u001b[0m\n"
     ]
    }
   ],
   "source": [
    "study.optimize(objective_cv, n_trials=30, n_jobs=6)"
   ]
  },
  {
   "cell_type": "code",
   "execution_count": 28,
   "metadata": {},
   "outputs": [
    {
     "name": "stdout",
     "output_type": "stream",
     "text": [
      "With the best trial we achieve a mean F1 score of 0.7312 over all splits\n"
     ]
    }
   ],
   "source": [
    "print(f\"With the best trial we achieve a mean F1 score of {study.best_trial.value:.4f} over all splits\")"
   ]
  },
  {
   "cell_type": "code",
   "execution_count": 29,
   "metadata": {
    "scrolled": true
   },
   "outputs": [
    {
     "name": "stdout",
     "output_type": "stream",
     "text": [
      "On the independent test set, we achieve an F1 score of 0.2796 with SVC\n"
     ]
    }
   ],
   "source": [
    "tuned_model = model_class(**study.best_trial.params)\n",
    "tuned_model.fit(X_train, y_train)\n",
    "\n",
    "y_pred = tuned_model.predict(X_test)\n",
    "f1_test = f1_score(y_test, y_pred)\n",
    "\n",
    "print(f\"On the independent test set, we achieve an F1 score of {f1_test:.4f} with {model_class.__name__}\")"
   ]
  },
  {
   "cell_type": "code",
   "execution_count": 30,
   "metadata": {},
   "outputs": [
    {
     "name": "stdout",
     "output_type": "stream",
     "text": [
      "              precision    recall  f1-score   support\n",
      "\n",
      "     Healthy       0.97      0.89      0.93       971\n",
      "      Stroke       0.19      0.52      0.28        50\n",
      "\n",
      "    accuracy                           0.87      1021\n",
      "   macro avg       0.58      0.70      0.60      1021\n",
      "weighted avg       0.93      0.87      0.90      1021\n",
      "\n",
      "=======================================================\n",
      "\n",
      "TN: 861\n",
      "FP: 110\n",
      "FN: 24\n",
      "TP: 26\n"
     ]
    }
   ],
   "source": [
    "print_result_summary(y_test, y_pred)"
   ]
  },
  {
   "cell_type": "markdown",
   "metadata": {},
   "source": [
    "## Conclusion"
   ]
  },
  {
   "cell_type": "markdown",
   "metadata": {},
   "source": [
    "As you can see, every classifier of us achieves an accuracy of >= 90%. Now we can go get a beer and celebrate, we solved the task!\n",
    "\n",
    "Jokes aside, in practice this would just be the starting point of modelling. Because of the imbalanced class problem (see \"support\" of Healthy and Stroke samples in the result summaries) accuracy is by no means suited as a metric for this problem.\n",
    "\n",
    "A better metric is the F1-Score (although debatable, because this assumes that we assign the same importance to FNs (Recall) as well as FP (Precision). In practice, especially in medicine, we might have other assumptions, e.g. \"FPs are not so bad, but we have to catch every stroke possible\"). We see in terms of F1-Score, the classifiers are all pretty similar. The same is true for their performance on \"Healthy\" samples (Prec/Recall for all classifiers are similar). \n",
    "\n",
    "The difference between the approaches is their performance on the \"Stroke\" class. We see the SVC model achieves the best F1-Score of all the models by having a high recall but comparatively low precision on the strokes. This is also shown by the confusion matrix (Best overall TPs but worst FPs). The other approaches are more conservative, having a lower number of both TPs and FPs, resulting in a more balanced precision and recall score.\n",
    "\n",
    "---\n",
    "\n",
    "We didn't fully solve the task of predicting stroke patients, but we made the first step towards it. The main problem here is the sparsity of stroke patients, which we tackled via SMOTE. In addition, the features we have about the patients don't seem to be the most useful (e.g. work type, residence type). However, we did the data exploration and found some interesting patterns in the data, created new features and came up with classifiers which are by no means perfect but still an improvement. In this case the SVM classifier is the best one, especially if (like I described above) we make the assumption that in the medical domain the recall is more important than the precision.\n",
    "\n",
    "What I didn't show in the notebooks is the comparisson between different levels of augmentation in the training dataset. There we see that the best case is the one were SMOTE augments so much data that we end up with a 50:50 class distribution."
   ]
  }
 ],
 "metadata": {
  "kernelspec": {
   "display_name": "Python 3",
   "language": "python",
   "name": "python3"
  },
  "language_info": {
   "codemirror_mode": {
    "name": "ipython",
    "version": 3
   },
   "file_extension": ".py",
   "mimetype": "text/x-python",
   "name": "python",
   "nbconvert_exporter": "python",
   "pygments_lexer": "ipython3",
   "version": "3.8.5"
  },
  "latex_envs": {
   "LaTeX_envs_menu_present": true,
   "autoclose": false,
   "autocomplete": true,
   "bibliofile": "biblio.bib",
   "cite_by": "apalike",
   "current_citInitial": 1,
   "eqLabelWithNumbers": true,
   "eqNumInitial": 1,
   "hotkeys": {
    "equation": "Ctrl-E",
    "itemize": "Ctrl-I"
   },
   "labels_anchors": false,
   "latex_user_defs": false,
   "report_style_numbering": false,
   "user_envs_cfg": false
  }
 },
 "nbformat": 4,
 "nbformat_minor": 4
}
