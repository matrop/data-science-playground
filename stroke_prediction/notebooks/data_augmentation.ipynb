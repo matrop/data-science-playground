{
 "cells": [
  {
   "cell_type": "code",
   "execution_count": 1,
   "metadata": {},
   "outputs": [],
   "source": [
    "# Data manipulation\n",
    "import numpy as np\n",
    "import pandas as pd\n",
    "\n",
    "# Misc\n",
    "import os\n",
    "\n",
    "# SMOTE\n",
    "from imblearn.over_sampling import SMOTENC\n",
    "\n",
    "df = pd.read_csv(os.path.join(\"..\", \"data\", \"train.csv\"))"
   ]
  },
  {
   "cell_type": "code",
   "execution_count": 2,
   "metadata": {},
   "outputs": [
    {
     "data": {
      "text/html": [
       "<div>\n",
       "<style scoped>\n",
       "    .dataframe tbody tr th:only-of-type {\n",
       "        vertical-align: middle;\n",
       "    }\n",
       "\n",
       "    .dataframe tbody tr th {\n",
       "        vertical-align: top;\n",
       "    }\n",
       "\n",
       "    .dataframe thead th {\n",
       "        text-align: right;\n",
       "    }\n",
       "</style>\n",
       "<table border=\"1\" class=\"dataframe\">\n",
       "  <thead>\n",
       "    <tr style=\"text-align: right;\">\n",
       "      <th></th>\n",
       "      <th>gender</th>\n",
       "      <th>age</th>\n",
       "      <th>hypertension</th>\n",
       "      <th>heart_disease</th>\n",
       "      <th>ever_married</th>\n",
       "      <th>work_type</th>\n",
       "      <th>avg_glucose_level</th>\n",
       "      <th>bmi</th>\n",
       "      <th>smoking_status</th>\n",
       "      <th>urban_residence</th>\n",
       "      <th>is_obese</th>\n",
       "      <th>has_disease</th>\n",
       "      <th>stroke</th>\n",
       "    </tr>\n",
       "  </thead>\n",
       "  <tbody>\n",
       "    <tr>\n",
       "      <th>0</th>\n",
       "      <td>Female</td>\n",
       "      <td>36.0</td>\n",
       "      <td>False</td>\n",
       "      <td>False</td>\n",
       "      <td>True</td>\n",
       "      <td>Private</td>\n",
       "      <td>68.48</td>\n",
       "      <td>24.3</td>\n",
       "      <td>never smoked</td>\n",
       "      <td>True</td>\n",
       "      <td>False</td>\n",
       "      <td>False</td>\n",
       "      <td>0</td>\n",
       "    </tr>\n",
       "    <tr>\n",
       "      <th>1</th>\n",
       "      <td>Female</td>\n",
       "      <td>27.0</td>\n",
       "      <td>False</td>\n",
       "      <td>False</td>\n",
       "      <td>False</td>\n",
       "      <td>Private</td>\n",
       "      <td>104.21</td>\n",
       "      <td>35.7</td>\n",
       "      <td>never smoked</td>\n",
       "      <td>False</td>\n",
       "      <td>True</td>\n",
       "      <td>True</td>\n",
       "      <td>0</td>\n",
       "    </tr>\n",
       "    <tr>\n",
       "      <th>2</th>\n",
       "      <td>Female</td>\n",
       "      <td>40.0</td>\n",
       "      <td>False</td>\n",
       "      <td>False</td>\n",
       "      <td>True</td>\n",
       "      <td>Private</td>\n",
       "      <td>72.99</td>\n",
       "      <td>46.4</td>\n",
       "      <td>Unknown</td>\n",
       "      <td>True</td>\n",
       "      <td>True</td>\n",
       "      <td>True</td>\n",
       "      <td>0</td>\n",
       "    </tr>\n",
       "    <tr>\n",
       "      <th>3</th>\n",
       "      <td>Female</td>\n",
       "      <td>44.0</td>\n",
       "      <td>False</td>\n",
       "      <td>False</td>\n",
       "      <td>True</td>\n",
       "      <td>Private</td>\n",
       "      <td>124.06</td>\n",
       "      <td>20.8</td>\n",
       "      <td>never smoked</td>\n",
       "      <td>True</td>\n",
       "      <td>False</td>\n",
       "      <td>False</td>\n",
       "      <td>0</td>\n",
       "    </tr>\n",
       "    <tr>\n",
       "      <th>4</th>\n",
       "      <td>Female</td>\n",
       "      <td>81.0</td>\n",
       "      <td>False</td>\n",
       "      <td>False</td>\n",
       "      <td>True</td>\n",
       "      <td>pensioner</td>\n",
       "      <td>95.84</td>\n",
       "      <td>21.5</td>\n",
       "      <td>never smoked</td>\n",
       "      <td>True</td>\n",
       "      <td>False</td>\n",
       "      <td>False</td>\n",
       "      <td>1</td>\n",
       "    </tr>\n",
       "  </tbody>\n",
       "</table>\n",
       "</div>"
      ],
      "text/plain": [
       "   gender   age  hypertension  heart_disease  ever_married  work_type  \\\n",
       "0  Female  36.0         False          False          True    Private   \n",
       "1  Female  27.0         False          False         False    Private   \n",
       "2  Female  40.0         False          False          True    Private   \n",
       "3  Female  44.0         False          False          True    Private   \n",
       "4  Female  81.0         False          False          True  pensioner   \n",
       "\n",
       "   avg_glucose_level   bmi smoking_status  urban_residence  is_obese  \\\n",
       "0              68.48  24.3   never smoked             True     False   \n",
       "1             104.21  35.7   never smoked            False      True   \n",
       "2              72.99  46.4        Unknown             True      True   \n",
       "3             124.06  20.8   never smoked             True     False   \n",
       "4              95.84  21.5   never smoked             True     False   \n",
       "\n",
       "   has_disease  stroke  \n",
       "0        False       0  \n",
       "1         True       0  \n",
       "2         True       0  \n",
       "3        False       0  \n",
       "4        False       1  "
      ]
     },
     "execution_count": 2,
     "metadata": {},
     "output_type": "execute_result"
    }
   ],
   "source": [
    "df.head()"
   ]
  },
  {
   "cell_type": "markdown",
   "metadata": {},
   "source": [
    "## SMOTE"
   ]
  },
  {
   "cell_type": "markdown",
   "metadata": {},
   "source": [
    "Due to the class imbalanced that we've seen during data exploration (1:20 stroke:no-stroke), we cannot simply apply machine learning. The methods would likely ignore the stroke samples and predict \"no stroke\" more often than not. What would result is great accuracy values would not be more than just saying \"no\" all the time (in addition we won't use the accuracy metric, but more on this later).\n",
    "\n",
    "In order to do something about the class imbalance, we apply SMOTE to our training data. This is a technique to artifially sample new data points from the minority class (\"Stroke\" in this case). For this, SMOTE randomly chooses a \"stroke\" sample, selects a close neighbor of this sample which belongs to the \"Stroke\" class and samples a point from the line between them. The sampled point is a new \"Stroke\" sample we can use.\n",
    "\n",
    "For reference: https://arxiv.org/pdf/1106.1813.pdf\n",
    "\n",
    "Note that in this case we use SMOTENC (SMOTE - Non Continuous) which can handle categorical values as well."
   ]
  },
  {
   "cell_type": "code",
   "execution_count": 3,
   "metadata": {},
   "outputs": [],
   "source": [
    "smote = SMOTENC(\n",
    "    categorical_features=(df.dtypes == \"object\"),\n",
    "    sampling_strategy=0.1,  # The class ratio of minority to majority after resampling\n",
    "    random_state=42,\n",
    ")"
   ]
  },
  {
   "cell_type": "code",
   "execution_count": 4,
   "metadata": {},
   "outputs": [],
   "source": [
    "df_aug, df_aug_labels = smote.fit_resample(df.drop(\"stroke\", axis=1), df.stroke)\n",
    "df_aug[\"stroke\"] = df_aug_labels"
   ]
  },
  {
   "cell_type": "code",
   "execution_count": 5,
   "metadata": {},
   "outputs": [
    {
     "name": "stdout",
     "output_type": "stream",
     "text": [
      "Old stroke count:  199\n",
      "New stroke count:  388\n"
     ]
    }
   ],
   "source": [
    "print(\"Old stroke count: \", df.stroke.sum())\n",
    "print(\"New stroke count: \", df_aug.stroke.sum())"
   ]
  },
  {
   "cell_type": "markdown",
   "metadata": {},
   "source": [
    "As you see we successfully applied SMOTENC to double the amount of strokes that we have in the data. Before we move on, lets redo the feature engineering in case SMOTE confused things."
   ]
  },
  {
   "cell_type": "markdown",
   "metadata": {},
   "source": [
    "#### Feature correction"
   ]
  },
  {
   "cell_type": "code",
   "execution_count": 6,
   "metadata": {},
   "outputs": [],
   "source": [
    "df_aug.loc[df_aug.age >= 67, \"work_type\"] = \"pensioner\"\n",
    "df_aug[\"is_obese\"] = df_aug.bmi > 25\n",
    "df_aug[\"has_disease\"] = df_aug.heart_disease | df_aug.hypertension | df_aug.is_obese"
   ]
  },
  {
   "cell_type": "markdown",
   "metadata": {},
   "source": [
    "## Save results"
   ]
  },
  {
   "cell_type": "code",
   "execution_count": 7,
   "metadata": {},
   "outputs": [],
   "source": [
    "df_aug.to_csv(os.path.join(\"..\", \"data\", \"train_augmented_10.csv\"), index=False)"
   ]
  },
  {
   "cell_type": "markdown",
   "metadata": {},
   "source": [
    "## Experimental"
   ]
  },
  {
   "cell_type": "markdown",
   "metadata": {},
   "source": [
    "To try a few things later on we will produce different training sets with SMOTE"
   ]
  },
  {
   "cell_type": "code",
   "execution_count": 8,
   "metadata": {},
   "outputs": [],
   "source": [
    "for class_ratio in [0.2, 0.25, 0.4, 0.5]:\n",
    "    smote = SMOTENC(\n",
    "        categorical_features=(df.dtypes == \"object\"),\n",
    "        sampling_strategy=class_ratio,  # The class ratio of minority to majority after resampling\n",
    "        random_state=42,\n",
    "    )\n",
    "\n",
    "    df_aug, df_aug_labels = smote.fit_resample(df.drop(\"stroke\", axis=1), df.stroke)\n",
    "    df_aug[\"stroke\"] = df_aug_labels\n",
    "\n",
    "    df_aug.loc[df_aug.age >= 67, \"work_type\"] = \"pensioner\"\n",
    "    df_aug[\"is_obese\"] = df_aug.bmi > 25\n",
    "    df_aug[\"has_disease\"] = df_aug.heart_disease | df_aug.hypertension | df_aug.is_obese\n",
    "\n",
    "    df_aug.to_csv(os.path.join(\"..\", \"data\", f\"train_augmented_{int(class_ratio*100)}.csv\"), index=False)"
   ]
  },
  {
   "cell_type": "code",
   "execution_count": null,
   "metadata": {},
   "outputs": [],
   "source": []
  }
 ],
 "metadata": {
  "kernelspec": {
   "display_name": "Python 3",
   "language": "python",
   "name": "python3"
  },
  "language_info": {
   "codemirror_mode": {
    "name": "ipython",
    "version": 3
   },
   "file_extension": ".py",
   "mimetype": "text/x-python",
   "name": "python",
   "nbconvert_exporter": "python",
   "pygments_lexer": "ipython3",
   "version": "3.8.5"
  },
  "latex_envs": {
   "LaTeX_envs_menu_present": true,
   "autoclose": false,
   "autocomplete": true,
   "bibliofile": "biblio.bib",
   "cite_by": "apalike",
   "current_citInitial": 1,
   "eqLabelWithNumbers": true,
   "eqNumInitial": 1,
   "hotkeys": {
    "equation": "Ctrl-E",
    "itemize": "Ctrl-I"
   },
   "labels_anchors": false,
   "latex_user_defs": false,
   "report_style_numbering": false,
   "user_envs_cfg": false
  }
 },
 "nbformat": 4,
 "nbformat_minor": 4
}
