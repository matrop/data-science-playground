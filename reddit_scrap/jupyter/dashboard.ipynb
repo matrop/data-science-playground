{
 "cells": [
  {
   "cell_type": "code",
   "execution_count": null,
   "metadata": {},
   "outputs": [],
   "source": [
    "import json\n",
    "import pandas as pd\n",
    "import sqlalchemy as sql\n",
    "\n",
    "# Plotting\n",
    "import matplotlib.pyplot as plt\n",
    "import seaborn as sns\n",
    "\n",
    "from typing import Dict"
   ]
  },
  {
   "cell_type": "code",
   "execution_count": null,
   "metadata": {},
   "outputs": [],
   "source": [
    "def load_config() -> Dict:\n",
    "    with open(\"dashboard_config.json\", \"r\") as file:\n",
    "        return json.load(file)\n",
    "\n",
    "\n",
    "def load_data() -> pd.DataFrame:\n",
    "    cfg = load_config()\n",
    "\n",
    "    engine = sql.create_engine(\n",
    "        f\"postgresql://{cfg['user']}:{cfg['password']}@{cfg['host']}:{cfg['port']}/{cfg['database']}\"\n",
    "    )\n",
    "    with engine.connect() as con:\n",
    "        return pd.read_sql(\n",
    "            f\"SELECT * FROM {cfg['database']}.{cfg['source_schema']}.{cfg['source_table']} LIMIT {cfg['row_limit']}\",\n",
    "            con=con,\n",
    "        )"
   ]
  },
  {
   "cell_type": "code",
   "execution_count": null,
   "metadata": {},
   "outputs": [],
   "source": [
    "data = load_data()\n",
    "\n",
    "data.head()"
   ]
  },
  {
   "cell_type": "code",
   "execution_count": null,
   "metadata": {},
   "outputs": [],
   "source": [
    "sns.set(rc={'figure.figsize':(21, 4)})\n",
    "figure, axes = plt.subplots(1, 3)\n",
    "\n",
    "\n",
    "axes[0].set_title(\"Non-unique Post Counts per subreddit\")\n",
    "axes[0].tick_params(\"x\", labelrotation=90)\n",
    "sns.barplot(x=data[\"subreddit\"], y=data[\"non_unique_post_count\"], color=\"CornflowerBlue\", ax=axes[0])\n",
    "\n",
    "# =========\n",
    "\n",
    "axes[1].set_title(\"Mean Upvote Ratio per subreddit\")\n",
    "axes[1].tick_params(\"x\", labelrotation=90)\n",
    "plot_data = data.sort_values(\"mean_upvote_ratio\", ascending=False)\n",
    "\n",
    "sns.barplot(x=plot_data[\"subreddit\"], y=plot_data[\"mean_upvote_ratio\"],color=\"CornflowerBlue\", ax=axes[1])\n",
    "\n",
    "# =========\n",
    "\n",
    "axes[2].set_title(\"Mean Post Upvotes per subreddit\")\n",
    "axes[2].tick_params(\"x\", labelrotation=90)\n",
    "plot_data = data.sort_values(\"mean_upvotes\", ascending=False)\n",
    "\n",
    "sns.barplot(x=plot_data[\"subreddit\"], y=plot_data[\"mean_upvotes\"],color=\"CornflowerBlue\", ax=axes[2])\n"
   ]
  }
 ],
 "metadata": {
  "interpreter": {
   "hash": "cac11052923a32db1fbaa20a188c00bc3c9e0988723055b0dc995d09bbdebf62"
  },
  "kernelspec": {
   "display_name": "Python 3.8.8 ('base')",
   "language": "python",
   "name": "python3"
  },
  "language_info": {
   "codemirror_mode": {
    "name": "ipython",
    "version": 3
   },
   "file_extension": ".py",
   "mimetype": "text/x-python",
   "name": "python",
   "nbconvert_exporter": "python",
   "pygments_lexer": "ipython3",
   "version": "3.8.8"
  },
  "orig_nbformat": 4
 },
 "nbformat": 4,
 "nbformat_minor": 2
}
