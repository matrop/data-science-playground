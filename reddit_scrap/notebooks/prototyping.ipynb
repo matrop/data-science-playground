{
 "cells": [
  {
   "cell_type": "code",
   "execution_count": 1,
   "id": "focal-rocket",
   "metadata": {},
   "outputs": [],
   "source": [
    "import requests"
   ]
  },
  {
   "cell_type": "code",
   "execution_count": 4,
   "id": "normal-portal",
   "metadata": {},
   "outputs": [],
   "source": [
    "auth = requests.auth.HTTPBasicAuth(\n",
    "    '_mh0lD9wwQfuSr_JiUfKPQ',\n",
    "    'dItOUj_QzYhLWlZVhEv6a-feaudvIQ')\n",
    "\n",
    "data = {\n",
    "    \"grant_type\": \"password\",\n",
    "    \"username\": \"\",\n",
    "    \"password\": \"\",\n",
    "}\n",
    "\n",
    "headers = {\"User-Agent\": \"DataEngBot/0.0.1 by mautrops\"}\n",
    "\n",
    "res = requests.post(\n",
    "    \"https://www.reddit.com/api/v1/access_token\",\n",
    "    auth=auth,\n",
    "    data=data,\n",
    "    headers=headers)\n",
    "\n",
    "if \"error\" in res.json():\n",
    "    raise RuntimeError(f\"Error in request: {res.json()['error']}\")\n",
    "\n",
    "# Get access token from response\n",
    "token = res.json()[\"access_token\"]\n",
    "\n",
    "# add authorization to our headers dictionary\n",
    "headers = {**headers, **{'Authorization': f\"bearer {token}\"}}"
   ]
  },
  {
   "cell_type": "code",
   "execution_count": 24,
   "id": "northern-individual",
   "metadata": {},
   "outputs": [],
   "source": [
    "res = requests.get(\n",
    "    \"https://oauth.reddit.com/r/popular/hot\",\n",
    "    headers=headers,\n",
    "    params={\"limit\": 10})\n",
    "\n",
    "res_json = res.json()"
   ]
  },
  {
   "cell_type": "code",
   "execution_count": 43,
   "id": "classified-bracket",
   "metadata": {},
   "outputs": [
    {
     "name": "stdout",
     "output_type": "stream",
     "text": [
      "MadeMeSmile\n",
      "CorySellsDaHouse\n",
      "0.94\n",
      "42780\n",
      "418\n",
      "928\n",
      "\n",
      "AskReddit\n",
      "StuieBaratheon\n",
      "0.91\n",
      "20892\n",
      "32\n",
      "8550\n",
      "\n",
      "NatureIsFuckingLit\n",
      "willbl\n",
      "0.98\n",
      "25457\n",
      "99\n",
      "241\n",
      "\n",
      "europe\n",
      "kudos84\n",
      "0.73\n",
      "81249\n",
      "449\n",
      "6045\n",
      "\n",
      "nottheonion\n",
      "PotatoBus\n",
      "0.84\n",
      "53218\n",
      "14\n",
      "5232\n",
      "\n",
      "WhitePeopleTwitter\n",
      "peaches-n-briana\n",
      "0.93\n",
      "23846\n",
      "5\n",
      "491\n",
      "\n",
      "sports\n",
      "yummywaffle12\n",
      "0.82\n",
      "47050\n",
      "136\n",
      "3604\n",
      "\n",
      "funny\n",
      "Armpit_Penguin\n",
      "0.94\n",
      "17174\n",
      "15\n",
      "198\n",
      "\n",
      "unitedkingdom\n",
      "BlackMixen\n",
      "0.88\n",
      "17157\n",
      "35\n",
      "2839\n",
      "\n",
      "CasualUK\n",
      "BlinkVideoEdits\n",
      "0.74\n",
      "15047\n",
      "30\n",
      "2298\n",
      "\n"
     ]
    }
   ],
   "source": [
    "columns = [\"subreddit\", \"author\", \"upvote_ratio\", \"ups\", \"total_awards_received\", \"num_comments\"]\n",
    "\n",
    "\n",
    "for post in res_json[\"data\"][\"children\"]:\n",
    "    for col in columns:\n",
    "        print(post[\"data\"][col])\n",
    "    print()"
   ]
  },
  {
   "cell_type": "code",
   "execution_count": null,
   "id": "casual-server",
   "metadata": {},
   "outputs": [],
   "source": []
  }
 ],
 "metadata": {
  "kernelspec": {
   "display_name": "Python 3",
   "language": "python",
   "name": "python3"
  },
  "language_info": {
   "codemirror_mode": {
    "name": "ipython",
    "version": 3
   },
   "file_extension": ".py",
   "mimetype": "text/x-python",
   "name": "python",
   "nbconvert_exporter": "python",
   "pygments_lexer": "ipython3",
   "version": "3.7.5"
  },
  "latex_envs": {
   "LaTeX_envs_menu_present": true,
   "autoclose": false,
   "autocomplete": true,
   "bibliofile": "biblio.bib",
   "cite_by": "apalike",
   "current_citInitial": 1,
   "eqLabelWithNumbers": true,
   "eqNumInitial": 1,
   "hotkeys": {
    "equation": "Ctrl-E",
    "itemize": "Ctrl-I"
   },
   "labels_anchors": false,
   "latex_user_defs": false,
   "report_style_numbering": false,
   "user_envs_cfg": false
  }
 },
 "nbformat": 4,
 "nbformat_minor": 5
}
