{
 "cells": [
  {
   "cell_type": "code",
   "execution_count": 1,
   "id": "premium-joseph",
   "metadata": {},
   "outputs": [],
   "source": [
    "import pandas as pd\n",
    "import numpy as np\n",
    "\n",
    "import os"
   ]
  },
  {
   "cell_type": "markdown",
   "id": "outstanding-tragedy",
   "metadata": {},
   "source": [
    "## Summary"
   ]
  },
  {
   "cell_type": "markdown",
   "id": "patent-characterization",
   "metadata": {},
   "source": [
    "This notebook is designed to apply necessary transformations to the original data in order to use it for machine learning purposes. The following steps will be applied:\n",
    "\n",
    "- Clean up store duplicates\n",
    "- Drop item sale with negative price\n",
    "- Aggregate item sales on a monthly basis"
   ]
  },
  {
   "cell_type": "code",
   "execution_count": 2,
   "id": "passing-actress",
   "metadata": {},
   "outputs": [],
   "source": [
    "train_df = pd.read_csv(os.path.join(\"..\", \"data\", \"sales_train.csv\"))\n",
    "shop_df = pd.read_csv(os.path.join(\"..\", \"data\", \"shops.csv\"))\n",
    "\n",
    "mod_train_df = train_df.copy()"
   ]
  },
  {
   "cell_type": "markdown",
   "id": "cardiac-peninsula",
   "metadata": {},
   "source": [
    "### Drop store duplicates"
   ]
  },
  {
   "cell_type": "code",
   "execution_count": 3,
   "id": "green-rings",
   "metadata": {},
   "outputs": [
    {
     "data": {
      "text/html": [
       "<div>\n",
       "<style scoped>\n",
       "    .dataframe tbody tr th:only-of-type {\n",
       "        vertical-align: middle;\n",
       "    }\n",
       "\n",
       "    .dataframe tbody tr th {\n",
       "        vertical-align: top;\n",
       "    }\n",
       "\n",
       "    .dataframe thead th {\n",
       "        text-align: right;\n",
       "    }\n",
       "</style>\n",
       "<table border=\"1\" class=\"dataframe\">\n",
       "  <thead>\n",
       "    <tr style=\"text-align: right;\">\n",
       "      <th></th>\n",
       "      <th>shop_name</th>\n",
       "      <th>shop_id</th>\n",
       "    </tr>\n",
       "  </thead>\n",
       "  <tbody>\n",
       "    <tr>\n",
       "      <th>0</th>\n",
       "      <td>!Якутск Орджоникидзе, 56 фран</td>\n",
       "      <td>0</td>\n",
       "    </tr>\n",
       "    <tr>\n",
       "      <th>57</th>\n",
       "      <td>Якутск Орджоникидзе, 56</td>\n",
       "      <td>57</td>\n",
       "    </tr>\n",
       "    <tr>\n",
       "      <th>1</th>\n",
       "      <td>!Якутск ТЦ \"Центральный\" фран</td>\n",
       "      <td>1</td>\n",
       "    </tr>\n",
       "    <tr>\n",
       "      <th>58</th>\n",
       "      <td>Якутск ТЦ \"Центральный\"</td>\n",
       "      <td>58</td>\n",
       "    </tr>\n",
       "    <tr>\n",
       "      <th>10</th>\n",
       "      <td>Жуковский ул. Чкалова 39м?</td>\n",
       "      <td>10</td>\n",
       "    </tr>\n",
       "    <tr>\n",
       "      <th>11</th>\n",
       "      <td>Жуковский ул. Чкалова 39м²</td>\n",
       "      <td>11</td>\n",
       "    </tr>\n",
       "  </tbody>\n",
       "</table>\n",
       "</div>"
      ],
      "text/plain": [
       "                        shop_name  shop_id\n",
       "0   !Якутск Орджоникидзе, 56 фран        0\n",
       "57        Якутск Орджоникидзе, 56       57\n",
       "1   !Якутск ТЦ \"Центральный\" фран        1\n",
       "58        Якутск ТЦ \"Центральный\"       58\n",
       "10     Жуковский ул. Чкалова 39м?       10\n",
       "11     Жуковский ул. Чкалова 39м²       11"
      ]
     },
     "execution_count": 3,
     "metadata": {},
     "output_type": "execute_result"
    }
   ],
   "source": [
    "shop_df.iloc[[0,57,1,58,10,11]]"
   ]
  },
  {
   "cell_type": "code",
   "execution_count": 4,
   "id": "noted-brand",
   "metadata": {},
   "outputs": [],
   "source": [
    "mod_train_df.loc[mod_train_df.shop_id == 0, \"shop_id\"] = 57\n",
    "mod_train_df.loc[mod_train_df.shop_id == 1, \"shop_id\"] = 58\n",
    "mod_train_df.loc[mod_train_df.shop_id == 11, \"shop_id\"] = 10"
   ]
  },
  {
   "cell_type": "markdown",
   "id": "bacterial-beginning",
   "metadata": {},
   "source": [
    "I checked the test set and stores 0, 1 and 11 are not even present in there."
   ]
  },
  {
   "cell_type": "markdown",
   "id": "egyptian-shaft",
   "metadata": {},
   "source": [
    "## Drop negative price items"
   ]
  },
  {
   "cell_type": "code",
   "execution_count": 5,
   "id": "interracial-parking",
   "metadata": {},
   "outputs": [],
   "source": [
    "mod_train_df = mod_train_df.drop(mod_train_df[mod_train_df.item_price < 0].index)"
   ]
  },
  {
   "cell_type": "markdown",
   "id": "inside-bulletin",
   "metadata": {},
   "source": [
    "## Aggregate monthly"
   ]
  },
  {
   "cell_type": "code",
   "execution_count": 6,
   "id": "formal-wealth",
   "metadata": {},
   "outputs": [],
   "source": [
    "mod_train_df = mod_train_df.drop(\"date\", axis=1)\n",
    "\n",
    "mod_train_df = (\n",
    "    mod_train_df\n",
    "    .groupby([\"shop_id\", \"item_id\", \"date_block_num\"])\n",
    "    .agg({\n",
    "        \"item_price\": np.mean,\n",
    "        \"item_cnt_day\": np.sum,\n",
    "    })\n",
    "    .sort_values([\"date_block_num\", \"item_id\"])\n",
    "    .reset_index()\n",
    ")"
   ]
  },
  {
   "cell_type": "code",
   "execution_count": 7,
   "id": "adjacent-seattle",
   "metadata": {},
   "outputs": [
    {
     "data": {
      "text/html": [
       "<div>\n",
       "<style scoped>\n",
       "    .dataframe tbody tr th:only-of-type {\n",
       "        vertical-align: middle;\n",
       "    }\n",
       "\n",
       "    .dataframe tbody tr th {\n",
       "        vertical-align: top;\n",
       "    }\n",
       "\n",
       "    .dataframe thead th {\n",
       "        text-align: right;\n",
       "    }\n",
       "</style>\n",
       "<table border=\"1\" class=\"dataframe\">\n",
       "  <thead>\n",
       "    <tr style=\"text-align: right;\">\n",
       "      <th></th>\n",
       "      <th>shop_id</th>\n",
       "      <th>item_id</th>\n",
       "      <th>date_block_num</th>\n",
       "      <th>item_price</th>\n",
       "      <th>item_cnt_day</th>\n",
       "    </tr>\n",
       "  </thead>\n",
       "  <tbody>\n",
       "    <tr>\n",
       "      <th>0</th>\n",
       "      <td>25</td>\n",
       "      <td>19</td>\n",
       "      <td>0</td>\n",
       "      <td>28.0</td>\n",
       "      <td>1.0</td>\n",
       "    </tr>\n",
       "    <tr>\n",
       "      <th>1</th>\n",
       "      <td>2</td>\n",
       "      <td>27</td>\n",
       "      <td>0</td>\n",
       "      <td>2499.0</td>\n",
       "      <td>1.0</td>\n",
       "    </tr>\n",
       "    <tr>\n",
       "      <th>2</th>\n",
       "      <td>10</td>\n",
       "      <td>27</td>\n",
       "      <td>0</td>\n",
       "      <td>1890.0</td>\n",
       "      <td>1.0</td>\n",
       "    </tr>\n",
       "    <tr>\n",
       "      <th>3</th>\n",
       "      <td>19</td>\n",
       "      <td>27</td>\n",
       "      <td>0</td>\n",
       "      <td>2499.0</td>\n",
       "      <td>1.0</td>\n",
       "    </tr>\n",
       "    <tr>\n",
       "      <th>4</th>\n",
       "      <td>26</td>\n",
       "      <td>27</td>\n",
       "      <td>0</td>\n",
       "      <td>2499.0</td>\n",
       "      <td>1.0</td>\n",
       "    </tr>\n",
       "  </tbody>\n",
       "</table>\n",
       "</div>"
      ],
      "text/plain": [
       "   shop_id  item_id  date_block_num  item_price  item_cnt_day\n",
       "0       25       19               0        28.0           1.0\n",
       "1        2       27               0      2499.0           1.0\n",
       "2       10       27               0      1890.0           1.0\n",
       "3       19       27               0      2499.0           1.0\n",
       "4       26       27               0      2499.0           1.0"
      ]
     },
     "execution_count": 7,
     "metadata": {},
     "output_type": "execute_result"
    }
   ],
   "source": [
    "mod_train_df.head()"
   ]
  },
  {
   "cell_type": "code",
   "execution_count": 8,
   "id": "exact-second",
   "metadata": {},
   "outputs": [],
   "source": [
    "mod_train_df.to_csv(os.path.join(\"..\", \"data\", \"mod_sales_train.csv\"), index=False)"
   ]
  }
 ],
 "metadata": {
  "kernelspec": {
   "display_name": "Python 3",
   "language": "python",
   "name": "python3"
  },
  "language_info": {
   "codemirror_mode": {
    "name": "ipython",
    "version": 3
   },
   "file_extension": ".py",
   "mimetype": "text/x-python",
   "name": "python",
   "nbconvert_exporter": "python",
   "pygments_lexer": "ipython3",
   "version": "3.7.5"
  },
  "latex_envs": {
   "LaTeX_envs_menu_present": true,
   "autoclose": false,
   "autocomplete": true,
   "bibliofile": "biblio.bib",
   "cite_by": "apalike",
   "current_citInitial": 1,
   "eqLabelWithNumbers": true,
   "eqNumInitial": 1,
   "hotkeys": {
    "equation": "Ctrl-E",
    "itemize": "Ctrl-I"
   },
   "labels_anchors": false,
   "latex_user_defs": false,
   "report_style_numbering": false,
   "user_envs_cfg": false
  }
 },
 "nbformat": 4,
 "nbformat_minor": 5
}
